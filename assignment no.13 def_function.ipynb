{
 "cells": [
  {
   "cell_type": "code",
   "execution_count": 3,
   "id": "4c5f7e12",
   "metadata": {},
   "outputs": [],
   "source": [
    "#1. Write a function that calculates the area and perimeter of a \n",
    "#rectangle given its length and width as parameters.\n",
    "def area_and_perimeter():\n",
    "    length = int(input(\"enter length: \"))\n",
    "    width  = int(input(\"enter width : \"))\n",
    "    area_of_rectangle = length * width\n",
    "    perimeter_of_rectangle = (length + width)*2\n",
    "    print(\"area of rectangle\",area_of_rectangle)\n",
    "    print(\"perimeter of rectangle\",perimeter_of_rectangle )"
   ]
  },
  {
   "cell_type": "code",
   "execution_count": 4,
   "id": "b16d6671",
   "metadata": {},
   "outputs": [
    {
     "name": "stdout",
     "output_type": "stream",
     "text": [
      "enter length: 20\n",
      "enter width : 10\n",
      "area of rectangle 200\n",
      "perimeter of rectangle 60\n"
     ]
    }
   ],
   "source": [
    "area_and_perimeter()"
   ]
  },
  {
   "cell_type": "code",
   "execution_count": 12,
   "id": "153a16c4",
   "metadata": {},
   "outputs": [],
   "source": [
    "#2. Create a function that takes an integer as input and returns \"Even\"\n",
    "#if it's even and \"Odd\" if it's odd.\n",
    "def integer():\n",
    "    s = int(input(\"enter the number \"))\n",
    "    if s % 2 == 0:\n",
    "         print(\"even\")\n",
    "    elif s % 2 != 0:\n",
    "        print(\"odd\")"
   ]
  },
  {
   "cell_type": "code",
   "execution_count": 13,
   "id": "a31f0850",
   "metadata": {},
   "outputs": [
    {
     "name": "stdout",
     "output_type": "stream",
     "text": [
      "enter the number 5\n",
      "odd\n"
     ]
    }
   ],
   "source": [
    "integer()"
   ]
  },
  {
   "cell_type": "code",
   "execution_count": 19,
   "id": "351ad48b",
   "metadata": {},
   "outputs": [],
   "source": [
    "#3. Define a function that takes a string as input and returns the\n",
    "#reverse of that string.\n",
    "def string():\n",
    "    s = str(input(\"enter the string : \"))\n",
    "    print(s[::-1])\n"
   ]
  },
  {
   "cell_type": "code",
   "execution_count": 20,
   "id": "1f70e31e",
   "metadata": {},
   "outputs": [
    {
     "name": "stdout",
     "output_type": "stream",
     "text": [
      "enter the string : elamlat\n",
      "talmale\n"
     ]
    }
   ],
   "source": [
    "string()"
   ]
  },
  {
   "cell_type": "code",
   "execution_count": 21,
   "id": "79440dd8",
   "metadata": {},
   "outputs": [],
   "source": [
    "#4. Write a function that takes three numbers as input and returns the \n",
    "#maximum of the three.\n",
    "def maximum(x,y,z):\n",
    "    if x >= y and x >= z:\n",
    "        return x\n",
    "    elif y >= x and y >= z:\n",
    "        return y\n",
    "    elif z >= x and z >= y:\n",
    "        return z\n",
    "     "
   ]
  },
  {
   "cell_type": "code",
   "execution_count": 22,
   "id": "75f85dc9",
   "metadata": {},
   "outputs": [
    {
     "data": {
      "text/plain": [
       "50"
      ]
     },
     "execution_count": 22,
     "metadata": {},
     "output_type": "execute_result"
    }
   ],
   "source": [
    "maximum(10,30,50)"
   ]
  },
  {
   "cell_type": "code",
   "execution_count": 11,
   "id": "33bacde1",
   "metadata": {},
   "outputs": [],
   "source": [
    "#5. Create a function that calculates the factorial of a given\n",
    "#positive integer.\n",
    "def factorial (n):\n",
    "    if n < 0:\n",
    "        print(\"value error please enter positive integer\")\n",
    "    elif n == 0 or n == 1:\n",
    "        return 1\n",
    "    else:\n",
    "        fact = 1\n",
    "        for i in range(2, n+1):\n",
    "            fact *= i\n",
    "        return fact\n",
    "        "
   ]
  },
  {
   "cell_type": "code",
   "execution_count": 12,
   "id": "bfb18365",
   "metadata": {},
   "outputs": [
    {
     "data": {
      "text/plain": [
       "5040"
      ]
     },
     "execution_count": 12,
     "metadata": {},
     "output_type": "execute_result"
    }
   ],
   "source": [
    "factorial(7)\n"
   ]
  },
  {
   "cell_type": "code",
   "execution_count": 25,
   "id": "885c5bf5",
   "metadata": {},
   "outputs": [
    {
     "name": "stdout",
     "output_type": "stream",
     "text": [
      "Is 'radar' a palindrome? True\n"
     ]
    }
   ],
   "source": [
    "#6. Define a function that checks whether a given string is a palindrome\n",
    "#(reads the same backward as forward)\n",
    "def is_palindrome(s):\n",
    "    # Remove spaces and convert to lowercase for case-insensitive comparison\n",
    "    s = ''.join(char.lower() for char in s if char.isalnum())\n",
    "\n",
    "    # Check if the string is equal to its reverse\n",
    "    return s == s[::-1]\n",
    "\n",
    "# Example usage:\n",
    "word = \"radar\"\n",
    "result = is_palindrome(word)\n",
    "print(f\"Is '{word}' a palindrome? {result}\")\n"
   ]
  },
  {
   "cell_type": "code",
   "execution_count": 69,
   "id": "c895874e",
   "metadata": {},
   "outputs": [],
   "source": [
    "#7. Write a function that counts the number of vowels in a given string.\n",
    "def vowels():\n",
    "    word = str(input(\"enter the word : \"))\n",
    "    if word in 'aeiouAEIOU':\n",
    "        print(\"it is vowels\")\n",
    "    elif word in 'bcdfghjklmnpqrstvwxyzBCDFGHJKLMNPQRSTVWXYZ':\n",
    "        print(\"it is not a vowels\")\n",
    "    else:\n",
    "        print(\"it is not a alphabet\")\n",
    "        "
   ]
  },
  {
   "cell_type": "code",
   "execution_count": 70,
   "id": "a594e277",
   "metadata": {},
   "outputs": [
    {
     "name": "stdout",
     "output_type": "stream",
     "text": [
      "enter the word : B\n",
      "it is not a vowels\n"
     ]
    }
   ],
   "source": [
    "vowels()"
   ]
  },
  {
   "cell_type": "code",
   "execution_count": 21,
   "id": "0d75cc74",
   "metadata": {},
   "outputs": [],
   "source": [
    "#8. Create a function that takes two numbers as input, a base and an\n",
    "#exponent, and returns the result of the base raised to the exponent.\n",
    "def power ():\n",
    "    base = int(input(\"enter the base : \"))\n",
    "    exponent = int(input(\"enter the exponent : \"))\n",
    "    result = base ** exponent\n",
    "    print(f'{base} is raised to power of {exponent} : {result}')"
   ]
  },
  {
   "cell_type": "code",
   "execution_count": 22,
   "id": "96498626",
   "metadata": {},
   "outputs": [
    {
     "name": "stdout",
     "output_type": "stream",
     "text": [
      "enter the base : 5\n",
      "enter the exponent : 3\n",
      "5 is raised to power of 3 : 125\n"
     ]
    }
   ],
   "source": [
    "power()"
   ]
  },
  {
   "cell_type": "code",
   "execution_count": 6,
   "id": "d253ea4c",
   "metadata": {},
   "outputs": [],
   "source": [
    "#9. Define a function that takes a list of numbers as input and \n",
    "#returns the sum of all the numbers in the list.\n",
    "def result():\n",
    "    lis = 2,3,4,5,6,7,8,9\n",
    "    lis1 = 0\n",
    "    for i in lis:\n",
    "        lis1 = i + lis1\n",
    "    print(lis1)   "
   ]
  },
  {
   "cell_type": "code",
   "execution_count": 7,
   "id": "74638d81",
   "metadata": {},
   "outputs": [
    {
     "name": "stdout",
     "output_type": "stream",
     "text": [
      "44\n"
     ]
    }
   ],
   "source": [
    "result()"
   ]
  },
  {
   "cell_type": "code",
   "execution_count": 8,
   "id": "8b250d55",
   "metadata": {},
   "outputs": [],
   "source": [
    "#11. Create a function that checks if a given number is prime.\n",
    "def prime():\n",
    "    s = int(input(\"enter the number : \"))\n",
    "    if s % 2 == 0:\n",
    "        print(\"its not a prime number\")\n",
    "    elif s % 2 != 0:\n",
    "        print(\"its a prime number\")"
   ]
  },
  {
   "cell_type": "code",
   "execution_count": 11,
   "id": "3758144a",
   "metadata": {},
   "outputs": [
    {
     "name": "stdout",
     "output_type": "stream",
     "text": [
      "enter the number : 3\n",
      "its a prime number\n"
     ]
    }
   ],
   "source": [
    "prime()"
   ]
  },
  {
   "cell_type": "code",
   "execution_count": 1,
   "id": "9a72a64b",
   "metadata": {},
   "outputs": [],
   "source": [
    "#12. Define a function that calculates the square root of a positive\n",
    "#number using the Newton-Raphson method.\n",
    "import math\n",
    "def squ_root():\n",
    "    n = int(input(\"enter the number : \"))\n",
    "    math.sqrt(n)\n",
    "    "
   ]
  },
  {
   "cell_type": "code",
   "execution_count": 2,
   "id": "7b2f3877",
   "metadata": {},
   "outputs": [
    {
     "name": "stdout",
     "output_type": "stream",
     "text": [
      "enter the number : 5\n"
     ]
    }
   ],
   "source": [
    "squ_root()"
   ]
  },
  {
   "cell_type": "code",
   "execution_count": 30,
   "id": "4a6cc4e8",
   "metadata": {},
   "outputs": [],
   "source": [
    "#13. Write a function that takes a string as input and returns the same\n",
    "#string with all its letters capitalized.\n",
    "def cap():\n",
    "    sentence = str(input(\"enter the sentence : \"))\n",
    "    print(sentence.capitalize())"
   ]
  },
  {
   "cell_type": "code",
   "execution_count": 32,
   "id": "59394ee8",
   "metadata": {},
   "outputs": [
    {
     "name": "stdout",
     "output_type": "stream",
     "text": [
      "enter the sentence : we are learning a python\n",
      "We are learning a python\n"
     ]
    }
   ],
   "source": [
    "cap()"
   ]
  },
  {
   "cell_type": "code",
   "execution_count": 36,
   "id": "8335249e",
   "metadata": {},
   "outputs": [],
   "source": [
    "#14. Create a function that calculates the average of a list of\n",
    "#numbers.\n",
    "def avg_lit():\n",
    "    lis = [2,3,4,5,6,7,8]\n",
    "    result = sum (lis)/ len (lis)\n",
    "    return result\n",
    "    "
   ]
  },
  {
   "cell_type": "code",
   "execution_count": 39,
   "id": "d5608a77",
   "metadata": {},
   "outputs": [
    {
     "data": {
      "text/plain": [
       "5.0"
      ]
     },
     "execution_count": 39,
     "metadata": {},
     "output_type": "execute_result"
    }
   ],
   "source": [
    "avg_lit()"
   ]
  },
  {
   "cell_type": "code",
   "execution_count": 51,
   "id": "4a60bd25",
   "metadata": {},
   "outputs": [],
   "source": [
    "#15. Define a function that checks if a given year is a leap year.\n",
    "def year():\n",
    "    yrs = int(input(\"enter the year : \"))\n",
    "    if yrs % 4 ==0:\n",
    "        print(f'{yrs} is a leap year')\n",
    "    elif yrs % 4 !=0:\n",
    "        print(f'{yrs} is not a leap year')"
   ]
  },
  {
   "cell_type": "code",
   "execution_count": 52,
   "id": "b9fbb214",
   "metadata": {},
   "outputs": [
    {
     "name": "stdout",
     "output_type": "stream",
     "text": [
      "enter the year : 2028\n",
      "2028 is a leap year\n"
     ]
    }
   ],
   "source": [
    "year()"
   ]
  },
  {
   "cell_type": "code",
   "execution_count": 54,
   "id": "9618a4b5",
   "metadata": {},
   "outputs": [],
   "source": [
    "#16. Write a function that takes a list as input and returns a new\n",
    "#list containing only the unique elements.\n",
    "def new():\n",
    "    l = [1,2,3,4,1,2,3,4,6,5,4]\n",
    "    n = set(l)\n",
    "    return list (n)\n",
    "    "
   ]
  },
  {
   "cell_type": "code",
   "execution_count": 55,
   "id": "eac7e309",
   "metadata": {},
   "outputs": [
    {
     "data": {
      "text/plain": [
       "[1, 2, 3, 4, 5, 6]"
      ]
     },
     "execution_count": 55,
     "metadata": {},
     "output_type": "execute_result"
    }
   ],
   "source": [
    "new()"
   ]
  },
  {
   "cell_type": "code",
   "execution_count": 16,
   "id": "c4e5d908",
   "metadata": {},
   "outputs": [],
   "source": [
    "#17. Create a function that takes a positive integer as input and\n",
    "#returns a list of its factors.\n",
    "def find_factors():\n",
    "    s= int(input(\"enter the number \"))\n",
    "    factors = []\n",
    "    if s>0:\n",
    "        for i in range (1,s+1):\n",
    "            if s % i==0:\n",
    "                factors.append(i)\n",
    "        return factors  \n",
    "    else:\n",
    "        print(\"please enter positive number\")\n",
    "    \n",
    "   "
   ]
  },
  {
   "cell_type": "code",
   "execution_count": 18,
   "id": "5d5d4f26",
   "metadata": {},
   "outputs": [
    {
     "name": "stdout",
     "output_type": "stream",
     "text": [
      "enter the number 6\n"
     ]
    },
    {
     "data": {
      "text/plain": [
       "[1, 2, 3, 6]"
      ]
     },
     "execution_count": 18,
     "metadata": {},
     "output_type": "execute_result"
    }
   ],
   "source": [
    "find_factors()"
   ]
  },
  {
   "cell_type": "code",
   "execution_count": 27,
   "id": "62c666a9",
   "metadata": {},
   "outputs": [],
   "source": [
    "#18. Define a function that counts the number of words in a given \n",
    "#sentence.\n",
    "def count_words():\n",
    "    s = str(input(\"enter the sentence : \"))\n",
    "    word = s.split()\n",
    "    r = len(word)\n",
    "    print(f\"The number of words in the sentence is: {r}\")"
   ]
  },
  {
   "cell_type": "code",
   "execution_count": 28,
   "id": "d220afc4",
   "metadata": {},
   "outputs": [
    {
     "name": "stdout",
     "output_type": "stream",
     "text": [
      "enter the sentence : we are hiring for a jobs\n",
      "The number of words in the sentence is: 6\n"
     ]
    }
   ],
   "source": [
    "count_words()"
   ]
  },
  {
   "cell_type": "code",
   "execution_count": 41,
   "id": "1cdd9e2d",
   "metadata": {},
   "outputs": [],
   "source": [
    "#19. Write a function that finds the longest word in a given sentence.\n",
    "def longest_word():\n",
    "    r = str(input(\"enter the sentence: \"))\n",
    "    word = r.split()\n",
    "    long_word = max(word, key = len)\n",
    "    print(f\"The longest word in the sentence is: {long_word}\")"
   ]
  },
  {
   "cell_type": "code",
   "execution_count": 42,
   "id": "a50b8d45",
   "metadata": {},
   "outputs": [
    {
     "name": "stdout",
     "output_type": "stream",
     "text": [
      "enter the sentence: we are hiring for a jobs\n",
      "The longest word in the sentence is: hiring\n"
     ]
    }
   ],
   "source": [
    "longest_word()"
   ]
  },
  {
   "cell_type": "markdown",
   "id": "5fa3f921",
   "metadata": {},
   "source": [
    "### 21. What is the purpose of using functions in a program? The purpose of using functions in a program is to:\n",
    "\n",
    "Organize code: Functions help break down a program into smaller, manageable parts or tasks, making it easier to understand, read, and maintain the code.\n",
    "\n",
    "Reusability: Functions allow the same piece of code to be used multiple times within a program without rewriting it, promoting efficiency and reducing redundancy.\n",
    "\n",
    "Abstraction: Functions hide the implementation details of a specific task, enabling other parts of the program to use the function without needing to know how it's implemented internally."
   ]
  },
  {
   "cell_type": "markdown",
   "id": "ae2d7ad7",
   "metadata": {},
   "source": [
    "### 22. What is the return statement used for in a function?\n",
    "\n",
    "Ans = The return statement in a function is used to specify the value that the function will output or produce when it is called and executed."
   ]
  },
  {
   "cell_type": "markdown",
   "id": "319c76ee",
   "metadata": {},
   "source": [
    "### 23. Can a function have multiple return statements?\n",
    "\n",
    "Ans = yes"
   ]
  },
  {
   "cell_type": "markdown",
   "id": "f07ecf42",
   "metadata": {},
   "source": [
    "### 24. What is the difference between a built-in function and a user-defined function? Built-in Functions:\n",
    "\n",
    "These are functions that are pre-defined and readily available in the programming language. Provided by the language itself or its standard libraries. Examples include print(), len(), max(), min(), etc., which perform various common tasks. They are part of the core functionality of the programming language and can be used without explicitly defining them. User-Defined Functions:\n",
    "\n",
    "These are functions that users create and define according to their specific requirements. Defined by the programmer to perform a particular task or set of tasks. Created using the def keyword in Python (or similar constructs in other languages). Users have control over the functionality, name, parameters, and logic of these functions."
   ]
  },
  {
   "cell_type": "markdown",
   "id": "d036cc1c",
   "metadata": {},
   "source": [
    "### 25. what is the difference between local variable and global variable?\n",
    "Local Variable: Exists within a specific function or block of code. Its scope is limited to that function/block and can't be accessed outside of it.\n",
    "\n",
    "Global Variable: Exists outside of functions or in the global scope. It can be accessed and modified from anywhere in the code, both inside and outside functions."
   ]
  },
  {
   "cell_type": "markdown",
   "id": "7ace9369",
   "metadata": {},
   "source": [
    "### 26. What happens if a return statement is missing in a function?\n",
    "If a return statement is missing in a function, the function will execute its code but won't explicitly return any value. In this case, the function will automatically return None by default."
   ]
  },
  {
   "cell_type": "code",
   "execution_count": null,
   "id": "9527ed4c",
   "metadata": {},
   "outputs": [],
   "source": []
  },
  {
   "cell_type": "code",
   "execution_count": null,
   "id": "4db837aa",
   "metadata": {},
   "outputs": [],
   "source": []
  },
  {
   "cell_type": "code",
   "execution_count": null,
   "id": "42ed6a0d",
   "metadata": {},
   "outputs": [],
   "source": []
  },
  {
   "cell_type": "code",
   "execution_count": null,
   "id": "2a5ab239",
   "metadata": {},
   "outputs": [],
   "source": []
  }
 ],
 "metadata": {
  "kernelspec": {
   "display_name": "Python 3 (ipykernel)",
   "language": "python",
   "name": "python3"
  },
  "language_info": {
   "codemirror_mode": {
    "name": "ipython",
    "version": 3
   },
   "file_extension": ".py",
   "mimetype": "text/x-python",
   "name": "python",
   "nbconvert_exporter": "python",
   "pygments_lexer": "ipython3",
   "version": "3.11.5"
  }
 },
 "nbformat": 4,
 "nbformat_minor": 5
}
