{
 "cells": [
  {
   "cell_type": "code",
   "execution_count": 4,
   "id": "f7fd9072",
   "metadata": {},
   "outputs": [
    {
     "name": "stdout",
     "output_type": "stream",
     "text": [
      "enter the number 0\n",
      "jay mata di\n"
     ]
    }
   ],
   "source": [
    "#1. Write a program that checks whether a given number is positive or\n",
    "#negative or zero.\n",
    "num = int(input('enter the number '))\n",
    "if num>0:\n",
    "    print('positive number')\n",
    "elif num<0:\n",
    "    print('negative number')\n",
    "else:\n",
    "    print('jay mata di')"
   ]
  },
  {
   "cell_type": "code",
   "execution_count": 16,
   "id": "4125723c",
   "metadata": {},
   "outputs": [
    {
     "name": "stdout",
     "output_type": "stream",
     "text": [
      "enter number 65\n",
      "enter number 75\n",
      "75its a larger number compare to 65\n"
     ]
    }
   ],
   "source": [
    "#2. Write a program that compares two numbers and prints the larger one.\n",
    "num  = int(input('enter number '))\n",
    "num2 = int(input('enter number '))\n",
    "if num > num2:\n",
    "    print(f\"{num} it's a larger number compare to {num2}\")\n",
    "elif num < num2:\n",
    "    print(f'{num2}its a larger number compare to {num}')\n",
    "else:\n",
    "    print('invalid input')\n",
    "    \n",
    "    "
   ]
  },
  {
   "cell_type": "code",
   "execution_count": 24,
   "id": "6dcb1e36",
   "metadata": {},
   "outputs": [
    {
     "name": "stdout",
     "output_type": "stream",
     "text": [
      "enter the age 35\n",
      "it's a adult\n"
     ]
    }
   ],
   "source": [
    "#3. Create a program that asks for the user's age and prints whether \n",
    "#they are a child, teenager, or adult.\n",
    "age = int(input(\"enter the age \"))\n",
    "if age <= 15:\n",
    "    print(\"it's a child\")\n",
    "elif 15 <= age <= 30:\n",
    "    print(\"it's a teenager\")\n",
    "else:\n",
    "    print(\"it's a adult\")\n",
    "    "
   ]
  },
  {
   "cell_type": "code",
   "execution_count": 6,
   "id": "e3c6bfeb",
   "metadata": {},
   "outputs": [
    {
     "name": "stdout",
     "output_type": "stream",
     "text": [
      "enter the year 2028\n",
      "it is a leap year\n"
     ]
    }
   ],
   "source": [
    "#4. Write a program that checks if a given year is a leap year.\n",
    "year = int(input(\"enter the year \"))\n",
    "if year % 4== 0 and 100 != 0:\n",
    "    print(\"it is a leap year\")\n",
    "elif year % 100 == 0:  \n",
    "    print(\"it is not laep year\")\n",
    "elif year % 400 == 0:\n",
    "    print(\"it is a laep year\")\n",
    "else:\n",
    "    print(\"it is not leap year\")"
   ]
  },
  {
   "cell_type": "code",
   "execution_count": 9,
   "id": "2de62354",
   "metadata": {},
   "outputs": [
    {
     "name": "stdout",
     "output_type": "stream",
     "text": [
      "enter the number 12\n",
      "enter the number 12\n",
      "it's are equal number\n"
     ]
    }
   ],
   "source": [
    "#5. Create a program that takes two numbers as input and prints whether \n",
    "#they are equal or different.\n",
    "num = int(input(\"enter the number \"))\n",
    "num2= int(input(\"enter the number \"))\n",
    "if num == num2:\n",
    "    print(\"it's are equal number\")\n",
    "else:\n",
    "    print(\"it's are different number\")"
   ]
  },
  {
   "cell_type": "code",
   "execution_count": 1,
   "id": "5f28f46f",
   "metadata": {},
   "outputs": [
    {
     "name": "stdout",
     "output_type": "stream",
     "text": [
      "enter the word A\n",
      "it's a vowel\n"
     ]
    }
   ],
   "source": [
    "#6. Write a program that checks if a given character is a vowel \n",
    "# or a consonant.\n",
    "word = str(input(\"enter the word \"))\n",
    "if word in 'aeiouAEIOU':\n",
    "    print(\"it's a vowel\")\n",
    "elif word in 'bcdfghjklmnpqrstvwxyz':\n",
    "    print(\"it's a consonant\")\n",
    "else:\n",
    "    print(\"it's not an alphabet\")"
   ]
  },
  {
   "cell_type": "code",
   "execution_count": 18,
   "id": "208fafdf",
   "metadata": {},
   "outputs": [
    {
     "name": "stdout",
     "output_type": "stream",
     "text": [
      "total price 2636\n",
      "total price 2372.4\n"
     ]
    }
   ],
   "source": [
    "#7. Create a program that calculates the total price of items in a\n",
    "#shopping cart. Apply a 10% discount if the total exceeds $100.\n",
    "price = [110,120,130,140,150,160,170,180,1236,240]\n",
    "total = 0\n",
    "for i in price:\n",
    "    total=total+i\n",
    "print(\"total price\",total)\n",
    "if total>100:\n",
    "    total=total-0.1*total\n",
    "    print(\"total price\",total)\n",
    "else:\n",
    "    print(\"total price we have to pay\",total)\n",
    "    "
   ]
  },
  {
   "cell_type": "code",
   "execution_count": 8,
   "id": "7c633400",
   "metadata": {},
   "outputs": [
    {
     "name": "stdout",
     "output_type": "stream",
     "text": [
      "enter the number 4\n",
      "it's not a prime number\n"
     ]
    }
   ],
   "source": [
    "#8. Write a program that checks if a given number is prime.\n",
    "n= int(input(\"enter the number \"))             \n",
    "for i in range (2,n):\n",
    "    if n%i==0:\n",
    "        print(\"it's not a prime number\")\n",
    "        break\n",
    "else:\n",
    "    print(\"it's a prime number\")"
   ]
  },
  {
   "cell_type": "code",
   "execution_count": 11,
   "id": "1facb26e",
   "metadata": {},
   "outputs": [
    {
     "name": "stdout",
     "output_type": "stream",
     "text": [
      "enter the weight in kg 55\n",
      "enter the height in meter 180\n",
      "it's a normalweight\n"
     ]
    }
   ],
   "source": [
    "#9. Create a program that calculates the BMI (Body Mass Index) based \n",
    "#on the user's weight and height, and then categorizes it as\n",
    "#underweight, normal weight, overweight, or obese.\n",
    "weight = int(input(\"enter the weight in kg \"))\n",
    "height = int(input(\"enter the height in meter \"))\n",
    "BMI    = weight/height*height\n",
    "if 0<=BMI<=30:\n",
    "    print(\"it's a underweight\")\n",
    "elif 30<=BMI<=60:\n",
    "    print(\"it's a normalweight\")\n",
    "else:\n",
    "    print(\"it's a overweight\")"
   ]
  },
  {
   "cell_type": "code",
   "execution_count": 1,
   "id": "dbb14378",
   "metadata": {},
   "outputs": [
    {
     "name": "stdout",
     "output_type": "stream",
     "text": [
      "enter the range 45\n",
      "The no is above 30\n"
     ]
    }
   ],
   "source": [
    "#10.Build a program that reads a number from the user and identifies\n",
    "#which range it falls into: 1-10, 11-20, 21-30, or above 30.\n",
    "num = int(input(\"enter the range \"))\n",
    "if 1<num<=10:\n",
    "    print(\"The no. is in range of 1-10\")\n",
    "elif 11<num<=20:\n",
    "    print(\"The no. is in range of 11-20\")\n",
    "elif 21<num<=30:\n",
    "    print(\"The no. is in range of 21-30\")\n",
    "else:\n",
    "    print(\"The no is above 30\")   "
   ]
  },
  {
   "cell_type": "code",
   "execution_count": 10,
   "id": "fd8dbac1",
   "metadata": {},
   "outputs": [
    {
     "name": "stdout",
     "output_type": "stream",
     "text": [
      "enter the price 50\n",
      "total price 45.0\n"
     ]
    }
   ],
   "source": [
    "#11.Write a program that calculates the final price of an item \n",
    "#after applying a discount. The discount depends on the item's \n",
    "#original price: 10% for prices below $50, and 20% for prices $50 \n",
    "#and above.\n",
    "price = float(input(\"enter the price \"))\n",
    "if price<=50:\n",
    "    price = price-0.1*price\n",
    "    print(\"total price\",price)\n",
    "elif price>=50:\n",
    "    price = price-0.2*price\n",
    "    print(\"total price\",price)\n"
   ]
  },
  {
   "cell_type": "code",
   "execution_count": 3,
   "id": "697d5d60",
   "metadata": {},
   "outputs": [
    {
     "name": "stdout",
     "output_type": "stream",
     "text": [
      "enter the weight in kg 60\n",
      "enter the height in meter 160\n",
      "it is in overweight\n"
     ]
    }
   ],
   "source": [
    "#12.Write a program that calculates the BMI based on weight and height \n",
    "#inputs, and then categorizes the BMI as \"Underweight,\" \"Normal,\"\n",
    "#\"Overweight,\" or \"Obese.\"\n",
    "weight = float(input(\"enter the weight in kg \"))\n",
    "height = float(input(\"enter the height in meter \"))\n",
    "BMI    = weight/height*height\n",
    "if 0<=BMI<=30:\n",
    "    print(\"it is in underweight\")\n",
    "elif 30<=BMI<=55:\n",
    "    print(\"it is in normalweight\")\n",
    "else:\n",
    "    print(\"it is in overweight\")"
   ]
  },
  {
   "cell_type": "code",
   "execution_count": 5,
   "id": "37b9a84f",
   "metadata": {},
   "outputs": [
    {
     "name": "stdout",
     "output_type": "stream",
     "text": [
      "enter the password : ritik1234\n",
      "it is valid password\n"
     ]
    }
   ],
   "source": [
    "#13.Develop a program that checks the validity of a password. If the \n",
    "#password is at least 8 characters long and contains both letters and \n",
    "#numbers, it's considered valid; otherwise, it's not.\n",
    "password = str(input(\"enter the password : \"))\n",
    "if len(password) > 8 and password.isalnum():\n",
    "    print(\"it is valid password\")\n",
    "else:\n",
    "    print(\"please enter the valid password\")\n",
    "\n"
   ]
  },
  {
   "cell_type": "code",
   "execution_count": 14,
   "id": "aef39363",
   "metadata": {},
   "outputs": [
    {
     "data": {
      "text/plain": [
       "18"
      ]
     },
     "execution_count": 14,
     "metadata": {},
     "output_type": "execute_result"
    }
   ],
   "source": [
    "9+9"
   ]
  },
  {
   "cell_type": "code",
   "execution_count": 31,
   "id": "e7d270b6",
   "metadata": {},
   "outputs": [
    {
     "name": "stdout",
     "output_type": "stream",
     "text": [
      "enter month: 7\n",
      "fall\n"
     ]
    }
   ],
   "source": [
    "month=int(input(\"enter month: \"))\n",
    "if (month==12) or(month ==1 or month==2):\n",
    "    print(\"winter\")\n",
    "elif (month ==3 or month==4) or(month ==5):\n",
    "    print(\"summer\")\n",
    "elif (month ==10 or month==11):\n",
    "    print(\"spring\")\n",
    "else:\n",
    "    print(\"fall\")\n"
   ]
  },
  {
   "cell_type": "code",
   "execution_count": null,
   "id": "246f08bb",
   "metadata": {},
   "outputs": [],
   "source": []
  },
  {
   "cell_type": "code",
   "execution_count": null,
   "id": "0e30227b",
   "metadata": {},
   "outputs": [],
   "source": []
  },
  {
   "cell_type": "code",
   "execution_count": null,
   "id": "3e90ed40",
   "metadata": {},
   "outputs": [],
   "source": []
  },
  {
   "cell_type": "code",
   "execution_count": null,
   "id": "1dce1312",
   "metadata": {},
   "outputs": [],
   "source": []
  },
  {
   "cell_type": "code",
   "execution_count": null,
   "id": "ea792662",
   "metadata": {},
   "outputs": [],
   "source": []
  },
  {
   "cell_type": "code",
   "execution_count": null,
   "id": "7ce0ce44",
   "metadata": {},
   "outputs": [],
   "source": []
  },
  {
   "cell_type": "code",
   "execution_count": null,
   "id": "cd65bb35",
   "metadata": {},
   "outputs": [],
   "source": []
  },
  {
   "cell_type": "code",
   "execution_count": null,
   "id": "be9014e2",
   "metadata": {},
   "outputs": [],
   "source": []
  },
  {
   "cell_type": "code",
   "execution_count": null,
   "id": "8a07f245",
   "metadata": {},
   "outputs": [],
   "source": []
  },
  {
   "cell_type": "code",
   "execution_count": null,
   "id": "56a3adfc",
   "metadata": {},
   "outputs": [],
   "source": []
  },
  {
   "cell_type": "code",
   "execution_count": null,
   "id": "4b981dc5",
   "metadata": {},
   "outputs": [],
   "source": []
  },
  {
   "cell_type": "code",
   "execution_count": null,
   "id": "e7910f85",
   "metadata": {},
   "outputs": [],
   "source": []
  },
  {
   "cell_type": "code",
   "execution_count": null,
   "id": "14300642",
   "metadata": {},
   "outputs": [],
   "source": []
  },
  {
   "cell_type": "code",
   "execution_count": null,
   "id": "d48c30fd",
   "metadata": {},
   "outputs": [],
   "source": []
  },
  {
   "cell_type": "code",
   "execution_count": null,
   "id": "983b2264",
   "metadata": {},
   "outputs": [],
   "source": []
  },
  {
   "cell_type": "code",
   "execution_count": null,
   "id": "ece8e22d",
   "metadata": {},
   "outputs": [],
   "source": []
  },
  {
   "cell_type": "code",
   "execution_count": null,
   "id": "f30e1b61",
   "metadata": {},
   "outputs": [],
   "source": []
  },
  {
   "cell_type": "code",
   "execution_count": null,
   "id": "949ec844",
   "metadata": {},
   "outputs": [],
   "source": []
  }
 ],
 "metadata": {
  "kernelspec": {
   "display_name": "Python 3 (ipykernel)",
   "language": "python",
   "name": "python3"
  },
  "language_info": {
   "codemirror_mode": {
    "name": "ipython",
    "version": 3
   },
   "file_extension": ".py",
   "mimetype": "text/x-python",
   "name": "python",
   "nbconvert_exporter": "python",
   "pygments_lexer": "ipython3",
   "version": "3.11.5"
  }
 },
 "nbformat": 4,
 "nbformat_minor": 5
}
