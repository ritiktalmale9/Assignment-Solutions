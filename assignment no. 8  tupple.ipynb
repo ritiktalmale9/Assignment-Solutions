{
 "cells": [
  {
   "cell_type": "code",
   "execution_count": null,
   "id": "7f8bb973",
   "metadata": {},
   "outputs": [],
   "source": [
    "#1. What is a tuple in programming?\n",
    "# ans:- Python provides another type that is an ordered collection of objects.This type is called a tuple."
   ]
  },
  {
   "cell_type": "code",
   "execution_count": null,
   "id": "bb435dcb",
   "metadata": {},
   "outputs": [],
   "source": [
    "#2. How is a tuple different from a list?\n",
    "# ans:- Tuples are identical to lists in all respects, except for the following properties:\n",
    "\n",
    "# Tuples are defined by enclosing the elements in parentheses (()) instead of square brackets ([]).\n",
    "# Tuples are immutable."
   ]
  },
  {
   "cell_type": "code",
   "execution_count": 4,
   "id": "3cf6ce6c",
   "metadata": {},
   "outputs": [
    {
     "name": "stdout",
     "output_type": "stream",
     "text": [
      "()\n",
      "<class 'tuple'>\n"
     ]
    }
   ],
   "source": [
    "#4. How do you create an empty tuple?\n",
    "p = ()\n",
    "print(p)\n",
    "print(type(p))"
   ]
  },
  {
   "cell_type": "code",
   "execution_count": null,
   "id": "b975bc00",
   "metadata": {},
   "outputs": [],
   "source": [
    "#5. Explain the concept of tuple packing and unpacking.\n",
    "# Packing and unpacking is another thing which is commonly used with tuples.\n"
   ]
  },
  {
   "cell_type": "code",
   "execution_count": 2,
   "id": "baaa1649",
   "metadata": {},
   "outputs": [
    {
     "name": "stdout",
     "output_type": "stream",
     "text": [
      "('apple', 'banana', 'mango')\n"
     ]
    }
   ],
   "source": [
    "#6. Write Python code to create a tuple containing the names of three of \n",
    "# your favorite fruits\n",
    "s = (\"apple\",\"banana\",\"mango\")\n",
    "print(s)     "
   ]
  },
  {
   "cell_type": "code",
   "execution_count": 6,
   "id": "e11eb5c3",
   "metadata": {},
   "outputs": [
    {
     "name": "stdout",
     "output_type": "stream",
     "text": [
      "apple is fruit\n"
     ]
    }
   ],
   "source": [
    "#9. Given two tuples, how would you concatenate them into a single tuple?\n",
    "p = (\"apple \")\n",
    "q = (\"is fruit\")\n",
    "s = p+q\n",
    "print(s)"
   ]
  },
  {
   "cell_type": "code",
   "execution_count": 7,
   "id": "4cff449a",
   "metadata": {},
   "outputs": [
    {
     "name": "stdout",
     "output_type": "stream",
     "text": [
      "enter number45\n",
      "enter number35\n",
      "addition that is 80\n"
     ]
    }
   ],
   "source": [
    "#10.Write a Python code that takes a tuple of numbers as input and returns the sum of those numbers.\n",
    "p = int(input(\"enter number\"))\n",
    "q = int(input(\"enter number\"))\n",
    "s = p+q\n",
    "print(\"addition that is\",s)"
   ]
  },
  {
   "cell_type": "code",
   "execution_count": 15,
   "id": "bbc25e1b",
   "metadata": {},
   "outputs": [
    {
     "name": "stdout",
     "output_type": "stream",
     "text": [
      "name\n",
      "age\n",
      "city\n"
     ]
    }
   ],
   "source": [
    "#11.Given a tuple (name, age, city), how would you unpack it into three separate variables?\n",
    "t = (\"name\",\"age\",\"city\")\n",
    "(green,yellow,blue) = t\n",
    "print(green)\n",
    "print(yellow)\n",
    "print(blue)"
   ]
  },
  {
   "cell_type": "code",
   "execution_count": 20,
   "id": "f19f7e93",
   "metadata": {},
   "outputs": [
    {
     "name": "stdout",
     "output_type": "stream",
     "text": [
      "(2, 3, 4)\n"
     ]
    }
   ],
   "source": [
    "#12.Given a tuple (1, 2, 3, 4, 5), how would you slice it to get a new tuple (2, 3, 4)?\n",
    "r = (1, 2, 3, 4, 5)\n",
    "print(r[1:4:1])"
   ]
  },
  {
   "cell_type": "code",
   "execution_count": 23,
   "id": "5754479e",
   "metadata": {},
   "outputs": [
    {
     "name": "stdout",
     "output_type": "stream",
     "text": [
      "2\n"
     ]
    }
   ],
   "source": [
    "#14.Given a tuple 14.Given a tuple (3, 7, 2, 7, 1), how many times does the number 7 appear?\n",
    "w = (3, 7, 2, 7, 1)\n",
    "x = w.count(7)\n",
    "print(x)"
   ]
  },
  {
   "cell_type": "code",
   "execution_count": 2,
   "id": "146af02a",
   "metadata": {},
   "outputs": [
    {
     "name": "stdout",
     "output_type": "stream",
     "text": [
      "(1, 2, 3, 4, 5, 5, 4, 3, 2, 1)\n"
     ]
    }
   ],
   "source": [
    "#15.Create two tuples: one with the numbers 1 through 5 and another with \n",
    "#the same numbers in reverse order. Then, concatenate these tuples.\n",
    "r = (1,2,3,4,5)\n",
    "q = (5,4,3,2,1)\n",
    "s = r+q\n",
    "print(s)\n"
   ]
  },
  {
   "cell_type": "code",
   "execution_count": 3,
   "id": "b26c9908",
   "metadata": {},
   "outputs": [
    {
     "name": "stdout",
     "output_type": "stream",
     "text": [
      "(20, 30)\n"
     ]
    }
   ],
   "source": [
    "#16.Given a tuple (10, 20, 30, 40, 50), use slicing to extract a new tuple \n",
    "#containing the second and third elements.\n",
    "a = (10, 20, 30, 40, 50)\n",
    "print(a[1:3])"
   ]
  },
  {
   "cell_type": "code",
   "execution_count": 31,
   "id": "cb4d6d2d",
   "metadata": {},
   "outputs": [
    {
     "name": "stdout",
     "output_type": "stream",
     "text": [
      "(15, 20)\n"
     ]
    }
   ],
   "source": [
    "#17.How would you get the last two elements from a tuple (5, 10, 15, 20) using slicing?\n",
    "b = (5, 10, 15, 20)\n",
    "print(b[2:])"
   ]
  },
  {
   "cell_type": "code",
   "execution_count": 37,
   "id": "b5aaed85",
   "metadata": {},
   "outputs": [
    {
     "data": {
      "text/plain": [
       "2"
      ]
     },
     "execution_count": 37,
     "metadata": {},
     "output_type": "execute_result"
    }
   ],
   "source": [
    "#18.Given a tuple (2, 4, 6, 8, 10), find the index of the element 6.\n",
    "c =  (2, 4, 6, 8, 10)\n",
    "c.index(6)"
   ]
  },
  {
   "cell_type": "code",
   "execution_count": 43,
   "id": "20633257",
   "metadata": {},
   "outputs": [
    {
     "name": "stdout",
     "output_type": "stream",
     "text": [
      "[1, 2, 5, 8]\n"
     ]
    }
   ],
   "source": [
    "#19.How would you use the sorted() function to sort a tuple (5, 1, 8, 2) in ascending order?\n",
    "a = (5, 1, 8, 2)\n",
    "s = list(a)\n",
    "s.sort()\n",
    "print(s)\n"
   ]
  },
  {
   "cell_type": "code",
   "execution_count": 48,
   "id": "694a6f38",
   "metadata": {},
   "outputs": [
    {
     "name": "stdout",
     "output_type": "stream",
     "text": [
      "ritik\n",
      "21\n"
     ]
    }
   ],
   "source": [
    "#22.Create a tuple containing your name and age, then unpack it into two variables.\n",
    "s = (\"ritik\",21)\n",
    "(name,age) = s\n",
    "print(name)\n",
    "print(age)"
   ]
  },
  {
   "cell_type": "code",
   "execution_count": 53,
   "id": "8d977ec8",
   "metadata": {},
   "outputs": [
    {
     "name": "stdout",
     "output_type": "stream",
     "text": [
      "3.14\n",
      "apple\n",
      "True\n"
     ]
    }
   ],
   "source": [
    "#23.Given a tuple (3.14, \"apple\", True), how would you unpack it into three variables?\n",
    "a = (3.14, \"apple\", True)\n",
    "(pi,fruit,can) = a\n",
    "print(pi)\n",
    "print(fruit)\n",
    "print(can)"
   ]
  },
  {
   "cell_type": "code",
   "execution_count": null,
   "id": "9b6ec4c0",
   "metadata": {},
   "outputs": [],
   "source": [
    " "
   ]
  },
  {
   "cell_type": "code",
   "execution_count": null,
   "id": "a7ced62a",
   "metadata": {},
   "outputs": [],
   "source": []
  },
  {
   "cell_type": "code",
   "execution_count": null,
   "id": "d2266aa4",
   "metadata": {},
   "outputs": [],
   "source": []
  },
  {
   "cell_type": "code",
   "execution_count": null,
   "id": "a9c0b41c",
   "metadata": {},
   "outputs": [],
   "source": []
  }
 ],
 "metadata": {
  "kernelspec": {
   "display_name": "Python 3 (ipykernel)",
   "language": "python",
   "name": "python3"
  },
  "language_info": {
   "codemirror_mode": {
    "name": "ipython",
    "version": 3
   },
   "file_extension": ".py",
   "mimetype": "text/x-python",
   "name": "python",
   "nbconvert_exporter": "python",
   "pygments_lexer": "ipython3",
   "version": "3.11.5"
  }
 },
 "nbformat": 4,
 "nbformat_minor": 5
}
