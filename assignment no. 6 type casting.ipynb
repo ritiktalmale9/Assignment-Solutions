{
 "cells": [
  {
   "cell_type": "markdown",
   "id": "06cacd6c",
   "metadata": {},
   "source": [
    "### type casting"
   ]
  },
  {
   "cell_type": "code",
   "execution_count": 9,
   "id": "4266d3d8",
   "metadata": {},
   "outputs": [
    {
     "name": "stdout",
     "output_type": "stream",
     "text": [
      "102\n",
      "<class 'str'>\n"
     ]
    }
   ],
   "source": [
    "#1. Write a program that takes an integer as input and converts it into a string. Then, concatenate it with another string and print the result.\n",
    "s=102\n",
    "t=(str(s))\n",
    "print(t)\n",
    "print(type(t))\n"
   ]
  },
  {
   "cell_type": "code",
   "execution_count": 13,
   "id": "e5d316bb",
   "metadata": {},
   "outputs": [
    {
     "name": "stdout",
     "output_type": "stream",
     "text": [
      "12345\n",
      "<class 'int'>\n"
     ]
    }
   ],
   "source": [
    "#2. Write a program that takes a numerical string as input and converts it into an integer. Perform arithmetic operations on the integer and print the results.\n",
    "s=\"12345\"\n",
    "t=(int(s))\n",
    "print(t)\n",
    "print(type(t))\n"
   ]
  },
  {
   "cell_type": "code",
   "execution_count": 3,
   "id": "43235b09",
   "metadata": {},
   "outputs": [
    {
     "name": "stdout",
     "output_type": "stream",
     "text": [
      "445\n",
      "<class 'int'>\n"
     ]
    }
   ],
   "source": [
    "#3. Write a program that takes a float number as input, converts it into an integer, and then prints the integers\n",
    "s=445.365\n",
    "t=(int(s))\n",
    "print(t)\n",
    "print(type(t))"
   ]
  },
  {
   "cell_type": "code",
   "execution_count": 5,
   "id": "64ec3ef4",
   "metadata": {},
   "outputs": [
    {
     "name": "stdout",
     "output_type": "stream",
     "text": [
      "enter the number 12458763\n",
      "enter the number 452\n",
      "27563.0\n"
     ]
    }
   ],
   "source": [
    "#4. Write a program that takes two integers as input, divides them using the integer division operator (//), \n",
    "#converts the result into a float, and prints the float.\n",
    "a = int(input(\"enter the number \"))\n",
    "b = int(input(\"enter the number \"))\n",
    "c = a//b\n",
    "d = float(c)\n",
    "print(d)\n",
    "\n"
   ]
  },
  {
   "cell_type": "code",
   "execution_count": 4,
   "id": "10424057",
   "metadata": {},
   "outputs": [
    {
     "name": "stdout",
     "output_type": "stream",
     "text": [
      "280948.0\n"
     ]
    }
   ],
   "source": [
    "#4. Write a program that takes two integers as input, divides them using the integer division operator (//), converts the result into a float, and prints the float.\n",
    "a=102546331\n",
    "b=365\n",
    "c=a//b\n",
    "d=float(c)\n",
    "print(d) "
   ]
  },
  {
   "cell_type": "code",
   "execution_count": 15,
   "id": "1facd923",
   "metadata": {},
   "outputs": [
    {
     "name": "stdout",
     "output_type": "stream",
     "text": [
      "['1', '23', '45', '56', '67', '78']\n"
     ]
    },
    {
     "ename": "AttributeError",
     "evalue": "'tuple' object has no attribute 'append'",
     "output_type": "error",
     "traceback": [
      "\u001b[1;31m---------------------------------------------------------------------------\u001b[0m",
      "\u001b[1;31mAttributeError\u001b[0m                            Traceback (most recent call last)",
      "Cell \u001b[1;32mIn[15], line 10\u001b[0m\n\u001b[0;32m      8\u001b[0m \u001b[38;5;28;01mfor\u001b[39;00m i \u001b[38;5;129;01min\u001b[39;00m s:\n\u001b[0;32m      9\u001b[0m     n\u001b[38;5;241m=\u001b[39m\u001b[38;5;28mint\u001b[39m(i)\n\u001b[1;32m---> 10\u001b[0m     a\u001b[38;5;241m.\u001b[39mappend(n)\n\u001b[0;32m     11\u001b[0m \u001b[38;5;28mprint\u001b[39m(d)  \n\u001b[0;32m     12\u001b[0m \u001b[38;5;28msum\u001b[39m(d)\n",
      "\u001b[1;31mAttributeError\u001b[0m: 'tuple' object has no attribute 'append'"
     ]
    }
   ],
   "source": [
    "#5. Write a program that takes a comma-separated string of numbers as \n",
    "#input, converts it into a list of integers, and then calculates and\n",
    "#prints the sum of the list.\n"
   ]
  },
  {
   "cell_type": "code",
   "execution_count": null,
   "id": "1003310d",
   "metadata": {},
   "outputs": [],
   "source": []
  },
  {
   "cell_type": "code",
   "execution_count": null,
   "id": "71f682bc",
   "metadata": {},
   "outputs": [],
   "source": []
  },
  {
   "cell_type": "code",
   "execution_count": null,
   "id": "fb82945e",
   "metadata": {},
   "outputs": [],
   "source": []
  },
  {
   "cell_type": "code",
   "execution_count": null,
   "id": "6da268c7",
   "metadata": {},
   "outputs": [],
   "source": []
  },
  {
   "cell_type": "code",
   "execution_count": null,
   "id": "643970a8",
   "metadata": {},
   "outputs": [],
   "source": []
  },
  {
   "cell_type": "code",
   "execution_count": 14,
   "id": "32f8a186",
   "metadata": {},
   "outputs": [
    {
     "name": "stdout",
     "output_type": "stream",
     "text": [
      "[1, 2, 3, 4, 5, 6, 7, 8, 9]\n"
     ]
    },
    {
     "data": {
      "text/plain": [
       "45"
      ]
     },
     "execution_count": 14,
     "metadata": {},
     "output_type": "execute_result"
    }
   ],
   "source": [
    "#11. Write a program that takes a list of strings as input and converts each string into an integer. \n",
    "#Then, calculate and print the sum of all the integers in the list.\n",
    "s = \"1,2,3,4,5,6,7,8,9\"\n",
    "s1 = s.split(\",\")\n",
    "s1\n",
    "a = []\n",
    "for i in s1:\n",
    "    interger=int(i)\n",
    "    a.append(interger)\n",
    "print(a)\n",
    "sum(a)"
   ]
  },
  {
   "cell_type": "code",
   "execution_count": null,
   "id": "f1981663",
   "metadata": {},
   "outputs": [],
   "source": []
  }
 ],
 "metadata": {
  "kernelspec": {
   "display_name": "Python 3 (ipykernel)",
   "language": "python",
   "name": "python3"
  },
  "language_info": {
   "codemirror_mode": {
    "name": "ipython",
    "version": 3
   },
   "file_extension": ".py",
   "mimetype": "text/x-python",
   "name": "python",
   "nbconvert_exporter": "python",
   "pygments_lexer": "ipython3",
   "version": "3.11.5"
  }
 },
 "nbformat": 4,
 "nbformat_minor": 5
}
