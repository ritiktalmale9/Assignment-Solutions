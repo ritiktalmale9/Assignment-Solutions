{
 "cells": [
  {
   "cell_type": "code",
   "execution_count": 11,
   "id": "e9c61d6e",
   "metadata": {},
   "outputs": [
    {
     "name": "stdout",
     "output_type": "stream",
     "text": [
      "enter the number1\n",
      "enter the number20\n",
      "1 is a prime number \n",
      "2 is a prime number \n",
      "3 is a prime number \n",
      "4 is not a prime number \n",
      "5 is a prime number \n",
      "6 is not a prime number \n",
      "7 is a prime number \n",
      "8 is not a prime number \n",
      "9 is not a prime number \n",
      "10 is not a prime number \n",
      "11 is a prime number \n",
      "12 is not a prime number \n",
      "13 is a prime number \n",
      "14 is not a prime number \n",
      "15 is not a prime number \n",
      "16 is not a prime number \n",
      "17 is a prime number \n",
      "18 is not a prime number \n",
      "19 is a prime number \n",
      "20 is not a prime number \n"
     ]
    }
   ],
   "source": [
    "#1. Write a program that uses a while loop to print all prime numbers\n",
    "#between 1 and 20.\n",
    "start = int(input(\"enter the number\"))\n",
    "end = int (input(\"enter the number\"))\n",
    "for t in range(start, end + 1):\n",
    "    for i in range(2,int(t**0.5)+1):\n",
    "            if t % i ==0:\n",
    "                print(f\"{t} is not a prime number \")\n",
    "                break\n",
    "    else:\n",
    "        print(f\"{t} is a prime number \")\n"
   ]
  },
  {
   "cell_type": "code",
   "execution_count": 2,
   "id": "3f877e49",
   "metadata": {},
   "outputs": [
    {
     "name": "stdout",
     "output_type": "stream",
     "text": [
      "The sum of numbers from 1 to 50 is: 1275\n"
     ]
    }
   ],
   "source": [
    "#2. Create a program using a while loop to calculate and display the\n",
    "#sum of numbers from 1 to 50.\n",
    "sum_of_numbers = 0\n",
    "current_number = 1     #initialize\n",
    "while current_number <= 50:\n",
    "    sum_of_numbers += current_number\n",
    "    current_number += 1\n",
    "print(\"The sum of numbers from 1 to 50 is:\", sum_of_numbers)    "
   ]
  },
  {
   "cell_type": "code",
   "execution_count": 8,
   "id": "09a8adfe",
   "metadata": {},
   "outputs": [
    {
     "name": "stdout",
     "output_type": "stream",
     "text": [
      "The square of 1 is: 1\n",
      "The square of 2 is: 4\n",
      "The square of 3 is: 9\n",
      "The square of 4 is: 16\n",
      "The square of 5 is: 25\n",
      "The square of 6 is: 36\n",
      "The square of 7 is: 49\n",
      "The square of 8 is: 64\n",
      "The square of 9 is: 81\n",
      "The square of 10 is: 100\n",
      "The square of 11 is: 121\n",
      "The square of 12 is: 144\n",
      "The square of 13 is: 169\n",
      "The square of 14 is: 196\n",
      "The square of 15 is: 225\n"
     ]
    }
   ],
   "source": [
    "#3. Write a program that uses a while loop to print the square of \n",
    "#numbers from 1 to 15.\n",
    "current_number = 1    #initialize\n",
    "while current_number <= 15:\n",
    "    square = current_number ** 2\n",
    "    print(f\"The square of {current_number} is: {square}\") \n",
    "    current_number += 1"
   ]
  },
  {
   "cell_type": "code",
   "execution_count": 1,
   "id": "70512292",
   "metadata": {},
   "outputs": [
    {
     "name": "stdout",
     "output_type": "stream",
     "text": [
      "10\n",
      "9\n",
      "8\n",
      "7\n",
      "6\n",
      "5\n",
      "4\n",
      "3\n",
      "2\n",
      "1\n"
     ]
    }
   ],
   "source": [
    "#4. Implement a countdown timer using a while loop that starts from\n",
    "#10 and counts down to 0.\n",
    "for i in range(10,0,-1):\n",
    "    print(i)"
   ]
  },
  {
   "cell_type": "code",
   "execution_count": 4,
   "id": "e7082141",
   "metadata": {},
   "outputs": [
    {
     "name": "stdout",
     "output_type": "stream",
     "text": [
      "enter the number 5\n",
      "5*1 = 5\n",
      "5*2 = 10\n",
      "5*3 = 15\n",
      "5*4 = 20\n",
      "5*5 = 25\n",
      "5*6 = 30\n",
      "5*7 = 35\n",
      "5*8 = 40\n",
      "5*9 = 45\n",
      "5*10 = 50\n"
     ]
    }
   ],
   "source": [
    "#6. Create a program that takes a number as input and uses nested \n",
    "# while loops to print its multiplication table up to 10.\n",
    "num = int(input(\"enter the number \"))\n",
    "for i in range(1,11):\n",
    "    multi = i * num\n",
    "    print(f'{num}*{i} = {multi}')"
   ]
  },
  {
   "cell_type": "code",
   "execution_count": 7,
   "id": "d365205e",
   "metadata": {},
   "outputs": [
    {
     "name": "stdout",
     "output_type": "stream",
     "text": [
      "enter the number: 6\n",
      "Factorial: 720\n"
     ]
    }
   ],
   "source": [
    "#7. Write a program using a while loop to find the factorial of a \n",
    "#given number.\n",
    "factorial = 1\n",
    "a = int(input(\"enter the number: \"))\n",
    "for i in range (1,a+1):\n",
    "    factorial = factorial*i\n",
    "print(\"Factorial:\",factorial)"
   ]
  },
  {
   "cell_type": "code",
   "execution_count": 2,
   "id": "5623977c",
   "metadata": {},
   "outputs": [
    {
     "name": "stdout",
     "output_type": "stream",
     "text": [
      "Enter the number of rows: 5\n",
      "* \n",
      "* * \n",
      "* * * \n",
      "* * * * \n",
      "* * * * * \n"
     ]
    }
   ],
   "source": [
    "#8. Implement a program that uses a while loop to print a pattern of \n",
    "#stars in the shape of a right-angled triangle.\n",
    "num_rows = int(input(\"Enter the number of rows: \"))\n",
    "for i in range(1,num_rows + 1):\n",
    "    for j in range(i):\n",
    "        print(\"*\", end=\" \")\n",
    "    print()   ##new line\n"
   ]
  },
  {
   "cell_type": "code",
   "execution_count": 8,
   "id": "c6237c68",
   "metadata": {},
   "outputs": [
    {
     "name": "stdout",
     "output_type": "stream",
     "text": [
      "enter the number: 7\n",
      "7 is a prime number \n"
     ]
    }
   ],
   "source": [
    "#9. Develop a program using a while loop that checks whether a given\n",
    "#number is prime or not.\n",
    "j = int(input(\"enter the number: \"))\n",
    "for i in range (j, j + 1):\n",
    "    for t in range(2,int(i**0.5)+1):\n",
    "        if i % t ==0:\n",
    "            print(f\"{i} is not a prime number \")\n",
    "            break\n",
    "    else:\n",
    "        print(f\"{i} is a prime number \")\n"
   ]
  },
  {
   "cell_type": "code",
   "execution_count": 10,
   "id": "aa2b06f0",
   "metadata": {},
   "outputs": [
    {
     "name": "stdout",
     "output_type": "stream",
     "text": [
      "enter the range: 1050\n",
      "551775\n"
     ]
    }
   ],
   "source": [
    "#10. Create a program using a while loop to calculate and display \n",
    "#the sum of digits of a given number.\n",
    "n = int(input(\"enter the range: \"))\n",
    "total = 0\n",
    "for i in range (1, n + 1):\n",
    "    total = total + i\n",
    "print(total)    "
   ]
  },
  {
   "cell_type": "code",
   "execution_count": 1,
   "id": "dcfe7360",
   "metadata": {},
   "outputs": [
    {
     "name": "stdout",
     "output_type": "stream",
     "text": [
      "enter the current tern number: 2\n",
      "6\n",
      "18\n",
      "54\n",
      "162\n",
      "486\n",
      "1458\n"
     ]
    }
   ],
   "source": [
    "#11. Write a program using a while loop to print the first n terms\n",
    "#of the geometric progression 2, 6, 18, 54, ...\n",
    "progression = []\n",
    "current_term = int(input(\"enter the current tern number: \"))\n",
    "for t in range (6):\n",
    "    progression.append(current_term)\n",
    "    current_term  *=3\n",
    "    print(current_term)"
   ]
  },
  {
   "cell_type": "code",
   "execution_count": 5,
   "id": "7744a076",
   "metadata": {},
   "outputs": [
    {
     "name": "stdout",
     "output_type": "stream",
     "text": [
      "enter the number 2\n",
      "2 * 1 = 2\n",
      "2 * 2 = 4\n",
      "2 * 3 = 6\n",
      "2 * 4 = 8\n",
      "2 * 5 = 10\n",
      "2 * 6 = 12\n",
      "2 * 7 = 14\n",
      "2 * 8 = 16\n",
      "2 * 9 = 18\n",
      "2 * 10 = 20\n"
     ]
    }
   ],
   "source": [
    "#12. Implement a program using nested while loops to generate a\n",
    "#multiplication table for numbers from start to end.\n",
    "num = int(input(\"enter the number \"))\n",
    "for i in range (1, 11):\n",
    "    multi = i * num\n",
    "    print(f\"{num} * {i} = {multi}\")    "
   ]
  },
  {
   "cell_type": "code",
   "execution_count": null,
   "id": "d786e3ed",
   "metadata": {},
   "outputs": [],
   "source": [
    "#14.write a program using for loop and while loop to guess the number \n",
    "#(number guessing game)\n",
    " "
   ]
  },
  {
   "cell_type": "code",
   "execution_count": null,
   "id": "ceb1f967",
   "metadata": {},
   "outputs": [],
   "source": []
  },
  {
   "cell_type": "code",
   "execution_count": null,
   "id": "f1c6a954",
   "metadata": {},
   "outputs": [],
   "source": []
  },
  {
   "cell_type": "code",
   "execution_count": null,
   "id": "827621a6",
   "metadata": {},
   "outputs": [],
   "source": []
  },
  {
   "cell_type": "code",
   "execution_count": null,
   "id": "569fad5d",
   "metadata": {},
   "outputs": [],
   "source": []
  },
  {
   "cell_type": "code",
   "execution_count": null,
   "id": "2c2b0337",
   "metadata": {},
   "outputs": [],
   "source": []
  },
  {
   "cell_type": "code",
   "execution_count": null,
   "id": "3adca81c",
   "metadata": {},
   "outputs": [],
   "source": []
  },
  {
   "cell_type": "code",
   "execution_count": null,
   "id": "25c7aa1f",
   "metadata": {},
   "outputs": [],
   "source": []
  },
  {
   "cell_type": "code",
   "execution_count": null,
   "id": "bec4f521",
   "metadata": {},
   "outputs": [],
   "source": []
  }
 ],
 "metadata": {
  "kernelspec": {
   "display_name": "Python 3 (ipykernel)",
   "language": "python",
   "name": "python3"
  },
  "language_info": {
   "codemirror_mode": {
    "name": "ipython",
    "version": 3
   },
   "file_extension": ".py",
   "mimetype": "text/x-python",
   "name": "python",
   "nbconvert_exporter": "python",
   "pygments_lexer": "ipython3",
   "version": "3.11.5"
  }
 },
 "nbformat": 4,
 "nbformat_minor": 5
}
