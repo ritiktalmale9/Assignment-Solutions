{
 "cells": [
  {
   "cell_type": "markdown",
   "id": "5f58f6ce",
   "metadata": {},
   "source": [
    "### List Functions"
   ]
  },
  {
   "cell_type": "code",
   "execution_count": 3,
   "id": "58b3cfb8",
   "metadata": {},
   "outputs": [
    {
     "data": {
      "text/plain": [
       "8"
      ]
     },
     "execution_count": 3,
     "metadata": {},
     "output_type": "execute_result"
    }
   ],
   "source": [
    "#1. What function can you use to find the length of a list?\n",
    "s=[10,20,30,4,5,6,7,5]\n",
    "len(s)"
   ]
  },
  {
   "cell_type": "code",
   "execution_count": 8,
   "id": "d08be56c",
   "metadata": {},
   "outputs": [
    {
     "name": "stdout",
     "output_type": "stream",
     "text": [
      "[10, 20, 30, 4, 5, 6, 7, 5, 40]\n"
     ]
    }
   ],
   "source": [
    "#2. How can you add an element to the end of a list using a function?\n",
    "s=[10,20,30,4,5,6,7,5]\n",
    "s.append(40)\n",
    "print(s)"
   ]
  },
  {
   "cell_type": "code",
   "execution_count": 9,
   "id": "b73fe6b8",
   "metadata": {},
   "outputs": [
    {
     "name": "stdout",
     "output_type": "stream",
     "text": [
      "[10, 20, 30, 4, 5, 6, 7, 5, 45]\n"
     ]
    }
   ],
   "source": [
    "#3. Describe the purpose of the list.append() function. Provide an example.\n",
    "s=[10,20,30,4,5,6,7,5]\n",
    "s.append(45)\n",
    "print(s)"
   ]
  },
  {
   "cell_type": "code",
   "execution_count": 15,
   "id": "6f47b340",
   "metadata": {},
   "outputs": [
    {
     "name": "stdout",
     "output_type": "stream",
     "text": [
      "[10, 20, 30, 4, 6, 7, 5]\n"
     ]
    }
   ],
   "source": [
    "#4. What is the outcome of using the list.remove() function on a list containing duplicate elements?\n",
    "s=[10,20,30,4,5,6,7,5]\n",
    "s.remove(5)\n",
    "print(s)"
   ]
  },
  {
   "cell_type": "code",
   "execution_count": 19,
   "id": "3e683494",
   "metadata": {},
   "outputs": [
    {
     "name": "stdout",
     "output_type": "stream",
     "text": [
      "[10, 20, 30, 40, 4, 5, 6, 7, 5]\n"
     ]
    }
   ],
   "source": [
    "#5. Explain the purpose of the list.insert() function. Provide an example.\n",
    "s=[10,20,30,4,5,6,7,5]\n",
    "s.insert(3,40)\n",
    "print(s)\n"
   ]
  },
  {
   "cell_type": "code",
   "execution_count": 26,
   "id": "c23c0670",
   "metadata": {},
   "outputs": [
    {
     "data": {
      "text/plain": [
       "2"
      ]
     },
     "execution_count": 26,
     "metadata": {},
     "output_type": "execute_result"
    }
   ],
   "source": [
    "#6. What function can you use to count the occurrences of a specific element in a list?\n",
    "s=[10,20,30,4,5,6,7,5,6,1,2,3,1,5]\n",
    "s.count(6)"
   ]
  },
  {
   "cell_type": "code",
   "execution_count": 28,
   "id": "c4ef9f0d",
   "metadata": {},
   "outputs": [
    {
     "name": "stdout",
     "output_type": "stream",
     "text": [
      "[5, 1, 3, 2, 1, 6, 5, 7, 6, 5, 4, 30, 20, 10]\n"
     ]
    }
   ],
   "source": [
    "#7. How can you reverse the order of elements in a list using a function?\n",
    "s=[10,20,30,4,5,6,7,5,6,1,2,3,1,5]\n",
    "s.reverse()\n",
    "print(s)"
   ]
  },
  {
   "cell_type": "code",
   "execution_count": 37,
   "id": "05ebb32c",
   "metadata": {},
   "outputs": [
    {
     "name": "stdout",
     "output_type": "stream",
     "text": [
      "[1, 1, 2, 3, 4, 5, 5, 5, 6, 6, 7, 10, 20, 30]\n"
     ]
    }
   ],
   "source": [
    "#8. Describe the behavior of the list.sort() function. Provide an example\n",
    "s=[10,20,30,4,5,6,7,5,6,1,2,3,1,5]\n",
    "s.sort()\n",
    "print(s)"
   ]
  },
  {
   "cell_type": "code",
   "execution_count": 38,
   "id": "6783e88a",
   "metadata": {},
   "outputs": [
    {
     "name": "stdout",
     "output_type": "stream",
     "text": [
      "[10, 20, 30, 4, 5, 6, 7, 5, 6, 1, 2, 3, 1, 5, 40, 50, 60]\n"
     ]
    }
   ],
   "source": [
    "#9. Explain the purpose of the list.extend() function. Provide an example.\n",
    "s=[10,20,30,4,5,6,7,5,6,1,2,3,1,5]\n",
    "s.extend([40,50,60])\n",
    "print(s)"
   ]
  },
  {
   "cell_type": "code",
   "execution_count": 42,
   "id": "9cf54850",
   "metadata": {},
   "outputs": [
    {
     "name": "stdout",
     "output_type": "stream",
     "text": [
      "30\n",
      "1\n"
     ]
    }
   ],
   "source": [
    "#10. How can you find the maximum and minimum values in a list using functions? Provide an example for each.\n",
    "s=[10,20,30,4,5,6,7,5,6,1,2,3,1,5]\n",
    "print(max(s))\n",
    "print(min(s))"
   ]
  },
  {
   "cell_type": "code",
   "execution_count": 43,
   "id": "ecf60c7b",
   "metadata": {},
   "outputs": [
    {
     "data": {
      "text/plain": [
       "5"
      ]
     },
     "execution_count": 43,
     "metadata": {},
     "output_type": "execute_result"
    }
   ],
   "source": [
    "#11. Describe the purpose of the list.pop() function. Provide an example.\n",
    "s=[10,20,30,4,5,6,7,5,6,1,2,3,1,5]\n",
    "s.pop()"
   ]
  },
  {
   "cell_type": "code",
   "execution_count": 49,
   "id": "7d1f8116",
   "metadata": {},
   "outputs": [
    {
     "name": "stdout",
     "output_type": "stream",
     "text": [
      "1\n"
     ]
    },
    {
     "data": {
      "text/plain": [
       "0"
      ]
     },
     "execution_count": 49,
     "metadata": {},
     "output_type": "execute_result"
    }
   ],
   "source": [
    "#12. Give difference between count and index.\n",
    "s=[10,20,30,4,5,6,7,5,6,1,2,3,1,5]\n",
    "print(s.count(10))\n",
    "s.index(10)\n"
   ]
  },
  {
   "cell_type": "code",
   "execution_count": null,
   "id": "b87a7f1b",
   "metadata": {},
   "outputs": [],
   "source": []
  }
 ],
 "metadata": {
  "kernelspec": {
   "display_name": "Python 3 (ipykernel)",
   "language": "python",
   "name": "python3"
  },
  "language_info": {
   "codemirror_mode": {
    "name": "ipython",
    "version": 3
   },
   "file_extension": ".py",
   "mimetype": "text/x-python",
   "name": "python",
   "nbconvert_exporter": "python",
   "pygments_lexer": "ipython3",
   "version": "3.11.5"
  }
 },
 "nbformat": 4,
 "nbformat_minor": 5
}
