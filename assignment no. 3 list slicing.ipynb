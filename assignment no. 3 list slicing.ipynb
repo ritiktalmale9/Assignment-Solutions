{
 "cells": [
  {
   "cell_type": "markdown",
   "id": "0c14948f",
   "metadata": {},
   "source": [
    "# assignment of list slicing"
   ]
  },
  {
   "cell_type": "code",
   "execution_count": 3,
   "id": "0edfbea1",
   "metadata": {},
   "outputs": [
    {
     "name": "stdout",
     "output_type": "stream",
     "text": [
      "1\n"
     ]
    }
   ],
   "source": [
    "#1. Given the list numbers = [1, 2, 3, 4, 5], access the first element\n",
    "s=[1,2,3,4,5]\n",
    "print(s[0])  # indexing me box bracket use hota hai []"
   ]
  },
  {
   "cell_type": "code",
   "execution_count": 9,
   "id": "e8a13de6",
   "metadata": {},
   "outputs": [
    {
     "name": "stdout",
     "output_type": "stream",
     "text": [
      "['cherry', 'mango']\n",
      "apple\n",
      "papya\n"
     ]
    }
   ],
   "source": [
    "#2. Create a list fruits = [\"apple\", \"banana\", \"cherry\", \"mango\", \"papya\"] and use indexing to access the third element\n",
    "fruits = [\"apple\", \"banana\", \"cherry\", \"mango\", \"papya\"]\n",
    "print(fruits[2 : -1]) #slicing me box bracket use hota hai sath me [:] (collen) bhi use hota hai \n",
    "#indexing ki starting hamesha 0 se hoti hai aur jo last element hota hai wo -1 se hota hai\n",
    "#ex:- 0 index matlb apple hua aur -1 index mtlb papaya hua\n",
    "print(fruits[0])\n",
    "print(fruits[-1])\n"
   ]
  },
  {
   "cell_type": "code",
   "execution_count": 12,
   "id": "b9538ec1",
   "metadata": {},
   "outputs": [
    {
     "name": "stdout",
     "output_type": "stream",
     "text": [
      "[3, 4, 5]\n"
     ]
    }
   ],
   "source": [
    "#3.Using slicing, extract the sublist [3, 4, 5] from the list my_list = [1, 2, 3, 4, 5, 6, 7, 8, 9, 10]\n",
    "my_list = [1, 2, 3, 4, 5, 6, 7, 8, 9, 10]\n",
    "print(my_list[2:5:1])"
   ]
  },
  {
   "cell_type": "code",
   "execution_count": 14,
   "id": "38de07a6",
   "metadata": {},
   "outputs": [
    {
     "name": "stdout",
     "output_type": "stream",
     "text": [
      "['green', 'blue']\n"
     ]
    }
   ],
   "source": [
    "#4.Given the list colors = [\"red\", \"green\", \"blue\", \"yellow\", \"purple\"], extract the sublist [\"green\", \"blue\"] using slicing\n",
    "colors = [\"red\", \"green\", \"blue\", \"yellow\", \"purple\"]\n",
    "print(colors[1:3])"
   ]
  },
  {
   "cell_type": "code",
   "execution_count": 15,
   "id": "dd3af5a0",
   "metadata": {},
   "outputs": [
    {
     "name": "stdout",
     "output_type": "stream",
     "text": [
      "[87, 90, 92, 78, 95, 88]\n"
     ]
    }
   ],
   "source": [
    "#5. Create a list grades = [87, 92, 78, 95, 88] and modify the second element to be 90\n",
    "grades = [87, 92, 78, 95, 88]\n",
    "grades.insert(1, 90)\n",
    "print (grades)"
   ]
  },
  {
   "cell_type": "code",
   "execution_count": 16,
   "id": "ed94b78d",
   "metadata": {},
   "outputs": [
    {
     "name": "stdout",
     "output_type": "stream",
     "text": [
      "e\n"
     ]
    }
   ],
   "source": [
    "#6. Using negative indexing, access the last element of the list letters = [\"a\", \"b\", \"c\", \"d\", \"e\"].\n",
    "letters = [\"a\", \"b\", \"c\", \"d\", \"e\"]\n",
    "print(letters[-1])"
   ]
  },
  {
   "cell_type": "code",
   "execution_count": 17,
   "id": "ca251362",
   "metadata": {},
   "outputs": [
    {
     "name": "stdout",
     "output_type": "stream",
     "text": [
      "[20, 30, 40]\n"
     ]
    }
   ],
   "source": [
    "#7. Given the list values = [10, 20, 30, 40, 50], use slicing to extract [20, 30, 40]\n",
    "values = [10, 20, 30, 40, 50]\n",
    "print(values[1:4:1])"
   ]
  },
  {
   "cell_type": "code",
   "execution_count": 19,
   "id": "e42a2165",
   "metadata": {},
   "outputs": [
    {
     "name": "stdout",
     "output_type": "stream",
     "text": [
      "['New York', 'Los Angeles', 'dallas', 'Houston', 'Miami']\n"
     ]
    }
   ],
   "source": [
    "#8. Create a list cities = [\"New York\", \"Los Angeles\", \"Chicago\", \"Houston\", \"Miami\"] and replace the third element with \"Dallas\"\n",
    "cities = [\"New York\", \"Los Angeles\", \"Chicago\", \"Houston\", \"Miami\"]\n",
    "cities[2] = 'dallas'\n",
    "print(cities)"
   ]
  },
  {
   "cell_type": "code",
   "execution_count": 20,
   "id": "b34a2013",
   "metadata": {},
   "outputs": [
    {
     "name": "stdout",
     "output_type": "stream",
     "text": [
      "[1, 2, 3, 4, 5]\n"
     ]
    }
   ],
   "source": [
    "#Using list slicing, reverse the list [5, 4, 3, 2, 1].\n",
    "list=[5, 4, 3, 2, 1]\n",
    "print(list[::-1])"
   ]
  },
  {
   "cell_type": "code",
   "execution_count": 24,
   "id": "e4d1e897",
   "metadata": {},
   "outputs": [
    {
     "name": "stdout",
     "output_type": "stream",
     "text": [
      "['Bob', 'Charlie', 'David']\n"
     ]
    }
   ],
   "source": [
    "#10. Given the list names = [\"Alice\", \"Bob\", \"Charlie\", \"David\", \"Eve\"], extract the sublist [\"Bob\", \"Charlie\", \"David\"] using slicing\n",
    "names = [\"Alice\", \"Bob\", \"Charlie\", \"David\", \"Eve\"]\n",
    "print(names[1:4:1])\n",
    "    "
   ]
  },
  {
   "cell_type": "code",
   "execution_count": null,
   "id": "43e3d912",
   "metadata": {},
   "outputs": [],
   "source": []
  },
  {
   "cell_type": "code",
   "execution_count": null,
   "id": "6ba7e31a",
   "metadata": {},
   "outputs": [],
   "source": []
  },
  {
   "cell_type": "code",
   "execution_count": null,
   "id": "b29e6a19",
   "metadata": {},
   "outputs": [],
   "source": []
  },
  {
   "cell_type": "code",
   "execution_count": null,
   "id": "7ed5348d",
   "metadata": {},
   "outputs": [],
   "source": []
  },
  {
   "cell_type": "code",
   "execution_count": null,
   "id": "26774d47",
   "metadata": {},
   "outputs": [],
   "source": []
  },
  {
   "cell_type": "code",
   "execution_count": null,
   "id": "51eab6a3",
   "metadata": {},
   "outputs": [],
   "source": []
  },
  {
   "cell_type": "code",
   "execution_count": null,
   "id": "40b40dcc",
   "metadata": {},
   "outputs": [],
   "source": []
  },
  {
   "cell_type": "code",
   "execution_count": null,
   "id": "ccfcc292",
   "metadata": {},
   "outputs": [],
   "source": []
  },
  {
   "cell_type": "code",
   "execution_count": null,
   "id": "666d48a1",
   "metadata": {},
   "outputs": [],
   "source": []
  },
  {
   "cell_type": "code",
   "execution_count": null,
   "id": "1f756dc5",
   "metadata": {},
   "outputs": [],
   "source": []
  },
  {
   "cell_type": "code",
   "execution_count": null,
   "id": "2e3817c5",
   "metadata": {},
   "outputs": [],
   "source": []
  },
  {
   "cell_type": "code",
   "execution_count": null,
   "id": "5ec88234",
   "metadata": {},
   "outputs": [],
   "source": []
  },
  {
   "cell_type": "code",
   "execution_count": null,
   "id": "3fe99e66",
   "metadata": {},
   "outputs": [],
   "source": []
  },
  {
   "cell_type": "code",
   "execution_count": null,
   "id": "1842da0c",
   "metadata": {},
   "outputs": [],
   "source": []
  },
  {
   "cell_type": "code",
   "execution_count": null,
   "id": "07bde205",
   "metadata": {},
   "outputs": [],
   "source": []
  },
  {
   "cell_type": "code",
   "execution_count": null,
   "id": "011e5e0a",
   "metadata": {},
   "outputs": [],
   "source": []
  },
  {
   "cell_type": "code",
   "execution_count": null,
   "id": "47b3ef7a",
   "metadata": {},
   "outputs": [],
   "source": []
  },
  {
   "cell_type": "code",
   "execution_count": null,
   "id": "0bf3b9f3",
   "metadata": {},
   "outputs": [],
   "source": []
  },
  {
   "cell_type": "code",
   "execution_count": null,
   "id": "34340d7a",
   "metadata": {},
   "outputs": [],
   "source": [
    "#3.Using slicing, extract the sublist [3, 4, 5] from the list my_list = [1, 2, 3, 4, 5, 6, 7, 8, 9, 10]"
   ]
  }
 ],
 "metadata": {
  "kernelspec": {
   "display_name": "Python 3 (ipykernel)",
   "language": "python",
   "name": "python3"
  },
  "language_info": {
   "codemirror_mode": {
    "name": "ipython",
    "version": 3
   },
   "file_extension": ".py",
   "mimetype": "text/x-python",
   "name": "python",
   "nbconvert_exporter": "python",
   "pygments_lexer": "ipython3",
   "version": "3.11.5"
  }
 },
 "nbformat": 4,
 "nbformat_minor": 5
}
