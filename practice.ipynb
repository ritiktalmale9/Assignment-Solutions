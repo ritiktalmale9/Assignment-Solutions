{
 "cells": [
  {
   "cell_type": "code",
   "execution_count": 3,
   "id": "e048d287",
   "metadata": {},
   "outputs": [],
   "source": [
    "import math"
   ]
  },
  {
   "cell_type": "code",
   "execution_count": 4,
   "id": "7d136506",
   "metadata": {},
   "outputs": [
    {
     "name": "stdout",
     "output_type": "stream",
     "text": [
      "['__doc__', '__loader__', '__name__', '__package__', '__spec__', 'acos', 'acosh', 'asin', 'asinh', 'atan', 'atan2', 'atanh', 'cbrt', 'ceil', 'comb', 'copysign', 'cos', 'cosh', 'degrees', 'dist', 'e', 'erf', 'erfc', 'exp', 'exp2', 'expm1', 'fabs', 'factorial', 'floor', 'fmod', 'frexp', 'fsum', 'gamma', 'gcd', 'hypot', 'inf', 'isclose', 'isfinite', 'isinf', 'isnan', 'isqrt', 'lcm', 'ldexp', 'lgamma', 'log', 'log10', 'log1p', 'log2', 'modf', 'nan', 'nextafter', 'perm', 'pi', 'pow', 'prod', 'radians', 'remainder', 'sin', 'sinh', 'sqrt', 'tan', 'tanh', 'tau', 'trunc', 'ulp']\n"
     ]
    }
   ],
   "source": [
    "print(dir(math))"
   ]
  },
  {
   "cell_type": "code",
   "execution_count": 5,
   "id": "623c25d2",
   "metadata": {},
   "outputs": [
    {
     "data": {
      "text/plain": [
       "3.141592653589793"
      ]
     },
     "execution_count": 5,
     "metadata": {},
     "output_type": "execute_result"
    }
   ],
   "source": [
    "math.pi"
   ]
  },
  {
   "cell_type": "code",
   "execution_count": 6,
   "id": "84faad13",
   "metadata": {},
   "outputs": [
    {
     "name": "stdout",
     "output_type": "stream",
     "text": [
      "enter radius 45\n",
      "area of circle 6361.725123519332\n"
     ]
    }
   ],
   "source": [
    "radius=int(input(\"enter radius \"))\n",
    "area_of_circle=math.pi*radius*radius\n",
    "print(\"area of circle\",area_of_circle)"
   ]
  },
  {
   "cell_type": "code",
   "execution_count": 9,
   "id": "fe869d27",
   "metadata": {},
   "outputs": [
    {
     "name": "stdout",
     "output_type": "stream",
     "text": [
      "area of circle 6361.725123519332\n"
     ]
    }
   ],
   "source": [
    "radius=45\n",
    "area_of_circle=math.pi*radius*radius\n",
    "print(\"area of circle\",area_of_circle)\n"
   ]
  },
  {
   "cell_type": "markdown",
   "id": "7899c487",
   "metadata": {},
   "source": [
    "### current datetime"
   ]
  },
  {
   "cell_type": "code",
   "execution_count": 5,
   "id": "b98122ba",
   "metadata": {},
   "outputs": [],
   "source": [
    "import datetime"
   ]
  },
  {
   "cell_type": "code",
   "execution_count": 7,
   "id": "b142f5da",
   "metadata": {},
   "outputs": [
    {
     "name": "stdout",
     "output_type": "stream",
     "text": [
      "2023-12-14 12:11:53.530257\n"
     ]
    }
   ],
   "source": [
    "current_datetime=datetime.datetime.now()\n",
    "print(current_datetime)"
   ]
  },
  {
   "cell_type": "code",
   "execution_count": 9,
   "id": "88beae6e",
   "metadata": {},
   "outputs": [
    {
     "name": "stdout",
     "output_type": "stream",
     "text": [
      "58\n"
     ]
    }
   ],
   "source": [
    "a=23\n",
    "b=35\n",
    "c=a+b\n",
    "print(c)"
   ]
  },
  {
   "cell_type": "code",
   "execution_count": 10,
   "id": "20f412ab",
   "metadata": {},
   "outputs": [
    {
     "name": "stdout",
     "output_type": "stream",
     "text": [
      "3.6747967479674797\n"
     ]
    }
   ],
   "source": [
    "a=452\n",
    "b=123\n",
    "c=a/b\n",
    "print(c)"
   ]
  },
  {
   "cell_type": "code",
   "execution_count": 1,
   "id": "16e842b6",
   "metadata": {},
   "outputs": [
    {
     "name": "stdout",
     "output_type": "stream",
     "text": [
      "enter a 458\n",
      "enter b 235\n",
      "693\n"
     ]
    }
   ],
   "source": [
    "a=int(input(\"enter a \"))\n",
    "b=int(input(\"enter b \"))\n",
    "c=a+b\n",
    "print(c )"
   ]
  },
  {
   "cell_type": "code",
   "execution_count": 17,
   "id": "29e840b0",
   "metadata": {},
   "outputs": [
    {
     "data": {
      "text/plain": [
       "'14/Dec/2023 12.11.53'"
      ]
     },
     "execution_count": 17,
     "metadata": {},
     "output_type": "execute_result"
    }
   ],
   "source": [
    "current_datetime.strftime(\"%d/%b/%Y %H.%M.%S\")"
   ]
  },
  {
   "cell_type": "code",
   "execution_count": 7,
   "id": "dce00b2d",
   "metadata": {},
   "outputs": [
    {
     "name": "stdout",
     "output_type": "stream",
     "text": [
      "Python 3.11.5\n"
     ]
    }
   ],
   "source": [
    "!python --version"
   ]
  },
  {
   "cell_type": "code",
   "execution_count": 8,
   "id": "46d54fd6",
   "metadata": {},
   "outputs": [
    {
     "name": "stdout",
     "output_type": "stream",
     "text": [
      "Selected Jupyter core packages...\n",
      "IPython          : 8.15.0\n",
      "ipykernel        : 6.25.0\n",
      "ipywidgets       : 8.0.4\n",
      "jupyter_client   : 7.4.9\n",
      "jupyter_core     : 5.3.0\n",
      "jupyter_server   : 1.23.4\n",
      "jupyterlab       : 3.6.3\n",
      "nbclient         : 0.5.13\n",
      "nbconvert        : 6.5.4\n",
      "nbformat         : 5.9.2\n",
      "notebook         : 6.5.4\n",
      "qtconsole        : 5.4.2\n",
      "traitlets        : 5.7.1\n"
     ]
    }
   ],
   "source": [
    "!jupyter --version"
   ]
  },
  {
   "cell_type": "code",
   "execution_count": 4,
   "id": "cac2c4be",
   "metadata": {},
   "outputs": [
    {
     "name": "stdout",
     "output_type": "stream",
     "text": [
      "enter the input my name is\n",
      "my name is ritik\n"
     ]
    }
   ],
   "source": [
    "n = str(input(\"enter the input \"))\n",
    "n1= \"ritik\"\n",
    "print(f\"{n} {n1}\")"
   ]
  },
  {
   "cell_type": "code",
   "execution_count": 21,
   "id": "0c4eae56",
   "metadata": {},
   "outputs": [
    {
     "name": "stdout",
     "output_type": "stream",
     "text": [
      "ritik talmale \n"
     ]
    }
   ],
   "source": [
    "n= \"talmale \"\n",
    "n1= \"ritik \" \n",
    "new= n1 + n\n",
    "print(new)"
   ]
  },
  {
   "cell_type": "code",
   "execution_count": 22,
   "id": "84b7bf05",
   "metadata": {},
   "outputs": [
    {
     "data": {
      "text/plain": [
       "14"
      ]
     },
     "execution_count": 22,
     "metadata": {},
     "output_type": "execute_result"
    }
   ],
   "source": [
    "len(new)"
   ]
  },
  {
   "cell_type": "code",
   "execution_count": 17,
   "id": "463747fb",
   "metadata": {},
   "outputs": [
    {
     "data": {
      "text/plain": [
       "True"
      ]
     },
     "execution_count": 17,
     "metadata": {},
     "output_type": "execute_result"
    }
   ],
   "source": [
    "n=12\n",
    "n1=14\n",
    "n < n1"
   ]
  },
  {
   "cell_type": "code",
   "execution_count": 23,
   "id": "9b11b469",
   "metadata": {},
   "outputs": [
    {
     "data": {
      "text/plain": [
       "'t'"
      ]
     },
     "execution_count": 23,
     "metadata": {},
     "output_type": "execute_result"
    }
   ],
   "source": [
    "new[6]"
   ]
  },
  {
   "cell_type": "code",
   "execution_count": 24,
   "id": "7f3beabd",
   "metadata": {},
   "outputs": [
    {
     "data": {
      "text/plain": [
       "'ritik talmale ritik talmale ritik talmale ritik talmale ritik talmale '"
      ]
     },
     "execution_count": 24,
     "metadata": {},
     "output_type": "execute_result"
    }
   ],
   "source": [
    "new * 5"
   ]
  },
  {
   "cell_type": "code",
   "execution_count": 26,
   "id": "88398c71",
   "metadata": {},
   "outputs": [
    {
     "data": {
      "text/plain": [
       "True"
      ]
     },
     "execution_count": 26,
     "metadata": {},
     "output_type": "execute_result"
    }
   ],
   "source": [
    "s = \"ritik\"\n",
    "s in \"ritik vinod  talmale\""
   ]
  },
  {
   "cell_type": "code",
   "execution_count": 27,
   "id": "476de928",
   "metadata": {},
   "outputs": [
    {
     "name": "stdout",
     "output_type": "stream",
     "text": [
      "MY NAME RITIK\n"
     ]
    }
   ],
   "source": [
    "s= \"my name ritik\"\n",
    "print(s.upper())"
   ]
  },
  {
   "cell_type": "code",
   "execution_count": 28,
   "id": "b6d8a329",
   "metadata": {},
   "outputs": [
    {
     "name": "stdout",
     "output_type": "stream",
     "text": [
      "my name ritik\n"
     ]
    }
   ],
   "source": [
    "s1= \"MY NAME IS RITIK\"\n",
    "print(s.lower())"
   ]
  },
  {
   "cell_type": "code",
   "execution_count": 29,
   "id": "e4d3f030",
   "metadata": {},
   "outputs": [
    {
     "name": "stdout",
     "output_type": "stream",
     "text": [
      "My name is ritik\n"
     ]
    }
   ],
   "source": [
    "s2= \"my name is ritik\"\n",
    "print(s2.capitalize())\n"
   ]
  },
  {
   "cell_type": "code",
   "execution_count": 30,
   "id": "9bfc0e81",
   "metadata": {},
   "outputs": [
    {
     "name": "stdout",
     "output_type": "stream",
     "text": [
      "My Name Is Ritik\n"
     ]
    }
   ],
   "source": [
    "s3= \"my name is ritik\"\n",
    "print(s3.title())\n"
   ]
  },
  {
   "cell_type": "code",
   "execution_count": 32,
   "id": "26a07830",
   "metadata": {},
   "outputs": [
    {
     "data": {
      "text/plain": [
       "'my name is prathmesh'"
      ]
     },
     "execution_count": 32,
     "metadata": {},
     "output_type": "execute_result"
    }
   ],
   "source": [
    "s3= \"my name is ritik\"\n",
    "s3.replace(\"ritik\",\"prathmesh\")\n",
    "\n"
   ]
  },
  {
   "cell_type": "code",
   "execution_count": 33,
   "id": "f7331af1",
   "metadata": {},
   "outputs": [
    {
     "data": {
      "text/plain": [
       "3"
      ]
     },
     "execution_count": 33,
     "metadata": {},
     "output_type": "execute_result"
    }
   ],
   "source": [
    "s3= \"my name is ritik\"\n",
    "s3.count(\"i\")"
   ]
  },
  {
   "cell_type": "code",
   "execution_count": 36,
   "id": "82627481",
   "metadata": {},
   "outputs": [
    {
     "name": "stdout",
     "output_type": "stream",
     "text": [
      "True\n"
     ]
    }
   ],
   "source": [
    "s = \"ritiktalmale9547\"\n",
    "print(s.isalnum())"
   ]
  },
  {
   "cell_type": "code",
   "execution_count": 40,
   "id": "1d2f03cb",
   "metadata": {},
   "outputs": [
    {
     "data": {
      "text/plain": [
       "'e hi'"
      ]
     },
     "execution_count": 40,
     "metadata": {},
     "output_type": "execute_result"
    }
   ],
   "source": [
    "s= \"we hiring from\"\n",
    "s[1:5]"
   ]
  },
  {
   "cell_type": "code",
   "execution_count": 42,
   "id": "94a64175",
   "metadata": {},
   "outputs": [
    {
     "data": {
      "text/plain": [
       "\"'we hiring from'\""
      ]
     },
     "execution_count": 42,
     "metadata": {},
     "output_type": "execute_result"
    }
   ],
   "source": [
    "s= \"'morf gnirih ew'\"\n",
    "s[::-1]"
   ]
  },
  {
   "cell_type": "code",
   "execution_count": 2,
   "id": "94e19e63",
   "metadata": {},
   "outputs": [
    {
     "data": {
      "text/plain": [
       "'a '"
      ]
     },
     "execution_count": 2,
     "metadata": {},
     "output_type": "execute_result"
    }
   ],
   "source": [
    "s= \"we are hiring from\"\n",
    "s[3:7:3]"
   ]
  },
  {
   "cell_type": "code",
   "execution_count": 6,
   "id": "0d9839b5",
   "metadata": {},
   "outputs": [
    {
     "name": "stdout",
     "output_type": "stream",
     "text": [
      "enter the input my name is \n",
      "my name is  ritik\n"
     ]
    }
   ],
   "source": [
    "s=str(input(\"enter the input \"))\n",
    "s2= \"ritik\"\n",
    "print(f\"{s} {s2}\")"
   ]
  },
  {
   "cell_type": "code",
   "execution_count": 7,
   "id": "f1c7c267",
   "metadata": {},
   "outputs": [
    {
     "name": "stdout",
     "output_type": "stream",
     "text": [
      "enter the input my name is\n",
      "my name is chandu \n"
     ]
    }
   ],
   "source": [
    "b=str(input(\"enter the input \"))\n",
    "a= \"chandu\"\n",
    "print(f\"{b} {a} \")"
   ]
  },
  {
   "cell_type": "code",
   "execution_count": 9,
   "id": "6fc0dc9e",
   "metadata": {},
   "outputs": [
    {
     "name": "stdout",
     "output_type": "stream",
     "text": [
      "True\n"
     ]
    }
   ],
   "source": [
    "s=\"ritiktalmale9547\"\n",
    "print(s.isalnum())"
   ]
  },
  {
   "cell_type": "code",
   "execution_count": 3,
   "id": "111e266d",
   "metadata": {},
   "outputs": [
    {
     "name": "stdout",
     "output_type": "stream",
     "text": [
      "True\n"
     ]
    }
   ],
   "source": [
    "s = \"9547\"\n",
    "print(s.isdigit())"
   ]
  },
  {
   "cell_type": "code",
   "execution_count": 5,
   "id": "ddd0e15c",
   "metadata": {},
   "outputs": [
    {
     "name": "stdout",
     "output_type": "stream",
     "text": [
      "True\n"
     ]
    }
   ],
   "source": [
    "s= \"RITIKTALMALE\"\n",
    "print(s.isupper())"
   ]
  },
  {
   "cell_type": "code",
   "execution_count": 6,
   "id": "9adde212",
   "metadata": {},
   "outputs": [
    {
     "name": "stdout",
     "output_type": "stream",
     "text": [
      "True\n"
     ]
    }
   ],
   "source": [
    "s=\"ritik\"\n",
    "print(s.islower())"
   ]
  },
  {
   "cell_type": "code",
   "execution_count": 8,
   "id": "d0ea75e5",
   "metadata": {},
   "outputs": [
    {
     "name": "stdout",
     "output_type": "stream",
     "text": [
      "True\n"
     ]
    }
   ],
   "source": [
    "s=\"      \"\n",
    "print(s.isspace())"
   ]
  },
  {
   "cell_type": "code",
   "execution_count": 2,
   "id": "5895bb96",
   "metadata": {},
   "outputs": [
    {
     "name": "stdout",
     "output_type": "stream",
     "text": [
      "chandugainwar \n"
     ]
    }
   ],
   "source": [
    "n=\"chandu\"\n",
    "n1= \"gainwar \"\n",
    "new= n + n1 \n",
    "print (new)"
   ]
  },
  {
   "cell_type": "markdown",
   "id": "0d10a815",
   "metadata": {},
   "source": [
    "### f string method"
   ]
  },
  {
   "cell_type": "code",
   "execution_count": 24,
   "id": "cff2fe37",
   "metadata": {},
   "outputs": [
    {
     "name": "stdout",
     "output_type": "stream",
     "text": [
      "enter the input my name is\n",
      " my name is ritik\n"
     ]
    }
   ],
   "source": [
    "n=str(input(\"enter the input\"))\n",
    "n2=\"ritik\"\n",
    "print(f\"{n} {n2}\")"
   ]
  },
  {
   "cell_type": "markdown",
   "id": "2cd642c1",
   "metadata": {},
   "source": [
    "### Escape characters"
   ]
  },
  {
   "cell_type": "code",
   "execution_count": 27,
   "id": "38305cdd",
   "metadata": {},
   "outputs": [
    {
     "name": "stdout",
     "output_type": "stream",
     "text": [
      "we are hiring from \"ipcs\" academy nagpur\n"
     ]
    }
   ],
   "source": [
    "l= \"we are hiring from \\\"ipcs\\\" academy nagpur\"\n",
    "print(l)"
   ]
  },
  {
   "cell_type": "code",
   "execution_count": 31,
   "id": "73da9aff",
   "metadata": {},
   "outputs": [
    {
     "name": "stdout",
     "output_type": "stream",
     "text": [
      "we are hiring from \r",
      " ipcs academy nagpur\n"
     ]
    }
   ],
   "source": [
    "l= \"we are hiring from \\r ipcs academy nagpur\"\n",
    "print(l)"
   ]
  },
  {
   "cell_type": "code",
   "execution_count": 35,
   "id": "312c6fe3",
   "metadata": {},
   "outputs": [
    {
     "name": "stdout",
     "output_type": "stream",
     "text": [
      "we are hiring from ipcs academy \"nagpur\"\n"
     ]
    }
   ],
   "source": [
    "l= \"we are hiring from ipcs academy \\\"nagpur\\\"\"\n",
    "print(l)"
   ]
  },
  {
   "cell_type": "code",
   "execution_count": 37,
   "id": "b5cf9ea8",
   "metadata": {},
   "outputs": [
    {
     "name": "stdout",
     "output_type": "stream",
     "text": [
      "we are hiring from \t ipcs academy nagpur\n"
     ]
    }
   ],
   "source": [
    "l= \"we are hiring from \\t ipcs academy nagpur\"\n",
    "print(l)"
   ]
  },
  {
   "cell_type": "code",
   "execution_count": 38,
   "id": "9b2ee6d2",
   "metadata": {},
   "outputs": [
    {
     "name": "stdout",
     "output_type": "stream",
     "text": [
      "we are hiring from \b ipcs academy nagpur\n"
     ]
    }
   ],
   "source": [
    "l= \"we are hiring from \\b ipcs academy nagpur\"\n",
    "print(l)"
   ]
  },
  {
   "cell_type": "markdown",
   "id": "e2b20a69",
   "metadata": {},
   "source": [
    "### slicing method"
   ]
  },
  {
   "cell_type": "code",
   "execution_count": 41,
   "id": "5536c9aa",
   "metadata": {},
   "outputs": [
    {
     "name": "stdout",
     "output_type": "stream",
     "text": [
      "(2,)\n"
     ]
    }
   ],
   "source": [
    "l=(1,2,3,4,5,6,)\n",
    "print(l[1:2:3])"
   ]
  },
  {
   "cell_type": "code",
   "execution_count": 42,
   "id": "87cfaeee",
   "metadata": {},
   "outputs": [
    {
     "name": "stdout",
     "output_type": "stream",
     "text": [
      "(1, 3, 5)\n"
     ]
    }
   ],
   "source": [
    "l=(1,2,3,4,5,6,)\n",
    "print(l[0:5:2])"
   ]
  },
  {
   "cell_type": "code",
   "execution_count": 43,
   "id": "14046b5e",
   "metadata": {},
   "outputs": [
    {
     "name": "stdout",
     "output_type": "stream",
     "text": [
      "(1, 4)\n"
     ]
    }
   ],
   "source": [
    "l=(1,2,3,4,5,6,)\n",
    "print(l[0:5:3])"
   ]
  },
  {
   "cell_type": "code",
   "execution_count": 46,
   "id": "d9c3b3c0",
   "metadata": {},
   "outputs": [
    {
     "name": "stdout",
     "output_type": "stream",
     "text": [
      "(3, 6)\n"
     ]
    }
   ],
   "source": [
    "l=(1,2,3,4,5,6,)\n",
    "print(l[2:6:3])"
   ]
  },
  {
   "cell_type": "code",
   "execution_count": 48,
   "id": "7f771d5a",
   "metadata": {},
   "outputs": [
    {
     "name": "stdout",
     "output_type": "stream",
     "text": [
      "(2, 8)\n"
     ]
    }
   ],
   "source": [
    "l=(1,2,3,4,5,6,7,8,9,0)\n",
    "print(l[1:8:6])"
   ]
  },
  {
   "cell_type": "code",
   "execution_count": 49,
   "id": "be0dc29a",
   "metadata": {},
   "outputs": [
    {
     "name": "stdout",
     "output_type": "stream",
     "text": [
      "(5, 8)\n"
     ]
    }
   ],
   "source": [
    "l=(1,2,3,4,5,6,7,8,9,0)\n",
    "print(l[4:8:3])"
   ]
  },
  {
   "cell_type": "code",
   "execution_count": 52,
   "id": "4a60a402",
   "metadata": {},
   "outputs": [
    {
     "name": "stdout",
     "output_type": "stream",
     "text": [
      "ipcs\n"
     ]
    }
   ],
   "source": [
    "l= \"we are hiring from ipcs global accademy\"\n",
    "print(l[19:23])\n"
   ]
  },
  {
   "cell_type": "code",
   "execution_count": 55,
   "id": "7136407d",
   "metadata": {},
   "outputs": [
    {
     "name": "stdout",
     "output_type": "stream",
     "text": [
      "global\n"
     ]
    }
   ],
   "source": [
    "l= \"we are hiring from ipcs global accademy\"\n",
    "print(l[24:30])"
   ]
  },
  {
   "cell_type": "code",
   "execution_count": 56,
   "id": "eabd467e",
   "metadata": {},
   "outputs": [
    {
     "name": "stdout",
     "output_type": "stream",
     "text": [
      "we are hiring\n"
     ]
    }
   ],
   "source": [
    "l= \"we are hiring from ipcs global accademy\"\n",
    "print(l[0:13])"
   ]
  },
  {
   "cell_type": "code",
   "execution_count": 65,
   "id": "4cb5eb01",
   "metadata": {},
   "outputs": [
    {
     "name": "stdout",
     "output_type": "stream",
     "text": [
      "we are hiring from ipcs\n"
     ]
    }
   ],
   "source": [
    "l= \"we are hiring from ipcs global accademy\"\n",
    "print(l[0:23:1])"
   ]
  },
  {
   "cell_type": "code",
   "execution_count": 2,
   "id": "b3d65154",
   "metadata": {},
   "outputs": [
    {
     "name": "stdout",
     "output_type": "stream",
     "text": [
      " chandu\n"
     ]
    }
   ],
   "source": [
    "l= \"my name is chandu\"\n",
    "print(l[10:17])"
   ]
  },
  {
   "cell_type": "code",
   "execution_count": 3,
   "id": "ac84a6d0",
   "metadata": {},
   "outputs": [
    {
     "name": "stdout",
     "output_type": "stream",
     "text": [
      "2023-12-16 11:22:54.271062\n"
     ]
    }
   ],
   "source": [
    "import datetime\n",
    "now=datetime.datetime.now()\n",
    "print(now)"
   ]
  },
  {
   "cell_type": "code",
   "execution_count": 8,
   "id": "81dd9af2",
   "metadata": {},
   "outputs": [
    {
     "name": "stdout",
     "output_type": "stream",
     "text": [
      "16/Dec/2023 11.46.49\n"
     ]
    }
   ],
   "source": [
    "\n",
    "print(now.strftime(\"%d/%b/%Y %H.%M.%S\"))"
   ]
  },
  {
   "cell_type": "code",
   "execution_count": 9,
   "id": "43f25802",
   "metadata": {},
   "outputs": [
    {
     "name": "stdout",
     "output_type": "stream",
     "text": [
      "Selected Jupyter core packages...\n",
      "IPython          : 8.15.0\n",
      "ipykernel        : 6.25.0\n",
      "ipywidgets       : 8.0.4\n",
      "jupyter_client   : 7.4.9\n",
      "jupyter_core     : 5.3.0\n",
      "jupyter_server   : 1.23.4\n",
      "jupyterlab       : 3.6.3\n",
      "nbclient         : 0.5.13\n",
      "nbconvert        : 6.5.4\n",
      "nbformat         : 5.9.2\n",
      "notebook         : 6.5.4\n",
      "qtconsole        : 5.4.2\n",
      "traitlets        : 5.7.1\n"
     ]
    }
   ],
   "source": [
    "!jupyter --version"
   ]
  },
  {
   "cell_type": "code",
   "execution_count": 1,
   "id": "8cc51e41",
   "metadata": {},
   "outputs": [
    {
     "data": {
      "text/plain": [
       "'myischandu'"
      ]
     },
     "execution_count": 1,
     "metadata": {},
     "output_type": "execute_result"
    }
   ],
   "source": [
    "s= \"my\"\n",
    "o= \"is\"\n",
    "d= \"chandu\"\n",
    "s + o + d"
   ]
  },
  {
   "cell_type": "code",
   "execution_count": 13,
   "id": "2a9c18cb",
   "metadata": {},
   "outputs": [
    {
     "data": {
      "text/plain": [
       "'mymymymymy'"
      ]
     },
     "execution_count": 13,
     "metadata": {},
     "output_type": "execute_result"
    }
   ],
   "source": [
    "s=\"my\"\n",
    "s*5"
   ]
  },
  {
   "cell_type": "code",
   "execution_count": 16,
   "id": "6f2cb06d",
   "metadata": {},
   "outputs": [
    {
     "data": {
      "text/plain": [
       "False"
      ]
     },
     "execution_count": 16,
     "metadata": {},
     "output_type": "execute_result"
    }
   ],
   "source": [
    "s= \"my\"\n",
    "o= \"is\"\n",
    "d= \"chandu\"\n",
    "s in \"my is chandu\"\n",
    "o in \"my the chandu\"\n",
    "d in \"my the ritik\""
   ]
  },
  {
   "cell_type": "code",
   "execution_count": 17,
   "id": "c0e578db",
   "metadata": {},
   "outputs": [
    {
     "data": {
      "text/plain": [
       "97"
      ]
     },
     "execution_count": 17,
     "metadata": {},
     "output_type": "execute_result"
    }
   ],
   "source": [
    "ord('a')"
   ]
  },
  {
   "cell_type": "code",
   "execution_count": 22,
   "id": "40d5840a",
   "metadata": {},
   "outputs": [
    {
     "data": {
      "text/plain": [
       "'a'"
      ]
     },
     "execution_count": 22,
     "metadata": {},
     "output_type": "execute_result"
    }
   ],
   "source": [
    "chr(97)"
   ]
  },
  {
   "cell_type": "code",
   "execution_count": 23,
   "id": "67653106",
   "metadata": {},
   "outputs": [
    {
     "data": {
      "text/plain": [
       "12"
      ]
     },
     "execution_count": 23,
     "metadata": {},
     "output_type": "execute_result"
    }
   ],
   "source": [
    "s=\"my is chandu\"\n",
    "len(s)"
   ]
  },
  {
   "cell_type": "code",
   "execution_count": 24,
   "id": "5421cb1b",
   "metadata": {},
   "outputs": [
    {
     "name": "stdout",
     "output_type": "stream",
     "text": [
      "My is chandu\n"
     ]
    }
   ],
   "source": [
    "s=\"my is chandu\"\n",
    "print(s.capitalize())"
   ]
  },
  {
   "cell_type": "code",
   "execution_count": 25,
   "id": "652292b0",
   "metadata": {},
   "outputs": [
    {
     "name": "stdout",
     "output_type": "stream",
     "text": [
      "My Is Chandu\n"
     ]
    }
   ],
   "source": [
    "s=\"my is chandu\"\n",
    "print(s.title())"
   ]
  },
  {
   "cell_type": "code",
   "execution_count": 26,
   "id": "ddb9a141",
   "metadata": {},
   "outputs": [
    {
     "name": "stdout",
     "output_type": "stream",
     "text": [
      "MY IS CHANDU\n"
     ]
    }
   ],
   "source": [
    "s=\"my is chandu\"\n",
    "print(s.upper())"
   ]
  },
  {
   "cell_type": "code",
   "execution_count": 30,
   "id": "eeda7e5f",
   "metadata": {},
   "outputs": [
    {
     "name": "stdout",
     "output_type": "stream",
     "text": [
      "chnadu to ritik\n"
     ]
    }
   ],
   "source": [
    "s=\"my is chandu\"\n",
    "print(\"chnadu to ritik\")"
   ]
  },
  {
   "cell_type": "code",
   "execution_count": 31,
   "id": "a7ed4dca",
   "metadata": {},
   "outputs": [
    {
     "data": {
      "text/plain": [
       "'my is ritik'"
      ]
     },
     "execution_count": 31,
     "metadata": {},
     "output_type": "execute_result"
    }
   ],
   "source": [
    "s.replace(\"chandu\",\"ritik\")"
   ]
  },
  {
   "cell_type": "code",
   "execution_count": 34,
   "id": "dec76caf",
   "metadata": {},
   "outputs": [
    {
     "data": {
      "text/plain": [
       "0"
      ]
     },
     "execution_count": 34,
     "metadata": {},
     "output_type": "execute_result"
    }
   ],
   "source": [
    "s.count(\"r\")"
   ]
  },
  {
   "cell_type": "code",
   "execution_count": 41,
   "id": "28607c90",
   "metadata": {},
   "outputs": [
    {
     "data": {
      "text/plain": [
       "True"
      ]
     },
     "execution_count": 41,
     "metadata": {},
     "output_type": "execute_result"
    }
   ],
   "source": [
    "s=\"my is chandu\"\n",
    "s.startswith(\"m\")"
   ]
  },
  {
   "cell_type": "code",
   "execution_count": 42,
   "id": "22adc852",
   "metadata": {},
   "outputs": [
    {
     "data": {
      "text/plain": [
       "False"
      ]
     },
     "execution_count": 42,
     "metadata": {},
     "output_type": "execute_result"
    }
   ],
   "source": [
    "s.endswith(\"h\")"
   ]
  },
  {
   "cell_type": "code",
   "execution_count": 44,
   "id": "0505584a",
   "metadata": {},
   "outputs": [
    {
     "data": {
      "text/plain": [
       "True"
      ]
     },
     "execution_count": 44,
     "metadata": {},
     "output_type": "execute_result"
    }
   ],
   "source": [
    "s=\"ritiktalmale\"\n",
    "s.isalpha()"
   ]
  },
  {
   "cell_type": "code",
   "execution_count": 45,
   "id": "946e6af6",
   "metadata": {},
   "outputs": [
    {
     "data": {
      "text/plain": [
       "True"
      ]
     },
     "execution_count": 45,
     "metadata": {},
     "output_type": "execute_result"
    }
   ],
   "source": [
    "s=\"ritik9547\"\n",
    "s.isalnum()"
   ]
  },
  {
   "cell_type": "code",
   "execution_count": 47,
   "id": "e9ea6dac",
   "metadata": {},
   "outputs": [
    {
     "data": {
      "text/plain": [
       "True"
      ]
     },
     "execution_count": 47,
     "metadata": {},
     "output_type": "execute_result"
    }
   ],
   "source": [
    "s=\"1235\"\n",
    "s.isdigit()"
   ]
  },
  {
   "cell_type": "code",
   "execution_count": 48,
   "id": "a2110acb",
   "metadata": {},
   "outputs": [
    {
     "data": {
      "text/plain": [
       "True"
      ]
     },
     "execution_count": 48,
     "metadata": {},
     "output_type": "execute_result"
    }
   ],
   "source": [
    "s=\"       \"\n",
    "s.isspace()"
   ]
  },
  {
   "cell_type": "code",
   "execution_count": 49,
   "id": "79d2ba48",
   "metadata": {},
   "outputs": [
    {
     "name": "stdout",
     "output_type": "stream",
     "text": [
      "my name ritik\n"
     ]
    }
   ],
   "source": [
    "n=\"ritik\"\n",
    "n1=\"my name\"\n",
    "print(f\"{n1} {n}\")"
   ]
  },
  {
   "cell_type": "code",
   "execution_count": 55,
   "id": "5468e311",
   "metadata": {},
   "outputs": [
    {
     "name": "stdout",
     "output_type": "stream",
     "text": [
      "my name \"ritik\"\n"
     ]
    }
   ],
   "source": [
    "s=\"my name \\\"ritik\\\"\"\n",
    "print(s)"
   ]
  },
  {
   "cell_type": "code",
   "execution_count": 57,
   "id": "19432efd",
   "metadata": {},
   "outputs": [
    {
     "name": "stdout",
     "output_type": "stream",
     "text": [
      "my name \"ritik\n"
     ]
    }
   ],
   "source": [
    "s=\"my name \\\"ritik\"\n",
    "print(s)"
   ]
  },
  {
   "cell_type": "code",
   "execution_count": 58,
   "id": "26bd4569",
   "metadata": {},
   "outputs": [
    {
     "name": "stdout",
     "output_type": "stream",
     "text": [
      "my name \n",
      " ritik\n"
     ]
    }
   ],
   "source": [
    "s=\"my name \\n ritik\"\n",
    "print(s)"
   ]
  },
  {
   "cell_type": "code",
   "execution_count": 60,
   "id": "53a11ce1",
   "metadata": {},
   "outputs": [
    {
     "name": "stdout",
     "output_type": "stream",
     "text": [
      "my name \r",
      " ritik \n"
     ]
    }
   ],
   "source": [
    "s=\"my name \\r ritik \"\n",
    "print(s)"
   ]
  },
  {
   "cell_type": "code",
   "execution_count": 61,
   "id": "d7ed2509",
   "metadata": {},
   "outputs": [
    {
     "name": "stdout",
     "output_type": "stream",
     "text": [
      "my name \t ritik \n"
     ]
    }
   ],
   "source": [
    "s=\"my name \\t ritik \"\n",
    "print(s)"
   ]
  },
  {
   "cell_type": "code",
   "execution_count": 65,
   "id": "12fed559",
   "metadata": {},
   "outputs": [
    {
     "name": "stdout",
     "output_type": "stream",
     "text": [
      "my name \\ ritik \n"
     ]
    }
   ],
   "source": [
    "s=\"my name \\\\ ritik \"\n",
    "print(s)"
   ]
  },
  {
   "cell_type": "markdown",
   "id": "da0e13dd",
   "metadata": {},
   "source": [
    "### list"
   ]
  },
  {
   "cell_type": "code",
   "execution_count": 66,
   "id": "f90856e9",
   "metadata": {},
   "outputs": [
    {
     "name": "stdout",
     "output_type": "stream",
     "text": [
      "h\n"
     ]
    }
   ],
   "source": [
    "s=['d','g','h','r','t']\n",
    "print(s[2])"
   ]
  },
  {
   "cell_type": "code",
   "execution_count": 70,
   "id": "1e48ed86",
   "metadata": {},
   "outputs": [
    {
     "name": "stdout",
     "output_type": "stream",
     "text": [
      "['happy', [2, 3, 4, 5]]\n"
     ]
    }
   ],
   "source": [
    "s=[\"happy\",[2,3,4,5]]\n",
    "print(s[0:2])"
   ]
  },
  {
   "cell_type": "code",
   "execution_count": 71,
   "id": "07c53777",
   "metadata": {},
   "outputs": [
    {
     "name": "stdout",
     "output_type": "stream",
     "text": [
      "78\n"
     ]
    }
   ],
   "source": [
    "s=[12,14,78]\n",
    "print(max(s))"
   ]
  },
  {
   "cell_type": "code",
   "execution_count": 73,
   "id": "c597f575",
   "metadata": {},
   "outputs": [
    {
     "name": "stdout",
     "output_type": "stream",
     "text": [
      "12\n"
     ]
    }
   ],
   "source": [
    "print(min(s))"
   ]
  },
  {
   "cell_type": "code",
   "execution_count": 82,
   "id": "8792cccc",
   "metadata": {},
   "outputs": [
    {
     "name": "stdout",
     "output_type": "stream",
     "text": [
      "[0, 1, 2, 3, 5, 12, 78, 102]\n"
     ]
    }
   ],
   "source": [
    "s=[102,3,5,12,78,2,1,0]\n",
    "s.sort()\n",
    "print(s)"
   ]
  },
  {
   "cell_type": "code",
   "execution_count": 86,
   "id": "73e0e3d5",
   "metadata": {},
   "outputs": [
    {
     "name": "stdout",
     "output_type": "stream",
     "text": [
      "[102, 78, 12, 5, 3, 2, 1, 0]\n"
     ]
    }
   ],
   "source": [
    "s=[102,3,5,12,78,2,1,0]\n",
    "s.sort(reverse= True)\n",
    "print(s)"
   ]
  },
  {
   "cell_type": "code",
   "execution_count": 87,
   "id": "2b54dc1f",
   "metadata": {},
   "outputs": [
    {
     "name": "stdout",
     "output_type": "stream",
     "text": [
      "sum is: 203\n"
     ]
    }
   ],
   "source": [
    "a= sum(s)\n",
    "print(f'sum is:',a)"
   ]
  },
  {
   "cell_type": "code",
   "execution_count": 89,
   "id": "711f8046",
   "metadata": {},
   "outputs": [
    {
     "name": "stdout",
     "output_type": "stream",
     "text": [
      "2\n"
     ]
    }
   ],
   "source": [
    "s=[102,1,3,5,0,12,3,78,2,1,0]\n",
    "print(s.count(3))\n"
   ]
  },
  {
   "cell_type": "code",
   "execution_count": 92,
   "id": "bbe85bfd",
   "metadata": {},
   "outputs": [
    {
     "name": "stdout",
     "output_type": "stream",
     "text": [
      "102\n"
     ]
    }
   ],
   "source": [
    "s=[102,1,3,5,0,12,3,78,2,1,0]\n",
    "print(s[0])"
   ]
  },
  {
   "cell_type": "code",
   "execution_count": 93,
   "id": "62b64c79",
   "metadata": {},
   "outputs": [
    {
     "name": "stdout",
     "output_type": "stream",
     "text": [
      "[102, 1, 3, 5, 0]\n"
     ]
    }
   ],
   "source": [
    "s=[102,1,3,5,0,12,3,78,2,1,0]\n",
    "print(s[:5])"
   ]
  },
  {
   "cell_type": "code",
   "execution_count": 10,
   "id": "c4e87bab",
   "metadata": {},
   "outputs": [
    {
     "name": "stdout",
     "output_type": "stream",
     "text": [
      "0\n"
     ]
    }
   ],
   "source": [
    "s=[102,1,3,5,0,12,3,78,2,1,0]\n",
    "print(s[-1])"
   ]
  },
  {
   "cell_type": "code",
   "execution_count": 11,
   "id": "2ce69f33",
   "metadata": {},
   "outputs": [
    {
     "name": "stdout",
     "output_type": "stream",
     "text": [
      "[0, 1, 2, 78, 3, 12, 0, 5, 3, 1, 102]\n"
     ]
    }
   ],
   "source": [
    "s=[102,1,3,5,0,12,3,78,2,1,0]\n",
    "print(s[::-1])"
   ]
  },
  {
   "cell_type": "code",
   "execution_count": 14,
   "id": "e4a3f3fe",
   "metadata": {},
   "outputs": [
    {
     "name": "stdout",
     "output_type": "stream",
     "text": [
      "enter age: 12\n",
      "can not vote\n"
     ]
    }
   ],
   "source": [
    "a=int(input(\"enter age: \"))\n",
    "if a>18:\n",
    "    print(\"can vote\")\n",
    "else:\n",
    "    print(\"can not vote\")"
   ]
  },
  {
   "cell_type": "code",
   "execution_count": 4,
   "id": "9c078754",
   "metadata": {},
   "outputs": [
    {
     "name": "stdout",
     "output_type": "stream",
     "text": [
      "enter age: 18\n",
      "he can vote\n"
     ]
    }
   ],
   "source": [
    "a=int(input(\"enter age: \"))\n",
    "if a>=18:\n",
    "    print(\"he can vote\")\n",
    "else:\n",
    "    print(\"he can not vote\")"
   ]
  },
  {
   "cell_type": "code",
   "execution_count": 5,
   "id": "1a1606dc",
   "metadata": {},
   "outputs": [],
   "source": [
    "import math"
   ]
  },
  {
   "cell_type": "code",
   "execution_count": 6,
   "id": "707e8a0a",
   "metadata": {},
   "outputs": [
    {
     "name": "stdout",
     "output_type": "stream",
     "text": [
      "['__doc__', '__loader__', '__name__', '__package__', '__spec__', 'acos', 'acosh', 'asin', 'asinh', 'atan', 'atan2', 'atanh', 'cbrt', 'ceil', 'comb', 'copysign', 'cos', 'cosh', 'degrees', 'dist', 'e', 'erf', 'erfc', 'exp', 'exp2', 'expm1', 'fabs', 'factorial', 'floor', 'fmod', 'frexp', 'fsum', 'gamma', 'gcd', 'hypot', 'inf', 'isclose', 'isfinite', 'isinf', 'isnan', 'isqrt', 'lcm', 'ldexp', 'lgamma', 'log', 'log10', 'log1p', 'log2', 'modf', 'nan', 'nextafter', 'perm', 'pi', 'pow', 'prod', 'radians', 'remainder', 'sin', 'sinh', 'sqrt', 'tan', 'tanh', 'tau', 'trunc', 'ulp']\n"
     ]
    }
   ],
   "source": [
    "print(dir(math))"
   ]
  },
  {
   "cell_type": "code",
   "execution_count": 8,
   "id": "0c98159e",
   "metadata": {},
   "outputs": [
    {
     "name": "stdout",
     "output_type": "stream",
     "text": [
      "3.141592653589793\n"
     ]
    }
   ],
   "source": [
    "print(math.pi)"
   ]
  },
  {
   "cell_type": "code",
   "execution_count": 11,
   "id": "2ebd4a34",
   "metadata": {},
   "outputs": [
    {
     "name": "stdout",
     "output_type": "stream",
     "text": [
      "enter the radius 125\n",
      "area of circle is 49087.385212340516\n"
     ]
    }
   ],
   "source": [
    "radius = int(input(\"enter the radius \"))\n",
    "area_of_circle=math.pi*radius*radius\n",
    "print(\"area of circle is\",area_of_circle)"
   ]
  },
  {
   "cell_type": "code",
   "execution_count": 14,
   "id": "050e8be7",
   "metadata": {},
   "outputs": [
    {
     "name": "stdout",
     "output_type": "stream",
     "text": [
      "Python 3.11.5\n"
     ]
    }
   ],
   "source": [
    "!python --version"
   ]
  },
  {
   "cell_type": "code",
   "execution_count": 15,
   "id": "b2958d7b",
   "metadata": {},
   "outputs": [
    {
     "name": "stdout",
     "output_type": "stream",
     "text": [
      "Selected Jupyter core packages...\n",
      "IPython          : 8.15.0\n",
      "ipykernel        : 6.25.0\n",
      "ipywidgets       : 8.0.4\n",
      "jupyter_client   : 7.4.9\n",
      "jupyter_core     : 5.3.0\n",
      "jupyter_server   : 1.23.4\n",
      "jupyterlab       : 3.6.3\n",
      "nbclient         : 0.5.13\n",
      "nbconvert        : 6.5.4\n",
      "nbformat         : 5.9.2\n",
      "notebook         : 6.5.4\n",
      "qtconsole        : 5.4.2\n",
      "traitlets        : 5.7.1\n"
     ]
    }
   ],
   "source": [
    "!jupyter --version"
   ]
  },
  {
   "cell_type": "code",
   "execution_count": 20,
   "id": "915e5e58",
   "metadata": {},
   "outputs": [
    {
     "name": "stdout",
     "output_type": "stream",
     "text": [
      "ritik\n"
     ]
    }
   ],
   "source": [
    "p = ('ritik','chandu','aniket','nikita','anshu')\n",
    "(apple,banana,grapes,gawa,mango)=p\n",
    "print(apple)"
   ]
  },
  {
   "cell_type": "code",
   "execution_count": 23,
   "id": "532428f6",
   "metadata": {},
   "outputs": [
    {
     "name": "stdout",
     "output_type": "stream",
     "text": [
      "[4, 5, 6, 7, 8]\n"
     ]
    }
   ],
   "source": [
    "p = [1,2,3,4,5,6,7,8,9]      #slice a [4,5,6,7,8]\n",
    "print(p[3:8:1])\n"
   ]
  },
  {
   "cell_type": "code",
   "execution_count": 33,
   "id": "ac79cac3",
   "metadata": {},
   "outputs": [
    {
     "name": "stdout",
     "output_type": "stream",
     "text": [
      "enter the age 12\n",
      "he is child\n"
     ]
    }
   ],
   "source": [
    "age= int(input('enter the age '))\n",
    "if age<=15:\n",
    "    print(\"he is child\")\n",
    "elif 15<=age<= 30:\n",
    "    print(\"he is teenager\")\n",
    "else:\n",
    "    print(\"he is adult\")"
   ]
  },
  {
   "cell_type": "code",
   "execution_count": 6,
   "id": "7eede1a1",
   "metadata": {},
   "outputs": [],
   "source": [
    "import math"
   ]
  },
  {
   "cell_type": "code",
   "execution_count": 7,
   "id": "c48ac245",
   "metadata": {},
   "outputs": [
    {
     "name": "stdout",
     "output_type": "stream",
     "text": [
      "['__doc__', '__loader__', '__name__', '__package__', '__spec__', 'acos', 'acosh', 'asin', 'asinh', 'atan', 'atan2', 'atanh', 'cbrt', 'ceil', 'comb', 'copysign', 'cos', 'cosh', 'degrees', 'dist', 'e', 'erf', 'erfc', 'exp', 'exp2', 'expm1', 'fabs', 'factorial', 'floor', 'fmod', 'frexp', 'fsum', 'gamma', 'gcd', 'hypot', 'inf', 'isclose', 'isfinite', 'isinf', 'isnan', 'isqrt', 'lcm', 'ldexp', 'lgamma', 'log', 'log10', 'log1p', 'log2', 'modf', 'nan', 'nextafter', 'perm', 'pi', 'pow', 'prod', 'radians', 'remainder', 'sin', 'sinh', 'sqrt', 'tan', 'tanh', 'tau', 'trunc', 'ulp']\n"
     ]
    }
   ],
   "source": [
    "print(dir(math))"
   ]
  },
  {
   "cell_type": "code",
   "execution_count": 9,
   "id": "9720c0a8",
   "metadata": {},
   "outputs": [
    {
     "data": {
      "text/plain": [
       "3.141592653589793"
      ]
     },
     "execution_count": 9,
     "metadata": {},
     "output_type": "execute_result"
    }
   ],
   "source": [
    "math.pi"
   ]
  },
  {
   "cell_type": "code",
   "execution_count": 10,
   "id": "1c9e4c17",
   "metadata": {},
   "outputs": [
    {
     "data": {
      "text/plain": [
       "<function math.pow(x, y, /)>"
      ]
     },
     "execution_count": 10,
     "metadata": {},
     "output_type": "execute_result"
    }
   ],
   "source": [
    "math.pow"
   ]
  },
  {
   "cell_type": "code",
   "execution_count": 11,
   "id": "ca3d83d0",
   "metadata": {},
   "outputs": [
    {
     "data": {
      "text/plain": [
       "<function math.gamma(x, /)>"
      ]
     },
     "execution_count": 11,
     "metadata": {},
     "output_type": "execute_result"
    }
   ],
   "source": [
    "math.gamma"
   ]
  },
  {
   "cell_type": "code",
   "execution_count": 2,
   "id": "ae963e23",
   "metadata": {},
   "outputs": [],
   "source": [
    "import datetime"
   ]
  },
  {
   "cell_type": "code",
   "execution_count": 3,
   "id": "80c87b62",
   "metadata": {},
   "outputs": [
    {
     "name": "stdout",
     "output_type": "stream",
     "text": [
      "2024-01-22 15:57:55.035005\n"
     ]
    }
   ],
   "source": [
    "current_datetime = datetime.datetime.now()\n",
    "print(current_datetime)"
   ]
  },
  {
   "cell_type": "code",
   "execution_count": 5,
   "id": "a3e89246",
   "metadata": {},
   "outputs": [
    {
     "data": {
      "text/plain": [
       "'22.Jan.2024 15.57.55'"
      ]
     },
     "execution_count": 5,
     "metadata": {},
     "output_type": "execute_result"
    }
   ],
   "source": [
    "current_datetime.strftime(\"%d.%b.%Y %H.%M.%S\")"
   ]
  },
  {
   "cell_type": "code",
   "execution_count": null,
   "id": "6775aedf",
   "metadata": {},
   "outputs": [],
   "source": []
  },
  {
   "cell_type": "code",
   "execution_count": 8,
   "id": "d385c036",
   "metadata": {},
   "outputs": [
    {
     "data": {
      "text/plain": [
       "3.141592653589793"
      ]
     },
     "execution_count": 8,
     "metadata": {},
     "output_type": "execute_result"
    }
   ],
   "source": [
    "math.pi"
   ]
  },
  {
   "cell_type": "code",
   "execution_count": null,
   "id": "107b6abe",
   "metadata": {},
   "outputs": [],
   "source": []
  },
  {
   "cell_type": "code",
   "execution_count": null,
   "id": "c0b9de55",
   "metadata": {},
   "outputs": [],
   "source": []
  },
  {
   "cell_type": "code",
   "execution_count": null,
   "id": "61b5ebe4",
   "metadata": {},
   "outputs": [],
   "source": []
  },
  {
   "cell_type": "code",
   "execution_count": null,
   "id": "670d6a7a",
   "metadata": {},
   "outputs": [],
   "source": []
  },
  {
   "cell_type": "code",
   "execution_count": null,
   "id": "36fc1436",
   "metadata": {},
   "outputs": [],
   "source": []
  },
  {
   "cell_type": "code",
   "execution_count": null,
   "id": "852eff3e",
   "metadata": {},
   "outputs": [],
   "source": []
  },
  {
   "cell_type": "code",
   "execution_count": null,
   "id": "5d7b88e5",
   "metadata": {},
   "outputs": [],
   "source": []
  }
 ],
 "metadata": {
  "kernelspec": {
   "display_name": "Python 3 (ipykernel)",
   "language": "python",
   "name": "python3"
  },
  "language_info": {
   "codemirror_mode": {
    "name": "ipython",
    "version": 3
   },
   "file_extension": ".py",
   "mimetype": "text/x-python",
   "name": "python",
   "nbconvert_exporter": "python",
   "pygments_lexer": "ipython3",
   "version": "3.11.5"
  }
 },
 "nbformat": 4,
 "nbformat_minor": 5
}
