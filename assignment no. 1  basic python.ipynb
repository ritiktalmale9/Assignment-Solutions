{
 "cells": [
  {
   "cell_type": "code",
   "execution_count": 2,
   "id": "5379789b",
   "metadata": {},
   "outputs": [
    {
     "name": "stdout",
     "output_type": "stream",
     "text": [
      "6\n"
     ]
    }
   ],
   "source": [
    "#1. Write a Python program to calculate the length of a string.\n",
    "s=(1,2,3,4,5,6)\n",
    "print(len(s))"
   ]
  },
  {
   "cell_type": "code",
   "execution_count": 3,
   "id": "2cff03b3",
   "metadata": {},
   "outputs": [
    {
     "name": "stdout",
     "output_type": "stream",
     "text": [
      "Python 3.11.5\n"
     ]
    }
   ],
   "source": [
    "#2. Write a Python program to find out what version of Python you are using.\n",
    "!python --version"
   ]
  },
  {
   "cell_type": "code",
   "execution_count": 8,
   "id": "d534269b",
   "metadata": {},
   "outputs": [
    {
     "name": "stdout",
     "output_type": "stream",
     "text": [
      "2023-12-20 10:16:41.826742\n"
     ]
    }
   ],
   "source": [
    "#3. Write a Python program to display the current date and time.\n",
    "import datetime\n",
    "s=datetime.datetime.now()\n",
    "print(s)"
   ]
  },
  {
   "cell_type": "code",
   "execution_count": 2,
   "id": "9f40d506",
   "metadata": {},
   "outputs": [],
   "source": [
    "import math"
   ]
  },
  {
   "cell_type": "code",
   "execution_count": 3,
   "id": "0cb23e4f",
   "metadata": {},
   "outputs": [
    {
     "name": "stdout",
     "output_type": "stream",
     "text": [
      "['__doc__', '__loader__', '__name__', '__package__', '__spec__', 'acos', 'acosh', 'asin', 'asinh', 'atan', 'atan2', 'atanh', 'cbrt', 'ceil', 'comb', 'copysign', 'cos', 'cosh', 'degrees', 'dist', 'e', 'erf', 'erfc', 'exp', 'exp2', 'expm1', 'fabs', 'factorial', 'floor', 'fmod', 'frexp', 'fsum', 'gamma', 'gcd', 'hypot', 'inf', 'isclose', 'isfinite', 'isinf', 'isnan', 'isqrt', 'lcm', 'ldexp', 'lgamma', 'log', 'log10', 'log1p', 'log2', 'modf', 'nan', 'nextafter', 'perm', 'pi', 'pow', 'prod', 'radians', 'remainder', 'sin', 'sinh', 'sqrt', 'tan', 'tanh', 'tau', 'trunc', 'ulp']\n"
     ]
    }
   ],
   "source": [
    "print(dir(math))"
   ]
  },
  {
   "cell_type": "code",
   "execution_count": 4,
   "id": "ad5a3b2d",
   "metadata": {},
   "outputs": [
    {
     "data": {
      "text/plain": [
       "3.141592653589793"
      ]
     },
     "execution_count": 4,
     "metadata": {},
     "output_type": "execute_result"
    }
   ],
   "source": [
    "math.pi"
   ]
  },
  {
   "cell_type": "code",
   "execution_count": 6,
   "id": "1fd92aa6",
   "metadata": {},
   "outputs": [
    {
     "name": "stdout",
     "output_type": "stream",
     "text": [
      "enter radius 50\n",
      "7853.981633974483\n"
     ]
    }
   ],
   "source": [
    "#4. Write a Python program that calculates the area of a circle based on the radius entered by the user.\n",
    "radius=int(input(\"enter radius \"))\n",
    "area_of_circle=math.pi*radius*radius\n",
    "print(area_of_circle)"
   ]
  },
  {
   "cell_type": "code",
   "execution_count": 18,
   "id": "0b66a890",
   "metadata": {},
   "outputs": [
    {
     "name": "stdout",
     "output_type": "stream",
     "text": [
      "enter name ritik\n",
      "enter last name talmale\n",
      "talmale ritik\n"
     ]
    }
   ],
   "source": [
    "#5. Write a Python program that accepts the user's first and last name and prints them in reverse order with a space between them\n",
    "s=str(input(\"enter name \" ))\n",
    "x=str(input(\"enter last name \" ))\n",
    "print(x,s)\n"
   ]
  },
  {
   "cell_type": "code",
   "execution_count": 20,
   "id": "a2e83b1e",
   "metadata": {},
   "outputs": [],
   "source": [
    "#6. How many data types are there in python? Write them.\n",
    "#ans:four data types are there in python\n",
    "#1:text\n",
    "#2:boolean\n",
    "#3:sequence\n",
    "#4:mapping\n",
    "#5:set\n",
    "#6:numeric"
   ]
  },
  {
   "cell_type": "code",
   "execution_count": 41,
   "id": "0fe27aba",
   "metadata": {},
   "outputs": [
    {
     "name": "stdout",
     "output_type": "stream",
     "text": [
      "<class 'str'>\n",
      "<class 'int'>\n",
      "<class 'str'>\n",
      "<class 'float'>\n",
      "<class 'str'>\n",
      "True\n",
      "False\n"
     ]
    }
   ],
   "source": [
    "#7. Print the data types of given inputs\n",
    "s=\"I want to become Data Scientist.\"\n",
    "print(type(s))\n",
    "x=123\n",
    "print(type(x))\n",
    "y=\"1234\"\n",
    "print(type(y))\n",
    "z=1.34\n",
    "print(type(z))\n",
    "a=\"hello123\"\n",
    "print(type(a))\n",
    "n=14\n",
    "n1=15\n",
    "r=n<n1\n",
    "print(r)\n",
    "s=3\n",
    "d=5\n",
    "t=s>d\n",
    "print(t)"
   ]
  },
  {
   "cell_type": "code",
   "execution_count": 9,
   "id": "af3ca393",
   "metadata": {},
   "outputs": [
    {
     "name": "stdout",
     "output_type": "stream",
     "text": [
      "113\n"
     ]
    }
   ],
   "source": [
    "#8. Write a python program to sum three numbers\n",
    "s=12\n",
    "t=45\n",
    "r=56\n",
    "x=s+t+r\n",
    "print(x)"
   ]
  },
  {
   "cell_type": "code",
   "execution_count": 6,
   "id": "eeaf8ee5",
   "metadata": {},
   "outputs": [
    {
     "name": "stdout",
     "output_type": "stream",
     "text": [
      "1\n",
      "1\n",
      "1\n"
     ]
    }
   ],
   "source": [
    "#13. x=y=z=1 ,what does it means?\n",
    "x=y=z=1\n",
    "print(x)\n",
    "print(y)\n",
    "print(z)"
   ]
  },
  {
   "cell_type": "code",
   "execution_count": 2,
   "id": "6249c034",
   "metadata": {},
   "outputs": [],
   "source": [
    "#14. A,b,c=”Python”,123,12.5..can I declare variables like this?\n",
    "a=\"python\"\n",
    "b=123\n",
    "c=12.5\n"
   ]
  },
  {
   "cell_type": "code",
   "execution_count": 20,
   "id": "42cb14e4",
   "metadata": {},
   "outputs": [
    {
     "name": "stdout",
     "output_type": "stream",
     "text": [
      "890\n",
      "125\n",
      "235.0\n"
     ]
    }
   ],
   "source": [
    "#19. X=890 convert the data type integer into string\n",
    "#Y=”125” convert the data type string into integer \n",
    "#Z=”My name is Sarthak”..can I convert the type of this string into integer? Try it ..and give reason why it didn’t convert the data type?\n",
    "#A=235 convert the data type integer into float\n",
    "X=890 \n",
    "print(str(X))\n",
    "Y=\"125\"\n",
    "print(int(Y))\n",
    "Z=\"My name is Sarthak\"\n",
    "# because a string is converts a number in integer not a word line\n",
    "A=235 \n",
    "print(float(A))"
   ]
  },
  {
   "cell_type": "code",
   "execution_count": 23,
   "id": "02bdf9e4",
   "metadata": {},
   "outputs": [
    {
     "name": "stdout",
     "output_type": "stream",
     "text": [
      "enter integer 235\n",
      "235.0\n"
     ]
    }
   ],
   "source": [
    "#20. Take user input of type float and give input as integer…see it will accept integer\n",
    "a=float(input(\"enter integer \"))\n",
    "print(a)\n"
   ]
  },
  {
   "cell_type": "code",
   "execution_count": 4,
   "id": "946d9321",
   "metadata": {},
   "outputs": [
    {
     "name": "stdout",
     "output_type": "stream",
     "text": [
      "enter float 235\n",
      "235\n"
     ]
    }
   ],
   "source": [
    "#21. Take user input of type int and give input as float …see it will not accept the float input .\n",
    "s=int(input(\"enter float \"))\n",
    "print(s)"
   ]
  },
  {
   "cell_type": "code",
   "execution_count": 1,
   "id": "c2ccf1de",
   "metadata": {},
   "outputs": [],
   "source": [
    "import math"
   ]
  },
  {
   "cell_type": "code",
   "execution_count": 4,
   "id": "682de122",
   "metadata": {},
   "outputs": [
    {
     "name": "stdout",
     "output_type": "stream",
     "text": [
      "['__doc__', '__loader__', '__name__', '__package__', '__spec__', 'acos', 'acosh', 'asin', 'asinh', 'atan', 'atan2', 'atanh', 'cbrt', 'ceil', 'comb', 'copysign', 'cos', 'cosh', 'degrees', 'dist', 'e', 'erf', 'erfc', 'exp', 'exp2', 'expm1', 'fabs', 'factorial', 'floor', 'fmod', 'frexp', 'fsum', 'gamma', 'gcd', 'hypot', 'inf', 'isclose', 'isfinite', 'isinf', 'isnan', 'isqrt', 'lcm', 'ldexp', 'lgamma', 'log', 'log10', 'log1p', 'log2', 'modf', 'nan', 'nextafter', 'perm', 'pi', 'pow', 'prod', 'radians', 'remainder', 'sin', 'sinh', 'sqrt', 'tan', 'tanh', 'tau', 'trunc', 'ulp']\n"
     ]
    }
   ],
   "source": [
    "print(dir(math))"
   ]
  },
  {
   "cell_type": "code",
   "execution_count": 1,
   "id": "a2ed3a98",
   "metadata": {},
   "outputs": [
    {
     "data": {
      "text/plain": [
       "3"
      ]
     },
     "execution_count": 1,
     "metadata": {},
     "output_type": "execute_result"
    }
   ],
   "source": [
    "1+2\n"
   ]
  },
  {
   "cell_type": "code",
   "execution_count": 2,
   "id": "dfba2150",
   "metadata": {},
   "outputs": [
    {
     "data": {
      "text/plain": [
       "1457187647"
      ]
     },
     "execution_count": 2,
     "metadata": {},
     "output_type": "execute_result"
    }
   ],
   "source": [
    "210124+1456977523"
   ]
  },
  {
   "cell_type": "code",
   "execution_count": 5,
   "id": "5a81b792",
   "metadata": {},
   "outputs": [
    {
     "ename": "SyntaxError",
     "evalue": "invalid syntax (3217705928.py, line 1)",
     "output_type": "error",
     "traceback": [
      "\u001b[1;36m  Cell \u001b[1;32mIn[5], line 1\u001b[1;36m\u001b[0m\n\u001b[1;33m    import(dir(math))\u001b[0m\n\u001b[1;37m          ^\u001b[0m\n\u001b[1;31mSyntaxError\u001b[0m\u001b[1;31m:\u001b[0m invalid syntax\n"
     ]
    }
   ],
   "source": [
    "import(dir(math))"
   ]
  },
  {
   "cell_type": "code",
   "execution_count": null,
   "id": "450d4008",
   "metadata": {},
   "outputs": [],
   "source": []
  }
 ],
 "metadata": {
  "kernelspec": {
   "display_name": "Python 3 (ipykernel)",
   "language": "python",
   "name": "python3"
  },
  "language_info": {
   "codemirror_mode": {
    "name": "ipython",
    "version": 3
   },
   "file_extension": ".py",
   "mimetype": "text/x-python",
   "name": "python",
   "nbconvert_exporter": "python",
   "pygments_lexer": "ipython3",
   "version": "3.11.5"
  }
 },
 "nbformat": 4,
 "nbformat_minor": 5
}
