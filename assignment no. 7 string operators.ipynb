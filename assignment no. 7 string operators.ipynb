{
 "cells": [
  {
   "cell_type": "markdown",
   "id": "5faac603",
   "metadata": {},
   "source": [
    "### string operators"
   ]
  },
  {
   "cell_type": "code",
   "execution_count": 3,
   "id": "886631f2",
   "metadata": {},
   "outputs": [
    {
     "name": "stdout",
     "output_type": "stream",
     "text": [
      "enter base 12\n",
      "enter height 35\n",
      "area of triangle is =  210.0\n"
     ]
    }
   ],
   "source": [
    "#1. Create a program that takes the base and height of a triangle as input and calculates its area (½ * base * height).\n",
    "base=int(input(\"enter base \"))\n",
    "height=int(input(\"enter height \"))\n",
    "area_of_triangle=1/2*base*height\n",
    "print(\"area of triangle is = \",area_of_triangle)\n"
   ]
  },
  {
   "cell_type": "code",
   "execution_count": 5,
   "id": "acd7815d",
   "metadata": {},
   "outputs": [
    {
     "name": "stdout",
     "output_type": "stream",
     "text": [
      "['__doc__', '__loader__', '__name__', '__package__', '__spec__', 'acos', 'acosh', 'asin', 'asinh', 'atan', 'atan2', 'atanh', 'cbrt', 'ceil', 'comb', 'copysign', 'cos', 'cosh', 'degrees', 'dist', 'e', 'erf', 'erfc', 'exp', 'exp2', 'expm1', 'fabs', 'factorial', 'floor', 'fmod', 'frexp', 'fsum', 'gamma', 'gcd', 'hypot', 'inf', 'isclose', 'isfinite', 'isinf', 'isnan', 'isqrt', 'lcm', 'ldexp', 'lgamma', 'log', 'log10', 'log1p', 'log2', 'modf', 'nan', 'nextafter', 'perm', 'pi', 'pow', 'prod', 'radians', 'remainder', 'sin', 'sinh', 'sqrt', 'tan', 'tanh', 'tau', 'trunc', 'ulp']\n"
     ]
    }
   ],
   "source": [
    "import math\n",
    "print(dir(math))"
   ]
  },
  {
   "cell_type": "code",
   "execution_count": 3,
   "id": "3a85daff",
   "metadata": {},
   "outputs": [
    {
     "name": "stdout",
     "output_type": "stream",
     "text": [
      "enter number 5\n",
      "square is: 25\n",
      "enter number 5\n",
      "cube is 125\n"
     ]
    }
   ],
   "source": [
    "#2. Write a program that takes a number as input and prints its square and cube.\n",
    "s = int(input(\"enter number \"))\n",
    "sqaure=s*s\n",
    "print(\"square is:\",sqaure)\n",
    "t = int(input(\"enter number \"))\n",
    "cube = t*t*t\n",
    "print(\"cube is\",cube)\n"
   ]
  },
  {
   "cell_type": "code",
   "execution_count": 2,
   "id": "84719695",
   "metadata": {},
   "outputs": [
    {
     "name": "stdout",
     "output_type": "stream",
     "text": [
      "enter input 45\n",
      "enter input 65\n",
      "110\n",
      "enter input 65\n",
      "enter input 45\n",
      "20\n",
      "enter input 9\n",
      "enter input 8\n",
      "72\n",
      "enter input 45\n",
      "enter input 9\n",
      "5.0\n"
     ]
    }
   ],
   "source": [
    "#3. Write a program that simulates a simple calculator. The program should take two numbers(user \n",
    "#inputs)and an operator (+, -, *, /) as input and perform the corresponding operation, displaying \n",
    "#the result.\n",
    "s = int(input(\"enter input \"))\n",
    "t = int(input(\"enter input \"))\n",
    "x = s+t\n",
    "print(x)\n",
    "a = int(input(\"enter input \"))\n",
    "b = int(input(\"enter input \"))\n",
    "r = a-b\n",
    "print(r)\n",
    "m = int(input(\"enter input \"))\n",
    "n = int(input(\"enter input \"))\n",
    "q = m*n\n",
    "print(q)\n",
    "g = int(input(\"enter input \"))\n",
    "h = int(input(\"enter input \"))\n",
    "i = g/h\n",
    "print(i)"
   ]
  },
  {
   "cell_type": "code",
   "execution_count": 1,
   "id": "1ad6822d",
   "metadata": {},
   "outputs": [
    {
     "data": {
      "text/plain": [
       "'input'"
      ]
     },
     "execution_count": 1,
     "metadata": {},
     "output_type": "execute_result"
    }
   ],
   "source": [
    "#4. How do you concatenate two strings in Python?\n",
    "s = \"in\"\n",
    "t = \"put\"\n",
    "s+t\n"
   ]
  },
  {
   "cell_type": "code",
   "execution_count": 2,
   "id": "eed74d26",
   "metadata": {},
   "outputs": [
    {
     "name": "stdout",
     "output_type": "stream",
     "text": [
      "235.0\n"
     ]
    }
   ],
   "source": [
    "#5. How can you convert an integer to a float, and vice versa?\n",
    "x=235\n",
    "print(float(x))"
   ]
  },
  {
   "cell_type": "code",
   "execution_count": 3,
   "id": "ef98e232",
   "metadata": {},
   "outputs": [
    {
     "data": {
      "text/plain": [
       "' ritiktalmale9547  ritiktalmale9547  ritiktalmale9547  ritiktalmale9547 '"
      ]
     },
     "execution_count": 3,
     "metadata": {},
     "output_type": "execute_result"
    }
   ],
   "source": [
    "#6. Create a program that takes a string and an integer as input. Use the * operator to repeat the \n",
    "#   string the specified number of times and print the result.\n",
    "s =  \" ritiktalmale9547 \"\n",
    "s*4"
   ]
  },
  {
   "cell_type": "code",
   "execution_count": 24,
   "id": "b695bc78",
   "metadata": {},
   "outputs": [
    {
     "name": "stdout",
     "output_type": "stream",
     "text": [
      "False\n",
      "True\n",
      "False\n",
      "True\n",
      "False\n",
      "True\n"
     ]
    }
   ],
   "source": [
    "#7. Write a program that takes two strings as input. Use the comparison operators (==, !=, <, >, <=, \n",
    "#   >=) to compare the strings and print the results.\n",
    "s = 145\n",
    "t = 135\n",
    "d = s==t\n",
    "print(d)\n",
    "f = s!=t\n",
    "print(f)\n",
    "g = s<t\n",
    "print(g)\n",
    "h = s>t\n",
    "print(h)\n",
    "j = s<=t\n",
    "print(j)\n",
    "k = s>=t\n",
    "print(k)\n",
    "\n",
    "\n"
   ]
  },
  {
   "cell_type": "code",
   "execution_count": 26,
   "id": "e907f313",
   "metadata": {},
   "outputs": [
    {
     "data": {
      "text/plain": [
       "16"
      ]
     },
     "execution_count": 26,
     "metadata": {},
     "output_type": "execute_result"
    }
   ],
   "source": [
    "#8. Write a program that takes a string as input and calculates its length using the len() function. Print the length.\n",
    "s = \"ritiktalmale9547\"\n",
    "len(s)"
   ]
  },
  {
   "cell_type": "code",
   "execution_count": 35,
   "id": "e44332c7",
   "metadata": {},
   "outputs": [
    {
     "name": "stdout",
     "output_type": "stream",
     "text": [
      "True\n",
      "False\n"
     ]
    }
   ],
   "source": [
    "#9. Create a program that takes a string and a character as input. Use the in and not in operators to \n",
    "#check if the character is present in the string and print the result.\n",
    "s = \"ritik\"\n",
    "y = \"r\" in s\n",
    "print(y)\n",
    "f = \"t\" not in s  \n",
    "print(f)"
   ]
  },
  {
   "cell_type": "code",
   "execution_count": null,
   "id": "541cb93f",
   "metadata": {},
   "outputs": [],
   "source": []
  }
 ],
 "metadata": {
  "kernelspec": {
   "display_name": "Python 3 (ipykernel)",
   "language": "python",
   "name": "python3"
  },
  "language_info": {
   "codemirror_mode": {
    "name": "ipython",
    "version": 3
   },
   "file_extension": ".py",
   "mimetype": "text/x-python",
   "name": "python",
   "nbconvert_exporter": "python",
   "pygments_lexer": "ipython3",
   "version": "3.11.5"
  }
 },
 "nbformat": 4,
 "nbformat_minor": 5
}
