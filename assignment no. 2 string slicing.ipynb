{
 "cells": [
  {
   "cell_type": "markdown",
   "id": "0a652eff",
   "metadata": {},
   "source": [
    "###  string"
   ]
  },
  {
   "cell_type": "code",
   "execution_count": 2,
   "id": "aef3485d",
   "metadata": {},
   "outputs": [
    {
     "name": "stdout",
     "output_type": "stream",
     "text": [
      "world\n"
     ]
    }
   ],
   "source": [
    "#1. Given the string sentence = \"Hello, world!\", use string slicing to extract the word \"world\".\n",
    "s=\"Hello, world!\"\n",
    "print(s[7:12])"
   ]
  },
  {
   "cell_type": "code",
   "execution_count": 4,
   "id": "57359790",
   "metadata": {},
   "outputs": [
    {
     "name": "stdout",
     "output_type": "stream",
     "text": [
      "ytho\n"
     ]
    }
   ],
   "source": [
    "#2. Create a variable word = \"Python\" and use slicing to get the characters \"ytho\".\n",
    "word = \"Python\" \n",
    "print(word[1:5])"
   ]
  },
  {
   "cell_type": "code",
   "execution_count": 5,
   "id": "7ac5a2e5",
   "metadata": {},
   "outputs": [
    {
     "name": "stdout",
     "output_type": "stream",
     "text": [
      "cdef\n"
     ]
    }
   ],
   "source": [
    "#3. Given the string text = \"abcdefgh\", use slicing to get the substring \"cdef\".\n",
    "text = \"abcdefgh\"\n",
    "print(text[2:6])"
   ]
  },
  {
   "cell_type": "code",
   "execution_count": 8,
   "id": "c6425a13",
   "metadata": {},
   "outputs": [
    {
     "name": "stdout",
     "output_type": "stream",
     "text": [
      "ing\n"
     ]
    }
   ],
   "source": [
    "#4. Using slicing, extract the last three characters of the string \"programming\".\n",
    "s=\"programming\"\n",
    "print(s[8:11])\n"
   ]
  },
  {
   "cell_type": "code",
   "execution_count": 9,
   "id": "e082fbea",
   "metadata": {},
   "outputs": [
    {
     "name": "stdout",
     "output_type": "stream",
     "text": [
      "love\n"
     ]
    }
   ],
   "source": [
    "#5. Given the string message = \"I love coding\", extract the substring \"love\".\n",
    "s=\"I love coding\"\n",
    "print(s[2:6])"
   ]
  },
  {
   "cell_type": "code",
   "execution_count": 10,
   "id": "c345a410",
   "metadata": {},
   "outputs": [
    {
     "name": "stdout",
     "output_type": "stream",
     "text": [
      "gninrom dooG\n"
     ]
    }
   ],
   "source": [
    "#6. Create a string greeting = \"Good morning\" and use slicing to reverse the string.\n",
    "s= \"Good morning\"\n",
    "print(s[::-1])"
   ]
  },
  {
   "cell_type": "code",
   "execution_count": 12,
   "id": "8140015f",
   "metadata": {},
   "outputs": [
    {
     "name": "stdout",
     "output_type": "stream",
     "text": [
      "how are\n"
     ]
    }
   ],
   "source": [
    "#7. Given the string phrase = \"Hello, how are you?\", extract the substring \"how are\".\n",
    "z = \"Hello, how are you?\"\n",
    "print(z[7:14])"
   ]
  },
  {
   "cell_type": "code",
   "execution_count": 13,
   "id": "a2e7e500",
   "metadata": {},
   "outputs": [
    {
     "name": "stdout",
     "output_type": "stream",
     "text": [
      "xampl\n"
     ]
    }
   ],
   "source": [
    "#8. Using slicing, remove the first and last characters from the string \"example\".\n",
    "d=\"example\"\n",
    "print(d[1:6])"
   ]
  },
  {
   "cell_type": "code",
   "execution_count": 16,
   "id": "491c289a",
   "metadata": {},
   "outputs": [
    {
     "name": "stdout",
     "output_type": "stream",
     "text": [
      "supercalifr\n"
     ]
    }
   ],
   "source": [
    "#9. Given the string long_word = \"supercalifragilisticexpialidocious\", extract the first 10 characters.\n",
    "m= \"supercalifragilisticexpialidocious\"\n",
    "print(m[0:11])"
   ]
  },
  {
   "cell_type": "code",
   "execution_count": 17,
   "id": "412a2a23",
   "metadata": {},
   "outputs": [
    {
     "name": "stdout",
     "output_type": "stream",
     "text": [
      "bdf\n"
     ]
    }
   ],
   "source": [
    "#10. Using slicing, extract every second character from the string \"abcdef\".\n",
    "h=\"abcdef\"\n",
    "print(h[1:6:2])"
   ]
  },
  {
   "cell_type": "code",
   "execution_count": null,
   "id": "c9264e41",
   "metadata": {},
   "outputs": [],
   "source": []
  },
  {
   "cell_type": "code",
   "execution_count": null,
   "id": "1997bcb3",
   "metadata": {},
   "outputs": [],
   "source": []
  },
  {
   "cell_type": "code",
   "execution_count": null,
   "id": "c0e7a920",
   "metadata": {},
   "outputs": [],
   "source": []
  },
  {
   "cell_type": "code",
   "execution_count": null,
   "id": "02355cd3",
   "metadata": {},
   "outputs": [],
   "source": []
  },
  {
   "cell_type": "code",
   "execution_count": null,
   "id": "8f5f9899",
   "metadata": {},
   "outputs": [],
   "source": []
  },
  {
   "cell_type": "code",
   "execution_count": null,
   "id": "0df9f579",
   "metadata": {},
   "outputs": [],
   "source": []
  },
  {
   "cell_type": "code",
   "execution_count": null,
   "id": "eb9f465a",
   "metadata": {},
   "outputs": [],
   "source": []
  },
  {
   "cell_type": "code",
   "execution_count": null,
   "id": "2be5fb44",
   "metadata": {},
   "outputs": [],
   "source": []
  },
  {
   "cell_type": "code",
   "execution_count": null,
   "id": "e87bdfa0",
   "metadata": {},
   "outputs": [],
   "source": []
  },
  {
   "cell_type": "code",
   "execution_count": null,
   "id": "89d94bf9",
   "metadata": {},
   "outputs": [],
   "source": []
  },
  {
   "cell_type": "code",
   "execution_count": null,
   "id": "54d99f95",
   "metadata": {},
   "outputs": [],
   "source": [
    "\n"
   ]
  }
 ],
 "metadata": {
  "kernelspec": {
   "display_name": "Python 3 (ipykernel)",
   "language": "python",
   "name": "python3"
  },
  "language_info": {
   "codemirror_mode": {
    "name": "ipython",
    "version": 3
   },
   "file_extension": ".py",
   "mimetype": "text/x-python",
   "name": "python",
   "nbconvert_exporter": "python",
   "pygments_lexer": "ipython3",
   "version": "3.11.5"
  }
 },
 "nbformat": 4,
 "nbformat_minor": 5
}
