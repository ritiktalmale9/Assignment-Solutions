{
 "cells": [
  {
   "cell_type": "code",
   "execution_count": 2,
   "id": "6d63eae7",
   "metadata": {},
   "outputs": [
    {
     "name": "stdout",
     "output_type": "stream",
     "text": [
      "enter the number 1\n",
      "enter the number 20\n",
      "2\n",
      "3\n",
      "5\n",
      "7\n",
      "11\n",
      "13\n",
      "17\n",
      "19\n"
     ]
    }
   ],
   "source": [
    "#1. Print prime numbers from 1 to 20 using a for loop.\n",
    "start = int(input(\"enter the number \"))\n",
    "end   = int(input(\"enter the number \"))\n",
    "for num in range (start,end + 1):\n",
    "    if num>1:\n",
    "        for i in range (2, int(num**0.5)+1):\n",
    "            if (num % i)  == 0:\n",
    "                break\n",
    "        else:\n",
    "            print(num) "
   ]
  },
  {
   "cell_type": "code",
   "execution_count": 8,
   "id": "654dc137",
   "metadata": {},
   "outputs": [
    {
     "name": "stdout",
     "output_type": "stream",
     "text": [
      "enter the range: 50\n",
      "1275\n"
     ]
    }
   ],
   "source": [
    "#2. Calculate the sum of numbers from 1 to 50 using a for loop\n",
    "n = int(input(\"enter the range: \"))\n",
    "total = 0    #initialize\n",
    "for i in range(1,n+1):\n",
    "    total=total+i\n",
    "print(total)    \n",
    "    "
   ]
  },
  {
   "cell_type": "code",
   "execution_count": 10,
   "id": "1a562737",
   "metadata": {},
   "outputs": [
    {
     "name": "stdout",
     "output_type": "stream",
     "text": [
      "[1, 4, 9, 16, 25, 36, 49, 64, 81, 100, 121, 144, 169, 196, 225]\n"
     ]
    }
   ],
   "source": [
    "#3. Print the square of numbers from 1 to 15 using a for loop\n",
    "squares = []\n",
    "for i in range(1,16):\n",
    "    sqr = i**2\n",
    "    squares.append(sqr)\n",
    "print(squares)    \n"
   ]
  },
  {
   "cell_type": "code",
   "execution_count": 15,
   "id": "bff280b0",
   "metadata": {},
   "outputs": [
    {
     "name": "stdout",
     "output_type": "stream",
     "text": [
      "10\n",
      "9\n",
      "8\n",
      "7\n",
      "6\n",
      "5\n",
      "4\n",
      "3\n",
      "2\n",
      "1\n"
     ]
    }
   ],
   "source": [
    "#4. Create a countdown timer that starts from 10 and counts down to 0 \n",
    "#using a for loop.\n",
    "for i in range (10,0,-1):\n",
    "    print(i)\n",
    "  "
   ]
  },
  {
   "cell_type": "code",
   "execution_count": 21,
   "id": "c57a54a0",
   "metadata": {},
   "outputs": [
    {
     "name": "stdout",
     "output_type": "stream",
     "text": [
      "[0, 1, 1, 2, 3, 5, 8, 13, 21, 34, 55, 89]\n"
     ]
    }
   ],
   "source": [
    "#5. Generate the Fibonacci sequence up to the 10th term using\n",
    "#a for loop.\n",
    "fibonacci = [0,1]        #initialize\n",
    "for i in range (0,10):\n",
    "    next_term=fibonacci[-1]+fibonacci[-2]\n",
    "    fibonacci.append(next_term)\n",
    "print(fibonacci)"
   ]
  },
  {
   "cell_type": "code",
   "execution_count": 40,
   "id": "be15fc22",
   "metadata": {},
   "outputs": [
    {
     "name": "stdout",
     "output_type": "stream",
     "text": [
      "enter the number: 13\n",
      "13 * 1 = 13\n",
      "13 * 2 = 26\n",
      "13 * 3 = 39\n",
      "13 * 4 = 52\n",
      "13 * 5 = 65\n",
      "13 * 6 = 78\n",
      "13 * 7 = 91\n",
      "13 * 8 = 104\n",
      "13 * 9 = 117\n",
      "13 * 10 = 130\n"
     ]
    }
   ],
   "source": [
    "#6. Print a multiplication table for a given number up to 10 using \n",
    "#a nested for loop.\n",
    "t = int(input(\"enter the number: \"))\n",
    "for  i in range(1,11):\n",
    "    print(f\"{t} * {i} = {t * i}\")"
   ]
  },
  {
   "cell_type": "code",
   "execution_count": 30,
   "id": "fa0fc044",
   "metadata": {},
   "outputs": [
    {
     "name": "stdout",
     "output_type": "stream",
     "text": [
      "enter the number: 5\n",
      "Factorial: 120\n"
     ]
    }
   ],
   "source": [
    "#7. Create a program that finds the factorial of a number using a \n",
    "#for loop.\n",
    "factorial = 1 #initialize\n",
    "s = int(input(\"enter the number: \"))\n",
    "for i in range (1, s+1):\n",
    "    factorial = factorial*i\n",
    "print(\"Factorial:\",factorial)    \n"
   ]
  },
  {
   "cell_type": "code",
   "execution_count": 41,
   "id": "6ce5be87",
   "metadata": {},
   "outputs": [
    {
     "name": "stdout",
     "output_type": "stream",
     "text": [
      "* \n",
      "* * \n",
      "* * * \n",
      "* * * * \n",
      "* * * * * \n"
     ]
    }
   ],
   "source": [
    "#8. Write a program that prints a pattern of stars in the shape of \n",
    "#a right-angled triangle using a for loop.\n",
    "for t in range (1,6):\n",
    "    for y in range(t):\n",
    "        print(\"*\",end =\" \")\n",
    "    print()    \n"
   ]
  },
  {
   "cell_type": "code",
   "execution_count": 18,
   "id": "72493a0b",
   "metadata": {},
   "outputs": [
    {
     "name": "stdout",
     "output_type": "stream",
     "text": [
      "enter the number 56\n",
      "it's not a prime number\n"
     ]
    }
   ],
   "source": [
    "#9. Create a program that checks whether a given number is prime or \n",
    "#not using a for loop.\n",
    "s = int(input(\"enter the number \"))\n",
    "for i in range (2,s):\n",
    "        if s % i ==0:\n",
    "            print(\"it's not a prime number\")\n",
    "            break\n",
    "else:\n",
    "    print(\"it's a prime number\")\n",
    "       "
   ]
  },
  {
   "cell_type": "code",
   "execution_count": 4,
   "id": "47fe0ac1",
   "metadata": {},
   "outputs": [
    {
     "name": "stdout",
     "output_type": "stream",
     "text": [
      "enter the digit 12\n",
      "78\n"
     ]
    }
   ],
   "source": [
    "#10.Build a program that calculates the sum of digits of a given \n",
    "#number using a for loop.\n",
    "n = int(input(\"enter the digit \"))\n",
    "total=0\n",
    "for i in range(1, n+1):\n",
    "    total=total+i\n",
    "print(total)    "
   ]
  },
  {
   "cell_type": "code",
   "execution_count": 2,
   "id": "4b788b30",
   "metadata": {
    "scrolled": true
   },
   "outputs": [
    {
     "name": "stdout",
     "output_type": "stream",
     "text": [
      "enter the current term number : 2\n",
      "6\n",
      "18\n",
      "54\n",
      "162\n",
      "486\n",
      "1458\n",
      "4374\n"
     ]
    }
   ],
   "source": [
    "#11.Print the first n terms of the geometric progression 2, 6, 18, 54, ... using a \n",
    "#for loop.\n",
    "progression = []\n",
    "current_term = int(input(\"enter the current term number : \"))\n",
    "for i in range(7):\n",
    "    progression.append(current_term)\n",
    "    current_term *= 3\n",
    "    print(current_term)"
   ]
  },
  {
   "cell_type": "code",
   "execution_count": null,
   "id": "a6895270",
   "metadata": {},
   "outputs": [],
   "source": [
    "#12. Implement a program using nested while loops to generate a \n",
    "# multiplication table for numbers from start to end.\n"
   ]
  },
  {
   "cell_type": "code",
   "execution_count": null,
   "id": "d1f5602c",
   "metadata": {},
   "outputs": [],
   "source": []
  },
  {
   "cell_type": "code",
   "execution_count": null,
   "id": "847242a9",
   "metadata": {},
   "outputs": [],
   "source": []
  },
  {
   "cell_type": "code",
   "execution_count": null,
   "id": "c8a08e8d",
   "metadata": {},
   "outputs": [],
   "source": []
  },
  {
   "cell_type": "code",
   "execution_count": null,
   "id": "1c85a024",
   "metadata": {},
   "outputs": [],
   "source": []
  },
  {
   "cell_type": "code",
   "execution_count": null,
   "id": "bab36ec5",
   "metadata": {},
   "outputs": [],
   "source": []
  },
  {
   "cell_type": "code",
   "execution_count": null,
   "id": "289e8e87",
   "metadata": {},
   "outputs": [],
   "source": []
  },
  {
   "cell_type": "code",
   "execution_count": null,
   "id": "331957f8",
   "metadata": {},
   "outputs": [],
   "source": []
  },
  {
   "cell_type": "code",
   "execution_count": null,
   "id": "895565d8",
   "metadata": {},
   "outputs": [],
   "source": []
  },
  {
   "cell_type": "code",
   "execution_count": 2,
   "id": "80d7ef89",
   "metadata": {},
   "outputs": [],
   "source": [
    "s = ['anshu','ritik','chandu','ankit']     #"
   ]
  },
  {
   "cell_type": "code",
   "execution_count": 3,
   "id": "4931b889",
   "metadata": {},
   "outputs": [
    {
     "name": "stdout",
     "output_type": "stream",
     "text": [
      "anshu he is live in nagpur\n",
      "ritik he is live in nagpur\n",
      "chandu he is live in nagpur\n",
      "ankit he is live in nagpur\n"
     ]
    }
   ],
   "source": [
    "for r in s:                                #\n",
    "    print(f'{r} he is live in nagpur')"
   ]
  },
  {
   "cell_type": "code",
   "execution_count": 4,
   "id": "94d54eb0",
   "metadata": {},
   "outputs": [],
   "source": [
    "t = [12,13,14,15,16,17,18,19,46]\n"
   ]
  },
  {
   "cell_type": "code",
   "execution_count": 5,
   "id": "4b866e8b",
   "metadata": {
    "scrolled": true
   },
   "outputs": [
    {
     "name": "stdout",
     "output_type": "stream",
     "text": [
      "12 it's a number\n",
      "13 it's a number\n",
      "14 it's a number\n",
      "15 it's a number\n",
      "16 it's a number\n",
      "17 it's a number\n",
      "18 it's a number\n",
      "19 it's a number\n",
      "46 it's a number\n"
     ]
    }
   ],
   "source": [
    "for s in t:\n",
    "    print(f\"{s} it's a number\")"
   ]
  },
  {
   "cell_type": "code",
   "execution_count": 6,
   "id": "b3eb5b76",
   "metadata": {},
   "outputs": [],
   "source": [
    "a = [12,13,14,15,16,17,18,19,46]"
   ]
  },
  {
   "cell_type": "code",
   "execution_count": 7,
   "id": "766e1941",
   "metadata": {},
   "outputs": [
    {
     "name": "stdout",
     "output_type": "stream",
     "text": [
      "the square of 12 is 144\n",
      "the square of 13 is 169\n",
      "the square of 14 is 196\n",
      "the square of 15 is 225\n",
      "the square of 16 is 256\n",
      "the square of 17 is 289\n",
      "the square of 18 is 324\n",
      "the square of 19 is 361\n",
      "the square of 46 is 2116\n"
     ]
    }
   ],
   "source": [
    "for i in a:\n",
    "    sqrt = i**2\n",
    "    print(f\"the square of {i} is {sqrt}\")"
   ]
  },
  {
   "cell_type": "code",
   "execution_count": 8,
   "id": "513ae847",
   "metadata": {},
   "outputs": [],
   "source": [
    "r = [1,2,34,5,67,89,7,54,82]"
   ]
  },
  {
   "cell_type": "code",
   "execution_count": 9,
   "id": "092285a7",
   "metadata": {},
   "outputs": [
    {
     "name": "stdout",
     "output_type": "stream",
     "text": [
      "the cube of 1 is 1\n",
      "the cube of 2 is 8\n",
      "the cube of 34 is 39304\n",
      "the cube of 5 is 125\n",
      "the cube of 67 is 300763\n",
      "the cube of 89 is 704969\n",
      "the cube of 7 is 343\n",
      "the cube of 54 is 157464\n",
      "the cube of 82 is 551368\n"
     ]
    }
   ],
   "source": [
    "for g in r:\n",
    "    cube = g**3\n",
    "    print(f\"the cube of {g} is {cube}\")"
   ]
  },
  {
   "cell_type": "code",
   "execution_count": 10,
   "id": "fd0aeff7",
   "metadata": {},
   "outputs": [
    {
     "name": "stdout",
     "output_type": "stream",
     "text": [
      "[1, 2, 34, 5, 67, 89, 7, 54, 82]\n",
      "[1, 4, 1156, 25, 4489, 7921, 49, 2916, 6724]\n"
     ]
    }
   ],
   "source": [
    "squared_numbers = []\n",
    "for i in r:\n",
    "    sqrt = i**2\n",
    "    squared_numbers.append(sqrt)\n",
    "print(r)\n",
    "print(squared_numbers)"
   ]
  },
  {
   "cell_type": "code",
   "execution_count": 11,
   "id": "732508d4",
   "metadata": {},
   "outputs": [],
   "source": [
    "t = [12,45,47,48,49,46,43,42,41,24,54]"
   ]
  },
  {
   "cell_type": "code",
   "execution_count": 12,
   "id": "da133772",
   "metadata": {},
   "outputs": [
    {
     "name": "stdout",
     "output_type": "stream",
     "text": [
      "[12, 45, 47, 48, 49, 46, 43, 42, 41, 24, 54]\n",
      "[1728, 91125, 103823, 110592, 117649, 97336, 79507, 74088, 68921, 13824, 157464]\n"
     ]
    }
   ],
   "source": [
    "cube_numbers = []\n",
    "for i in t:\n",
    "    cube = i**3\n",
    "    cube_numbers.append(cube)\n",
    "print(t) \n",
    "print(cube_numbers)"
   ]
  },
  {
   "cell_type": "code",
   "execution_count": 13,
   "id": "f4c32293",
   "metadata": {},
   "outputs": [
    {
     "name": "stdout",
     "output_type": "stream",
     "text": [
      "{12: 1728, 45: 91125, 47: 103823, 48: 110592, 49: 117649, 46: 97336, 43: 79507, 42: 74088, 41: 68921, 24: 13824, 54: 157464}\n"
     ]
    }
   ],
   "source": [
    "num_sqrt = dict(zip(t,cube_numbers))\n",
    "print(num_sqrt)"
   ]
  },
  {
   "cell_type": "code",
   "execution_count": 14,
   "id": "7ab2e3c4",
   "metadata": {},
   "outputs": [],
   "source": [
    "y = [1,2,12,11,13,14,15,16,17,14,54]\n"
   ]
  },
  {
   "cell_type": "code",
   "execution_count": 15,
   "id": "4cf538d1",
   "metadata": {},
   "outputs": [
    {
     "name": "stdout",
     "output_type": "stream",
     "text": [
      "it is odd number 1\n",
      "the cube of 2 is 8\n",
      "the cube of 12 is 1728\n",
      "it is odd number 11\n",
      "it is odd number 13\n",
      "the cube of 14 is 2744\n",
      "it is odd number 15\n",
      "the cube of 16 is 4096\n",
      "it is odd number 17\n",
      "the cube of 14 is 2744\n",
      "the cube of 54 is 157464\n"
     ]
    }
   ],
   "source": [
    "for i in y:\n",
    "    if i % 2 == 0:\n",
    "        cube_number = i**3\n",
    "        print(f'the cube of {i} is {cube_number}')\n",
    "    else:\n",
    "        print(f'it is odd number {i}')      "
   ]
  },
  {
   "cell_type": "code",
   "execution_count": 1,
   "id": "c23a828c",
   "metadata": {},
   "outputs": [
    {
     "data": {
      "text/plain": [
       "[0,\n",
       " 1,\n",
       " 2,\n",
       " 3,\n",
       " 4,\n",
       " 5,\n",
       " 6,\n",
       " 7,\n",
       " 8,\n",
       " 9,\n",
       " 10,\n",
       " 11,\n",
       " 12,\n",
       " 13,\n",
       " 14,\n",
       " 15,\n",
       " 16,\n",
       " 17,\n",
       " 18,\n",
       " 19,\n",
       " 20,\n",
       " 21,\n",
       " 22,\n",
       " 23,\n",
       " 24,\n",
       " 25,\n",
       " 26,\n",
       " 27,\n",
       " 28,\n",
       " 29,\n",
       " 30,\n",
       " 31,\n",
       " 32,\n",
       " 33,\n",
       " 34,\n",
       " 35,\n",
       " 36,\n",
       " 37,\n",
       " 38,\n",
       " 39,\n",
       " 40,\n",
       " 41,\n",
       " 42,\n",
       " 43,\n",
       " 44,\n",
       " 45,\n",
       " 46,\n",
       " 47,\n",
       " 48,\n",
       " 49,\n",
       " 50]"
      ]
     },
     "execution_count": 1,
     "metadata": {},
     "output_type": "execute_result"
    }
   ],
   "source": [
    "list(range(51))"
   ]
  },
  {
   "cell_type": "code",
   "execution_count": 2,
   "id": "e1deffd4",
   "metadata": {},
   "outputs": [
    {
     "name": "stdout",
     "output_type": "stream",
     "text": [
      "the square of 0 is 0\n",
      "the square of 2 is 4\n",
      "the square of 4 is 16\n",
      "the square of 6 is 36\n",
      "the square of 8 is 64\n"
     ]
    }
   ],
   "source": [
    "for i in range (0,10,2):\n",
    "    sqrt = i**2\n",
    "    print(f'the square of {i} is {sqrt}')"
   ]
  },
  {
   "cell_type": "code",
   "execution_count": 3,
   "id": "4e7f5ce8",
   "metadata": {},
   "outputs": [
    {
     "name": "stdout",
     "output_type": "stream",
     "text": [
      "the cube of 0 is 0\n",
      "the cube of 3 is 27\n",
      "the cube of 6 is 216\n",
      "the cube of 9 is 729\n",
      "the cube of 12 is 1728\n",
      "the cube of 15 is 3375\n",
      "the cube of 18 is 5832\n",
      "the cube of 21 is 9261\n",
      "the cube of 24 is 13824\n",
      "the cube of 27 is 19683\n",
      "the cube of 30 is 27000\n",
      "the cube of 33 is 35937\n",
      "the cube of 36 is 46656\n",
      "the cube of 39 is 59319\n",
      "the cube of 42 is 74088\n",
      "the cube of 45 is 91125\n",
      "the cube of 48 is 110592\n"
     ]
    }
   ],
   "source": [
    "for i in range (0,50,3):\n",
    "    cube = i**3\n",
    "    print(f\"the cube of {i} is {cube}\")\n"
   ]
  },
  {
   "cell_type": "code",
   "execution_count": 4,
   "id": "fa79ab1f",
   "metadata": {},
   "outputs": [
    {
     "data": {
      "text/plain": [
       "[0,\n",
       " 2,\n",
       " 4,\n",
       " 6,\n",
       " 8,\n",
       " 10,\n",
       " 12,\n",
       " 14,\n",
       " 16,\n",
       " 18,\n",
       " 20,\n",
       " 22,\n",
       " 24,\n",
       " 26,\n",
       " 28,\n",
       " 30,\n",
       " 32,\n",
       " 34,\n",
       " 36,\n",
       " 38,\n",
       " 40,\n",
       " 42,\n",
       " 44,\n",
       " 46,\n",
       " 48,\n",
       " 50]"
      ]
     },
     "execution_count": 4,
     "metadata": {},
     "output_type": "execute_result"
    }
   ],
   "source": [
    "list(range(0,51,2))"
   ]
  },
  {
   "cell_type": "code",
   "execution_count": 15,
   "id": "563a99e6",
   "metadata": {},
   "outputs": [
    {
     "name": "stdout",
     "output_type": "stream",
     "text": [
      "179\n"
     ]
    }
   ],
   "source": [
    "n = [4,5,6,7,8,9,45,42,48,5]\n",
    "m = 0\n",
    "for i in n:\n",
    "    m = m + i\n",
    "print(m)    "
   ]
  },
  {
   "cell_type": "code",
   "execution_count": 7,
   "id": "6208f0a0",
   "metadata": {},
   "outputs": [
    {
     "data": {
      "text/plain": [
       "179"
      ]
     },
     "execution_count": 7,
     "metadata": {},
     "output_type": "execute_result"
    }
   ],
   "source": [
    "sum(n)"
   ]
  },
  {
   "cell_type": "code",
   "execution_count": 19,
   "id": "762656a3",
   "metadata": {},
   "outputs": [
    {
     "name": "stdout",
     "output_type": "stream",
     "text": [
      "149\n"
     ]
    }
   ],
   "source": [
    "w = [1,2,4,5,6,8,7,45,56,2,1,4,5,2,1]\n",
    "r = 0\n",
    "for i in w:\n",
    "    r = r+i\n",
    "print(r)    "
   ]
  },
  {
   "cell_type": "code",
   "execution_count": 21,
   "id": "59806038",
   "metadata": {},
   "outputs": [
    {
     "name": "stdout",
     "output_type": "stream",
     "text": [
      "total of above list :  149\n"
     ]
    }
   ],
   "source": [
    "w = [1,2,4,5,6,8,7,45,56,2,1,4,5,2,1]\n",
    "print('total of above list : ',sum(w))"
   ]
  },
  {
   "cell_type": "code",
   "execution_count": null,
   "id": "c19a4276",
   "metadata": {},
   "outputs": [],
   "source": []
  },
  {
   "cell_type": "code",
   "execution_count": null,
   "id": "f992dbbc",
   "metadata": {},
   "outputs": [],
   "source": []
  },
  {
   "cell_type": "code",
   "execution_count": null,
   "id": "7174bc25",
   "metadata": {},
   "outputs": [],
   "source": []
  },
  {
   "cell_type": "code",
   "execution_count": null,
   "id": "72f5eb32",
   "metadata": {},
   "outputs": [],
   "source": []
  }
 ],
 "metadata": {
  "kernelspec": {
   "display_name": "Python 3 (ipykernel)",
   "language": "python",
   "name": "python3"
  },
  "language_info": {
   "codemirror_mode": {
    "name": "ipython",
    "version": 3
   },
   "file_extension": ".py",
   "mimetype": "text/x-python",
   "name": "python",
   "nbconvert_exporter": "python",
   "pygments_lexer": "ipython3",
   "version": "3.11.5"
  }
 },
 "nbformat": 4,
 "nbformat_minor": 5
}
