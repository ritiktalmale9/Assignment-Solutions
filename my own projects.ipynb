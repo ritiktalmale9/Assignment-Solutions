{
 "cells": [
  {
   "cell_type": "code",
   "execution_count": 1,
   "id": "c1a1076c",
   "metadata": {},
   "outputs": [],
   "source": [
    "import turtle\n",
    "import colorsys\n",
    "t = turtle.Turtle()\n",
    "turtle.Screen().bgcolor(\"black\")\n",
    "t.pensize(2)\n",
    "t.speed(20)\n",
    "n = 36\n",
    "h = 0\n",
    "for i in range (90):\n",
    "    c = colorsys.hsv_to_rgb(h,1,0.9)\n",
    "    h+=1/n\n",
    "    t.pencolor(c)\n",
    "    for j in range(5):\n",
    "        t.forward(i-3)\n",
    "        t.right(9*5)\n",
    "        t.left(8)\n",
    "    t.right(115)\n",
    "turtle.done()    \n"
   ]
  },
  {
   "cell_type": "code",
   "execution_count": 2,
   "id": "e9c77db2",
   "metadata": {},
   "outputs": [
    {
     "name": "stdout",
     "output_type": "stream",
     "text": [
      "Requirement already satisfied: phonenumbers in c:\\users\\91950\\anaconda3\\lib\\site-packages (8.13.29)\n",
      "Note: you may need to restart the kernel to use updated packages.\n"
     ]
    }
   ],
   "source": [
    "pip install phonenumbers"
   ]
  },
  {
   "cell_type": "code",
   "execution_count": 3,
   "id": "70fc5c0a",
   "metadata": {},
   "outputs": [],
   "source": [
    "import phonenumbers"
   ]
  },
  {
   "cell_type": "code",
   "execution_count": 4,
   "id": "e0232059",
   "metadata": {},
   "outputs": [],
   "source": [
    "from phonenumbers import geocoder"
   ]
  },
  {
   "cell_type": "code",
   "execution_count": 5,
   "id": "05a99d39",
   "metadata": {},
   "outputs": [],
   "source": [
    "def track_phone_number(phone_number):\n",
    "    try:\n",
    "        parsed_number = phonenumbers.parse(phone_number, None)\n",
    "        region = geocoder.description_for_number(parsed_number, \"en\")\n",
    "        print(f\"The phone number is from {region}\")\n",
    "    except phonenumbers.NumberFormatException:\n",
    "        print(\"Invalid phone number format.\")\n",
    "    except phonenumbers.NumberFormatError:\n",
    "        print(\"Error in number format.\")\n",
    "    except Exception as e:\n",
    "        print(f\"An erroroccured: {e}\")\n",
    "        "
   ]
  },
  {
   "cell_type": "code",
   "execution_count": 6,
   "id": "ebf7d70c",
   "metadata": {},
   "outputs": [],
   "source": [
    "phone_number= \"+919503394721\""
   ]
  },
  {
   "cell_type": "code",
   "execution_count": 7,
   "id": "f6796fd3",
   "metadata": {},
   "outputs": [
    {
     "name": "stdout",
     "output_type": "stream",
     "text": [
      "The phone number is from India\n"
     ]
    }
   ],
   "source": [
    "track_phone_number(phone_number)"
   ]
  },
  {
   "cell_type": "code",
   "execution_count": 8,
   "id": "76691e03",
   "metadata": {},
   "outputs": [],
   "source": [
    "phone_number = \"+12136574429\""
   ]
  },
  {
   "cell_type": "code",
   "execution_count": 9,
   "id": "095dd01d",
   "metadata": {},
   "outputs": [
    {
     "name": "stdout",
     "output_type": "stream",
     "text": [
      "The phone number is from Los Angeles, CA\n"
     ]
    }
   ],
   "source": [
    "track_phone_number(phone_number)"
   ]
  },
  {
   "cell_type": "code",
   "execution_count": 10,
   "id": "f31f23e3",
   "metadata": {},
   "outputs": [],
   "source": [
    "phone_number= \"+918878586271\""
   ]
  },
  {
   "cell_type": "code",
   "execution_count": 11,
   "id": "05bc2870",
   "metadata": {},
   "outputs": [
    {
     "name": "stdout",
     "output_type": "stream",
     "text": [
      "The phone number is from India\n"
     ]
    }
   ],
   "source": [
    "track_phone_number(phone_number)"
   ]
  },
  {
   "cell_type": "markdown",
   "id": "623b4e6f",
   "metadata": {},
   "source": [
    "### 2048 Game in Python"
   ]
  },
  {
   "cell_type": "code",
   "execution_count": 12,
   "id": "2eeff7b1",
   "metadata": {},
   "outputs": [],
   "source": [
    "import random"
   ]
  },
  {
   "cell_type": "code",
   "execution_count": 13,
   "id": "f336eeed",
   "metadata": {},
   "outputs": [
    {
     "ename": "SyntaxError",
     "evalue": "expected '(' (3045569259.py, line 1)",
     "output_type": "error",
     "traceback": [
      "\u001b[1;36m  Cell \u001b[1;32mIn[13], line 1\u001b[1;36m\u001b[0m\n\u001b[1;33m    def start-game():\u001b[0m\n\u001b[1;37m             ^\u001b[0m\n\u001b[1;31mSyntaxError\u001b[0m\u001b[1;31m:\u001b[0m expected '('\n"
     ]
    }
   ],
   "source": [
    "def start-game():\n",
    "    for i in range(4):\n",
    "        mat.append([0]*4)\n",
    "    print(\"Commands are as follows : \")\n",
    "    print(\"'W' or 'w' : move up\")\n",
    "    print(\"'S' or 's' : move down\")\n",
    "    print(\"'A' or 'a' : move left\")\n",
    "    print(\"'D' or 'd' : move right\")\n",
    "    add_new_2(mat)\n",
    "    return mat\n",
    "def add_new_2(mat):\n",
    "    r = random.randint(0,3)\n",
    "    c = random.randint(0,3)\n",
    "    while(mat[r][c] !=0):\n",
    "        r = random.randint(0,3)\n",
    "        c = random.randint(0,3)\n",
    "    mat[r][c] = 2\n",
    "    def get_current_state(mat):\n",
    "        for i in range (4):\n",
    "            for j in range (4):\n",
    "                if(mat[i][j]==2048):\n",
    "                    return \"WON\"\n",
    "        for i in range (4):\n",
    "            for j in range (4):\n",
    "                if(mat[i][j]==0):\n",
    "                     return \"GAME NOT OVER\"         \n",
    "        for i in range (3):\n",
    "            for j in range(3):\n",
    "                if (mat[i][j]==mat[i+1][j] or mat[i][j]== mat[i][j+1]):\n",
    "                    return \"GAME NOT OVER\"\n",
    "        for j in range(3):\n",
    "            if (mat[3][j]==mat[3][j+1]):\n",
    "                 return \"GAME NOT OVER\"\n",
    "        for i in range(3):\n",
    "            if (mat[i][3]==mat[i+1][3]):\n",
    "                 return \"GAME NOT OVER\"\n",
    "        return \"LOST\"\n",
    "    def compress(mat):\n",
    "        changed = false\n",
    "        new_mat=[]\n",
    "        for i in range(4):\n",
    "            new_mat.append([0]*[4])\n",
    "        for i in range(4):\n",
    "            pos = 0\n",
    "            for j in range(4):\n",
    "                if(mat[i][j]!=0):\n",
    "                    new_mat[i][pos]=mat[i][j]\n",
    "                    if (j!=pos):\n",
    "                        chnaged = True\n",
    "                    pos + 1 \n",
    "        return new_mat,changed\n",
    "    def merge(mat):\n",
    "        changed = false\n",
    "        for i in range(4):\n",
    "            for j in range(3):\n",
    "                if (mat[i][j]==mat[i][j+1]and mat[i][j]!=0):\n",
    "                    mat[i][j]=mat[i][j]*2\n",
    "                    mat[i][j+1]=0\n",
    "                    changed = True\n",
    "            return mat,changed\n",
    "    def     \n",
    "                \n",
    "        \n",
    "            "
   ]
  },
  {
   "cell_type": "code",
   "execution_count": null,
   "id": "85be8508",
   "metadata": {},
   "outputs": [],
   "source": []
  },
  {
   "cell_type": "code",
   "execution_count": null,
   "id": "c5ab548d",
   "metadata": {},
   "outputs": [],
   "source": []
  }
 ],
 "metadata": {
  "kernelspec": {
   "display_name": "Python 3 (ipykernel)",
   "language": "python",
   "name": "python3"
  },
  "language_info": {
   "codemirror_mode": {
    "name": "ipython",
    "version": 3
   },
   "file_extension": ".py",
   "mimetype": "text/x-python",
   "name": "python",
   "nbconvert_exporter": "python",
   "pygments_lexer": "ipython3",
   "version": "3.11.5"
  }
 },
 "nbformat": 4,
 "nbformat_minor": 5
}
