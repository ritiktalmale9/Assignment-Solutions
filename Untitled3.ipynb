{
 "cells": [
  {
   "cell_type": "code",
   "execution_count": 1,
   "id": "869e4c66",
   "metadata": {},
   "outputs": [],
   "source": [
    "#1.Write a python program to sum three numbers.\n",
    "def sum(n,n1,n2):\n",
    "    return n+n1+n2\n",
    "    "
   ]
  },
  {
   "cell_type": "code",
   "execution_count": 4,
   "id": "016a5c65",
   "metadata": {},
   "outputs": [
    {
     "data": {
      "text/plain": [
       "60"
      ]
     },
     "execution_count": 4,
     "metadata": {},
     "output_type": "execute_result"
    }
   ],
   "source": [
    "sum(20,30,10)"
   ]
  },
  {
   "cell_type": "code",
   "execution_count": 10,
   "id": "c2a14270",
   "metadata": {},
   "outputs": [
    {
     "name": "stdout",
     "output_type": "stream",
     "text": [
      "Error: invalid literal for int() with base 10: 'My name is Sarthak'\n"
     ]
    }
   ],
   "source": [
    "#2. X=890 convert the data type integer into string Y=”125” convert\n",
    "#the data type string into integer Z=”My name is Sarthak”..can I convert\n",
    "#the type of this string into integer? Try it ..and give reason why it\n",
    "#didn’tconvert the data type\n"
   ]
  },
  {
   "cell_type": "code",
   "execution_count": 9,
   "id": "2a638088",
   "metadata": {},
   "outputs": [
    {
     "name": "stdout",
     "output_type": "stream",
     "text": [
      "<class 'type'> 890\n"
     ]
    }
   ],
   "source": []
  },
  {
   "cell_type": "code",
   "execution_count": 18,
   "id": "add232dd",
   "metadata": {},
   "outputs": [
    {
     "name": "stdout",
     "output_type": "stream",
     "text": [
      "bdf\n"
     ]
    }
   ],
   "source": [
    "#3. Using slicing, extract every second character from the string\n",
    "#\"abcdef\"\n",
    "x = \"abcdef\"\n",
    "y = x[1::2]\n",
    "print(y)"
   ]
  },
  {
   "cell_type": "code",
   "execution_count": 16,
   "id": "e24f1a29",
   "metadata": {},
   "outputs": [
    {
     "data": {
      "text/plain": [
       "3"
      ]
     },
     "execution_count": 16,
     "metadata": {},
     "output_type": "execute_result"
    }
   ],
   "source": [
    "1+2"
   ]
  },
  {
   "cell_type": "code",
   "execution_count": 19,
   "id": "827b8337",
   "metadata": {},
   "outputs": [
    {
     "name": "stdout",
     "output_type": "stream",
     "text": [
      "gninroM dooG\n"
     ]
    }
   ],
   "source": [
    "#4. Create a string greeting = \"Good morning\" and use slicing to \n",
    "#reverse the string.\n",
    "greeting = \"Good Morning\"\n",
    "reverse = greeting[::-1]\n",
    "print(reverse)"
   ]
  },
  {
   "cell_type": "code",
   "execution_count": 22,
   "id": "e1eac1c3",
   "metadata": {},
   "outputs": [
    {
     "name": "stdout",
     "output_type": "stream",
     "text": [
      "ytho\n"
     ]
    }
   ],
   "source": [
    "#5. Create a variable word = \"Python\" and use slicing to get the\n",
    "#characters \"ytho\".\n",
    "x = \"python\"\n",
    "y = x[1:5]\n",
    "print(y)"
   ]
  },
  {
   "cell_type": "code",
   "execution_count": 25,
   "id": "59c056d6",
   "metadata": {},
   "outputs": [
    {
     "name": "stdout",
     "output_type": "stream",
     "text": [
      "['new york', 'los angles', 'dallas', 'houston', 'miami']\n"
     ]
    }
   ],
   "source": [
    "#6. Create a list cities = [\"New York\", \"Los Angeles\", \"Chicago\",\n",
    "#\"Houston\", \"Miami\"] and replace the third element with \"Dallas\".\n",
    "cities = [\"new york\", \"los angles\", \"chicago\", \"houston\",\"miami\"]\n",
    "cities[2] = \"dallas\"\n",
    "print(cities)\n"
   ]
  },
  {
   "cell_type": "code",
   "execution_count": 28,
   "id": "17ad2ba0",
   "metadata": {},
   "outputs": [
    {
     "name": "stdout",
     "output_type": "stream",
     "text": [
      "[1, 2, 3, 4, 5]\n"
     ]
    }
   ],
   "source": [
    "#7. Using list slicing, reverse the list [5, 4, 3, 2, 1].\n",
    "list1 = [5,4,3,2,1]\n",
    "list2 = list1[::-1]\n",
    "print(list2)"
   ]
  },
  {
   "cell_type": "code",
   "execution_count": 29,
   "id": "d642145c",
   "metadata": {},
   "outputs": [
    {
     "name": "stdout",
     "output_type": "stream",
     "text": [
      "[9, 10]\n"
     ]
    }
   ],
   "source": [
    "#8. Given the list numbers = [1, 2, 3, 4, 5, [6, 7, 8, 9, 10]]\n",
    "#, access [9,10]\n",
    "num = [1, 2, 3, 4, 5, [6, 7, 8, 9, 10]]\n",
    "num1 = num[5][3:]\n",
    "print(num1)"
   ]
  },
  {
   "cell_type": "code",
   "execution_count": 31,
   "id": "3f2a29e1",
   "metadata": {},
   "outputs": [
    {
     "name": "stdout",
     "output_type": "stream",
     "text": [
      "Welcome to Python!\n"
     ]
    }
   ],
   "source": [
    "#9. Given the string message = \" Welcome to Python! \", use the strip()\n",
    "#function to remove leading and trailing spaces.\n",
    "message = \" Welcome to Python! \" \n",
    "strip = message.strip()\n",
    "print(strip)"
   ]
  },
  {
   "cell_type": "code",
   "execution_count": 32,
   "id": "1acf71ad",
   "metadata": {},
   "outputs": [
    {
     "name": "stdout",
     "output_type": "stream",
     "text": [
      "excentent\n"
     ]
    }
   ],
   "source": [
    "#10.Create a string word = \"excellent\" and use the replace() function\n",
    "#to replace \"cell\" with \"cent\".\n",
    "word = \"excellent\"\n",
    "word1 = word.replace(\"cell\",\"cent\")\n",
    "print(word1)"
   ]
  },
  {
   "cell_type": "code",
   "execution_count": null,
   "id": "2d386ae4",
   "metadata": {},
   "outputs": [],
   "source": [
    "#11.Write a program that takes an integer as input, converts it into a\n",
    "#float, performs some arithmetic operations involving both integers and\n",
    "#floats, and prints the results.\n"
   ]
  },
  {
   "cell_type": "code",
   "execution_count": null,
   "id": "9c7fa497",
   "metadata": {},
   "outputs": [],
   "source": [
    "#12.Write a program that takes a numerical string as input and converts\n",
    "#it into an integer. Perform arithmetic operations on the integer and\n",
    "#print the results.\n"
   ]
  },
  {
   "cell_type": "code",
   "execution_count": null,
   "id": "d2ba3a4a",
   "metadata": {},
   "outputs": [],
   "source": []
  },
  {
   "cell_type": "code",
   "execution_count": null,
   "id": "70b8198a",
   "metadata": {},
   "outputs": [],
   "source": []
  },
  {
   "cell_type": "code",
   "execution_count": null,
   "id": "f18d0036",
   "metadata": {},
   "outputs": [],
   "source": []
  },
  {
   "cell_type": "code",
   "execution_count": null,
   "id": "db06a281",
   "metadata": {},
   "outputs": [],
   "source": []
  },
  {
   "cell_type": "code",
   "execution_count": null,
   "id": "1cbae0b0",
   "metadata": {},
   "outputs": [],
   "source": []
  },
  {
   "cell_type": "code",
   "execution_count": null,
   "id": "dc9c56d3",
   "metadata": {},
   "outputs": [],
   "source": []
  },
  {
   "cell_type": "code",
   "execution_count": null,
   "id": "416ba557",
   "metadata": {},
   "outputs": [],
   "source": []
  },
  {
   "cell_type": "code",
   "execution_count": null,
   "id": "8bab9895",
   "metadata": {},
   "outputs": [],
   "source": []
  }
 ],
 "metadata": {
  "kernelspec": {
   "display_name": "Python 3 (ipykernel)",
   "language": "python",
   "name": "python3"
  },
  "language_info": {
   "codemirror_mode": {
    "name": "ipython",
    "version": 3
   },
   "file_extension": ".py",
   "mimetype": "text/x-python",
   "name": "python",
   "nbconvert_exporter": "python",
   "pygments_lexer": "ipython3",
   "version": "3.11.5"
  }
 },
 "nbformat": 4,
 "nbformat_minor": 5
}
