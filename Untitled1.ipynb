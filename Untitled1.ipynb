{
 "cells": [
  {
   "cell_type": "markdown",
   "id": "c0e421db",
   "metadata": {},
   "source": [
    "### Practice of OOPS"
   ]
  },
  {
   "cell_type": "code",
   "execution_count": 5,
   "id": "6907ed8e",
   "metadata": {},
   "outputs": [],
   "source": [
    "def subtraction(n1, n2):    #this is parameters\n",
    "    total=n1-n2\n",
    "    print(total)"
   ]
  },
  {
   "cell_type": "code",
   "execution_count": 6,
   "id": "76f5aff5",
   "metadata": {
    "scrolled": true
   },
   "outputs": [
    {
     "name": "stdout",
     "output_type": "stream",
     "text": [
      "-241\n"
     ]
    }
   ],
   "source": [
    "subtraction(323, 564)    #this is arguments"
   ]
  },
  {
   "cell_type": "code",
   "execution_count": 14,
   "id": "0d455cfd",
   "metadata": {},
   "outputs": [],
   "source": [
    "def subtraction(num1, num2):    \n",
    "    total=num1-num2\n",
    "    return total"
   ]
  },
  {
   "cell_type": "code",
   "execution_count": 15,
   "id": "c28965fe",
   "metadata": {},
   "outputs": [
    {
     "data": {
      "text/plain": [
       "-10"
      ]
     },
     "execution_count": 15,
     "metadata": {},
     "output_type": "execute_result"
    }
   ],
   "source": [
    "subtraction(50,60)"
   ]
  },
  {
   "cell_type": "code",
   "execution_count": null,
   "id": "15bc4c05",
   "metadata": {},
   "outputs": [],
   "source": []
  },
  {
   "cell_type": "code",
   "execution_count": null,
   "id": "a1c9dd8a",
   "metadata": {},
   "outputs": [],
   "source": []
  },
  {
   "cell_type": "code",
   "execution_count": 1,
   "id": "97f2f680",
   "metadata": {},
   "outputs": [],
   "source": [
    "class car:\n",
    "    def details(self,speed,color,name,cc,milege):\n",
    "        self.speed = speed\n",
    "        self.color = color\n",
    "        self.name = name\n",
    "        self.cc = cc\n",
    "        self.milege = milege\n",
    "    def print_details(self):\n",
    "        print(\"The car name is   : \",self.name,\"\\nCar color is      : \",self.color,\"\\nCar top speed is  : \",self.speed,\"\\nThe car milege is : \",self.milege,\"\\nThe car cc is     : \",self.cc) "
   ]
  },
  {
   "cell_type": "code",
   "execution_count": 2,
   "id": "a46a15fd",
   "metadata": {},
   "outputs": [
    {
     "name": "stdout",
     "output_type": "stream",
     "text": [
      "The car name is   :  kushaq \n",
      "Car color is      :  black \n",
      "Car top speed is  :  250/hr \n",
      "The car milege is :  19.5 \n",
      "The car cc is     :  2966\n"
     ]
    }
   ],
   "source": [
    "skoda=car()\n",
    "skoda.details(\"250/hr\",\"black\",\"kushaq\",\"2966\",\"19.5\")\n",
    "skoda.print_details()              \n"
   ]
  },
  {
   "cell_type": "code",
   "execution_count": 3,
   "id": "089e16b5",
   "metadata": {},
   "outputs": [
    {
     "name": "stdout",
     "output_type": "stream",
     "text": [
      "The car name is   :  mercedes e class \n",
      "Car color is      :  matt black \n",
      "Car top speed is  :  300/hr \n",
      "The car milege is :  10.5 \n",
      "The car cc is     :  3066\n"
     ]
    }
   ],
   "source": [
    "mercedes=car()\n",
    "mercedes.details(\"300/hr\",\"matt black\",\"mercedes e class\",\"3066\",\"10.5\")\n",
    "mercedes.print_details()"
   ]
  },
  {
   "cell_type": "code",
   "execution_count": 4,
   "id": "ced5c798",
   "metadata": {},
   "outputs": [],
   "source": [
    "class mobile:\n",
    "    def details(self,name,color,ram,rom,battery,processor,primary_camera,secondary_camera,price):\n",
    "        self.name = name\n",
    "        self.color = color\n",
    "        self.ram = ram\n",
    "        self.rom = rom\n",
    "        self.battery = battery\n",
    "        self.processor = processor\n",
    "        self.primary_camera = primary_camera \n",
    "        self.secondary_camera = secondary_camera\n",
    "        self.price = price\n",
    "    def print_details(self):\n",
    "        print(\"The mobile model name is: \",self.name,\"\\nMobile color is         : \",self.color,\"\\nMobile ram is           : \",self.ram,\"\\nMobile rom is           : \",self.rom,\"\\nMobile battery backup is: \",self.battery,\"\\nThe mobile processor is : \",self.processor,\"\\nThe primary camera is   : \",self.primary_camera,\"\\nThe secondary camera is : \",self.secondary_camera,\"\\nThe mobile price is     : \",self.price)\n",
    "    "
   ]
  },
  {
   "cell_type": "code",
   "execution_count": 5,
   "id": "53ce4c3f",
   "metadata": {},
   "outputs": [
    {
     "name": "stdout",
     "output_type": "stream",
     "text": [
      "The mobile model name is:  Oneplus Nord 2t 5G \n",
      "Mobile color is         :  Misty Green \n",
      "Mobile ram is           :  8 Gb \n",
      "Mobile rom is           :  128 Gb \n",
      "Mobile battery backup is:  4500 mAh (TYP) \n",
      "The mobile processor is :  1300 Dimensity \n",
      "The primary camera is   :  32 MP \n",
      "The secondary camera is :  50MP+8MP+2MP \n",
      "The mobile price is     :  29999\n"
     ]
    }
   ],
   "source": [
    "oneplus=mobile()\n",
    "oneplus.details(\"Oneplus Nord 2t 5G\",\"Misty Green\",\"8 Gb\",\"128 Gb\",\"4500 mAh (TYP)\",\"1300 Dimensity\",\"32 MP\",\"50MP+8MP+2MP\",\"29999\")\n",
    "oneplus.print_details()"
   ]
  },
  {
   "cell_type": "code",
   "execution_count": 6,
   "id": "b995425f",
   "metadata": {},
   "outputs": [
    {
     "name": "stdout",
     "output_type": "stream",
     "text": [
      "The mobile model name is:  iphone 15 Pro Max \n",
      "Mobile color is         :  purple \n",
      "Mobile ram is           :  -- \n",
      "Mobile rom is           :  1 TB \n",
      "Mobile battery backup is:  3500 mAh \n",
      "The mobile processor is :  apple \n",
      "The primary camera is   :  12 MP \n",
      "The secondary camera is :  48MP+12MP+12MP \n",
      "The mobile price is     :  156900\n"
     ]
    }
   ],
   "source": [
    "iphone=mobile()\n",
    "iphone.details(\"iphone 15 Pro Max\",\"purple\",\"--\",\"1 TB\",\"3500 mAh\",\"apple\",\"12 MP\",\"48MP+12MP+12MP\",\"156900\")\n",
    "iphone.print_details()"
   ]
  },
  {
   "cell_type": "code",
   "execution_count": 7,
   "id": "10a45656",
   "metadata": {},
   "outputs": [],
   "source": [
    "class mobile:\n",
    "    def __init__(self,name,color,ram,rom,battery,processor,primary_camera,secondary_camera,price):\n",
    "        self.name = name\n",
    "        self.color = color\n",
    "        self.ram = ram\n",
    "        self.rom = rom\n",
    "        self.battery = battery\n",
    "        self.processor = processor\n",
    "        self.primary_camera = primary_camera \n",
    "        self.secondary_camera = secondary_camera\n",
    "        self.price = price\n",
    "    def print_details(self):\n",
    "        print(\"The mobile model name is: \",self.name,\"\\nMobile color is         : \",self.color,\"\\nMobile ram is           : \",self.ram,\"\\nMobile rom is           : \",self.rom,\"\\nMobile battery backup is: \",self.battery,\"\\nThe mobile processor is : \",self.processor,\"\\nThe primary camera is   : \",self.primary_camera,\"\\nThe secondary camera is : \",self.secondary_camera,\"\\nThe mobile price is     : \",self.price)\n",
    "    "
   ]
  },
  {
   "cell_type": "code",
   "execution_count": 8,
   "id": "68e4cda1",
   "metadata": {
    "scrolled": true
   },
   "outputs": [
    {
     "name": "stdout",
     "output_type": "stream",
     "text": [
      "The mobile model name is:  iphone 15 Pro Max \n",
      "Mobile color is         :  purple \n",
      "Mobile ram is           :  -- \n",
      "Mobile rom is           :  1 TB \n",
      "Mobile battery backup is:  3500 mAh \n",
      "The mobile processor is :  apple \n",
      "The primary camera is   :  12 MP \n",
      "The secondary camera is :  48MP+12MP+12MP \n",
      "The mobile price is     :  156900\n"
     ]
    }
   ],
   "source": [
    "iphone.details(\"iphone 15 Pro Max\",\"purple\",\"--\",\"1 TB\",\"3500 mAh\",\"apple\",\"12 MP\",\"48MP+12MP+12MP\",\"156900\")\n",
    "iphone.print_details()"
   ]
  },
  {
   "cell_type": "code",
   "execution_count": 9,
   "id": "a019686b",
   "metadata": {},
   "outputs": [],
   "source": [
    "class mobile:\n",
    "    def __init__(self,name,color,ram,rom,battery,processor,primary_camera,secondary_camera,price):\n",
    "        self.name = name\n",
    "        self.color = color\n",
    "        self.ram = ram\n",
    "        self.rom = rom\n",
    "        self.battery = battery\n",
    "        self.processor = processor\n",
    "        self.primary_camera = primary_camera \n",
    "        self.secondary_camera = secondary_camera\n",
    "        self.price = price\n",
    "    def print_details(self):\n",
    "        print(\"The mobile model name is  : \",self.name,\"\\nMobile color is           : \",self.color,\"\\nMobile ram is             : \",self.ram,\"\\nMobile rom is             : \",self.rom,\"\\nMobile battery backup is  : \",self.battery,\"\\nThe mobile processor is   : \",self.processor,\"\\nThe primary camera is     : \",self.primary_camera,\"\\nThe secondary camera is   : \",self.secondary_camera,\"\\nThe mobile price is       : \",self.price)\n",
    "    "
   ]
  },
  {
   "cell_type": "code",
   "execution_count": 10,
   "id": "aa1d9447",
   "metadata": {
    "scrolled": true
   },
   "outputs": [
    {
     "name": "stdout",
     "output_type": "stream",
     "text": [
      "The mobile model name is  :  Google Pixel 8 Pro \n",
      "Mobile color is           :  white \n",
      "Mobile ram is             :  8 Gb \n",
      "Mobile rom is             :  256 Gb \n",
      "Mobile battery backup is  :  5000 mAh \n",
      "The mobile processor is   :  Tensor G3 \n",
      "The primary camera is     :  10.5 MP \n",
      "The secondary camera is   :  50MP+48MP+48MP \n",
      "The mobile price is       :  1,06,999\n"
     ]
    }
   ],
   "source": [
    "google_pixel=mobile(\"Google Pixel 8 Pro\",\"white\",\"8 Gb\",\"256 Gb\",\"5000 mAh\",\"Tensor G3\",\"10.5 MP\",\"50MP+48MP+48MP\",\"1,06,999\")\n",
    "google_pixel.print_details()"
   ]
  },
  {
   "cell_type": "markdown",
   "id": "c0f61576",
   "metadata": {},
   "source": [
    "# Exception Handling"
   ]
  },
  {
   "cell_type": "code",
   "execution_count": 3,
   "id": "3d8b2bc2",
   "metadata": {},
   "outputs": [
    {
     "data": {
      "text/plain": [
       "2"
      ]
     },
     "execution_count": 3,
     "metadata": {},
     "output_type": "execute_result"
    }
   ],
   "source": [
    "int(2)"
   ]
  },
  {
   "cell_type": "code",
   "execution_count": 3,
   "id": "7034f5ce",
   "metadata": {},
   "outputs": [
    {
     "name": "stdout",
     "output_type": "stream",
     "text": [
      "enter the money you want to withdraw: 19000\n",
      "your remaining balance is:  1000\n",
      "Thank you sir\n"
     ]
    }
   ],
   "source": [
    " class balanceexception(Exception):\n",
    "        pass\n",
    "def checkbalance():\n",
    "    money = 20000\n",
    "    money_to_withdraw = int(input(\"enter the money you want to withdraw: \"))\n",
    "    balance = money-money_to_withdraw\n",
    "    if balance<=500:\n",
    "        raise balanceexception(\"insufficent balance, please check your balance\")\n",
    "        \n",
    "    return balance        \n",
    "            \n",
    "        \n",
    "try:\n",
    "    balance=checkbalance()\n",
    "        \n",
    "        \n",
    "except balanceexception as be:\n",
    "        print(be)\n",
    "        \n",
    "        \n",
    "else:\n",
    "    print(\"your remaining balance is: \",balance)\n",
    "        \n",
    "        \n",
    "finally:\n",
    "    print(\"Thank you sir\")\n",
    "    \n",
    "        \n",
    "        \n",
    "        "
   ]
  },
  {
   "cell_type": "markdown",
   "id": "dee521ac",
   "metadata": {},
   "source": [
    "### Tkinter"
   ]
  },
  {
   "cell_type": "code",
   "execution_count": 1,
   "id": "98c42b10",
   "metadata": {},
   "outputs": [],
   "source": [
    "from tkinter import*"
   ]
  },
  {
   "cell_type": "code",
   "execution_count": 4,
   "id": "b2b4d3bd",
   "metadata": {},
   "outputs": [],
   "source": [
    "window = Tk()"
   ]
  },
  {
   "cell_type": "code",
   "execution_count": 7,
   "id": "e5534aae",
   "metadata": {},
   "outputs": [],
   "source": [
    "def add():\n",
    "    a = int(entry1.get())\n",
    "    b = int(entry2.get())\n",
    "    x = a+b\n",
    "    result_plus.insert(0,c)\n",
    "    "
   ]
  },
  {
   "cell_type": "code",
   "execution_count": 9,
   "id": "6fa36e37",
   "metadata": {},
   "outputs": [
    {
     "ename": "NameError",
     "evalue": "name 'Lable' is not defined",
     "output_type": "error",
     "traceback": [
      "\u001b[1;31m---------------------------------------------------------------------------\u001b[0m",
      "\u001b[1;31mNameError\u001b[0m                                 Traceback (most recent call last)",
      "Cell \u001b[1;32mIn[9], line 1\u001b[0m\n\u001b[1;32m----> 1\u001b[0m label1 \u001b[38;5;241m=\u001b[39m Lable(window,text \u001b[38;5;241m=\u001b[39m \u001b[38;5;124m\"\u001b[39m\u001b[38;5;124menter no.1\u001b[39m\u001b[38;5;124m\"\u001b[39m,padx \u001b[38;5;241m=\u001b[39m \u001b[38;5;241m20\u001b[39m,pady \u001b[38;5;241m=\u001b[39m \u001b[38;5;241m20\u001b[39m)\n\u001b[0;32m      2\u001b[0m label2 \u001b[38;5;241m=\u001b[39m Lable(window,text \u001b[38;5;241m=\u001b[39m \u001b[38;5;124m\"\u001b[39m\u001b[38;5;124menter no.2\u001b[39m\u001b[38;5;124m\"\u001b[39m,padx \u001b[38;5;241m=\u001b[39m \u001b[38;5;241m20\u001b[39m,pady \u001b[38;5;241m=\u001b[39m \u001b[38;5;241m20\u001b[39m)\n\u001b[0;32m      4\u001b[0m entry1 \u001b[38;5;241m=\u001b[39m Entry(window)\n",
      "\u001b[1;31mNameError\u001b[0m: name 'Lable' is not defined"
     ]
    }
   ],
   "source": [
    "label1 = Lable(window,text = \"enter no.1\",padx = 20,pady = 20)\n",
    "label2 = Lable(window,text = \"enter no.2\",padx = 20,pady = 20)\n",
    "\n",
    "entry1 = Entry(window)\n",
    "entry2 = Entry(window)\n",
    "label1.grid(row=0,column=0)\n",
    "label2.grid(row=1,column=0)\n",
    "entry1.grid(row=0,column=1)"
   ]
  },
  {
   "cell_type": "code",
   "execution_count": null,
   "id": "b401bf69",
   "metadata": {},
   "outputs": [],
   "source": [
    "label1=Label(window,text=\"Enter No.1: \",padx=20,pady=20)\n",
    "label2=Label(window,text=\"Enter No.2: \",padx=20,pady=20)\n",
    "\n",
    "entry1=Entry(window)\n",
    "entry2=Entry(window)\n",
    "label1.grid(row=0,column=0)\n",
    "label2.grid(row=1,column=0)\n",
    "entry1.grid(row=0,column=1)\n",
    "entry2.grid(row=1,column=1)\n",
    "add=Button(window,text=\"add\",command=add)"
   ]
  },
  {
   "cell_type": "code",
   "execution_count": null,
   "id": "edeedafc",
   "metadata": {},
   "outputs": [],
   "source": []
  },
  {
   "cell_type": "code",
   "execution_count": null,
   "id": "6bb0cec3",
   "metadata": {},
   "outputs": [],
   "source": []
  },
  {
   "cell_type": "code",
   "execution_count": null,
   "id": "8055dd73",
   "metadata": {},
   "outputs": [],
   "source": []
  },
  {
   "cell_type": "code",
   "execution_count": null,
   "id": "04a85da7",
   "metadata": {},
   "outputs": [],
   "source": []
  },
  {
   "cell_type": "code",
   "execution_count": null,
   "id": "b596cc13",
   "metadata": {},
   "outputs": [],
   "source": []
  },
  {
   "cell_type": "code",
   "execution_count": 6,
   "id": "3251bfed",
   "metadata": {},
   "outputs": [],
   "source": [
    "def add():\n",
    "    a = int(entry1.get())\n",
    "    b = int(entry2.get())\n",
    "    x = a+b\n",
    "    result_plus.insert(0,c)\n",
    "    "
   ]
  }
 ],
 "metadata": {
  "kernelspec": {
   "display_name": "Python 3 (ipykernel)",
   "language": "python",
   "name": "python3"
  },
  "language_info": {
   "codemirror_mode": {
    "name": "ipython",
    "version": 3
   },
   "file_extension": ".py",
   "mimetype": "text/x-python",
   "name": "python",
   "nbconvert_exporter": "python",
   "pygments_lexer": "ipython3",
   "version": "3.11.5"
  }
 },
 "nbformat": 4,
 "nbformat_minor": 5
}
