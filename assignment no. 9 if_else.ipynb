{
 "cells": [
  {
   "cell_type": "markdown",
   "id": "3f539952",
   "metadata": {},
   "source": [
    "### if_else"
   ]
  },
  {
   "cell_type": "code",
   "execution_count": 9,
   "id": "ebb9cede",
   "metadata": {},
   "outputs": [
    {
     "name": "stdout",
     "output_type": "stream",
     "text": [
      "enter number: -9\n",
      "it's negative number\n"
     ]
    }
   ],
   "source": [
    "#1. Write a program that checks whether a given number is positive or negative.\n",
    "a = int(input(\"enter number: \"))\n",
    "if a>0:\n",
    "    print(\"it's positive number\")\n",
    "else:\n",
    "    print(\"it's negative number\")\n"
   ]
  },
  {
   "cell_type": "code",
   "execution_count": 8,
   "id": "cfb11ead",
   "metadata": {},
   "outputs": [
    {
     "name": "stdout",
     "output_type": "stream",
     "text": [
      "enter number: 8\n",
      "it's even number\n"
     ]
    }
   ],
   "source": [
    "#2. Create a program that determines if an entered number is even or odd.\n",
    "a = int(input(\"enter number: \"))\n",
    "if a % 2 == 0:\n",
    "    print(\"it's even number\")\n",
    "else:\n",
    "    print(\"it's odd number\")"
   ]
  },
  {
   "cell_type": "code",
   "execution_count": 4,
   "id": "d11b9a96",
   "metadata": {},
   "outputs": [
    {
     "name": "stdout",
     "output_type": "stream",
     "text": [
      "enter number 100\n",
      "enter number 50\n",
      "100 is larger number\n"
     ]
    }
   ],
   "source": [
    "#3. Write a program that compares two numbers and prints the larger one.\n",
    "a = int(input(\"enter number \"))\n",
    "s = int(input(\"enter number \"))\n",
    "if a>s:\n",
    "    print(a, \"is larger number\")\n",
    "else:\n",
    "    print(a, \"is smaller number\")\n",
    "    "
   ]
  },
  {
   "cell_type": "code",
   "execution_count": 26,
   "id": "6d066f03",
   "metadata": {},
   "outputs": [
    {
     "name": "stdout",
     "output_type": "stream",
     "text": [
      "enter the age 23\n",
      "it's adult\n"
     ]
    }
   ],
   "source": [
    "#4. Create a program that asks for the user's age and prints whether they are a child, teenager, or adult.\n",
    "age = int(input(\"enter the age \"))\n",
    "if age<11:\n",
    "    print(\"it's child\")\n",
    "elif 11<= age <=22:\n",
    "    print(\"it's teenager\")\n",
    "else:\n",
    "    print(\"it's adult\")\n",
    "    \n"
   ]
  },
  {
   "cell_type": "code",
   "execution_count": 28,
   "id": "43e1ad07",
   "metadata": {},
   "outputs": [
    {
     "name": "stdout",
     "output_type": "stream",
     "text": [
      "enter year 2024\n",
      "it's leap year\n"
     ]
    }
   ],
   "source": [
    "#5. Write a program that checks if a given year is a leap year.\n",
    "year = int(input(\"enter year \"))\n",
    "if year % 4 ==0 and year % 100 != 0:\n",
    "    print(\"it's leap year\")\n",
    "elif year % 100 ==0:\n",
    "    print(\"it's not leap year\")\n",
    "elif year % 400==0:\n",
    "    print(\"it's leap year\")\n",
    "else:\n",
    "    print(\"it's not leap year\")\n",
    "\n"
   ]
  },
  {
   "cell_type": "code",
   "execution_count": 29,
   "id": "ebb897de",
   "metadata": {},
   "outputs": [
    {
     "name": "stdout",
     "output_type": "stream",
     "text": [
      "emter number 12\n",
      "enter number 12\n",
      "it is equal number\n"
     ]
    }
   ],
   "source": [
    "#6. Create a program that takes two numbers as input and prints whether \n",
    "#they are equal or different.\n",
    "num1 = int(input(\"emter number \"))\n",
    "num2 = int(input(\"enter number \"))\n",
    "if num1 == num2:\n",
    "    print(\"it is equal number\")\n",
    "else:\n",
    "    print(\"it is not equal number\")"
   ]
  },
  {
   "cell_type": "code",
   "execution_count": 1,
   "id": "dfcd6884",
   "metadata": {},
   "outputs": [
    {
     "name": "stdout",
     "output_type": "stream",
     "text": [
      "enter the word 12\n",
      "its not an alphabet\n"
     ]
    }
   ],
   "source": [
    "#7. Write a program that checks if a given character \n",
    "#is a vowel or a consonant.\n",
    "word = str(input(\"enter the word \"))\n",
    "if word in 'aeiou':\n",
    "    print(\"its a vowel\")\n",
    "elif word in 'bcdfghjklmnpqrstrvwxyz':\n",
    "    print(\"its a consonant\")\n",
    "else:\n",
    "    print(\"its not an alphabet\")"
   ]
  },
  {
   "cell_type": "code",
   "execution_count": 9,
   "id": "eecc2536",
   "metadata": {},
   "outputs": [
    {
     "name": "stdout",
     "output_type": "stream",
     "text": [
      "total price 670\n",
      "total price 603.0\n"
     ]
    }
   ],
   "source": [
    "#8. Create a program that calculates the total price of items in a \n",
    "#shopping cart. Apply a 10% discount if the total exceeds $100.\n",
    "price = [120,130,140,30,50,40,160]\n",
    "total = 0\n",
    "for i in price:\n",
    "    total=total+i\n",
    "print(\"total price\",total)\n",
    "if total>100:\n",
    "    total=total-0.1*total\n",
    "    print('total price',total)\n",
    "else:\n",
    "    print('total price we have to pay',price)\n",
    "    \n"
   ]
  },
  {
   "cell_type": "code",
   "execution_count": 16,
   "id": "29f08f5a",
   "metadata": {},
   "outputs": [
    {
     "name": "stdout",
     "output_type": "stream",
     "text": [
      "enter the number 3\n",
      "its a prime number\n"
     ]
    }
   ],
   "source": [
    "#9. Write a program that checks if a given number is prime.\n",
    "n = int(input('enter the number '))\n",
    "for i in range(2,n):\n",
    "    if n%i==0:\n",
    "        print('not a prime number')\n",
    "        break\n",
    "else:\n",
    "    print('its a prime number')"
   ]
  },
  {
   "cell_type": "code",
   "execution_count": 7,
   "id": "3b0fc827",
   "metadata": {},
   "outputs": [
    {
     "name": "stdout",
     "output_type": "stream",
     "text": [
      "enter the weight in kg 50\n",
      "enter the height in meter 180\n",
      "it is normal weight\n"
     ]
    }
   ],
   "source": [
    "#10.Create a program that calculates the BMI (Body Mass Index) based on \n",
    "#the user's weight and height, and then categorizes it as underweight, \n",
    "#normal weight, overweight, or obese\n",
    "weight = int(input('enter the weight in kg ' ))\n",
    "height = int(input('enter the height in meter ' ))\n",
    "BMI = weight/height*height\n",
    "if 0<=BMI<=30:\n",
    "    print(\"it is underweight\")\n",
    "elif 30<=BMI<=50:\n",
    "    print(\"it is normal weight\")\n",
    "else:\n",
    "    print(\"it is overweight\")\n",
    "    "
   ]
  },
  {
   "cell_type": "code",
   "execution_count": null,
   "id": "37e48284",
   "metadata": {},
   "outputs": [],
   "source": []
  },
  {
   "cell_type": "code",
   "execution_count": null,
   "id": "e1fa9e29",
   "metadata": {},
   "outputs": [],
   "source": []
  },
  {
   "cell_type": "code",
   "execution_count": null,
   "id": "e433d63a",
   "metadata": {},
   "outputs": [],
   "source": []
  },
  {
   "cell_type": "code",
   "execution_count": null,
   "id": "02c410cc",
   "metadata": {},
   "outputs": [],
   "source": []
  },
  {
   "cell_type": "code",
   "execution_count": null,
   "id": "8ddaa3c5",
   "metadata": {},
   "outputs": [],
   "source": []
  },
  {
   "cell_type": "code",
   "execution_count": null,
   "id": "762e3b87",
   "metadata": {},
   "outputs": [],
   "source": []
  },
  {
   "cell_type": "code",
   "execution_count": null,
   "id": "2d44d5f9",
   "metadata": {},
   "outputs": [],
   "source": []
  },
  {
   "cell_type": "code",
   "execution_count": null,
   "id": "2cc7d927",
   "metadata": {},
   "outputs": [],
   "source": []
  },
  {
   "cell_type": "code",
   "execution_count": null,
   "id": "0b88469d",
   "metadata": {},
   "outputs": [],
   "source": []
  },
  {
   "cell_type": "code",
   "execution_count": null,
   "id": "60c69049",
   "metadata": {},
   "outputs": [],
   "source": []
  },
  {
   "cell_type": "code",
   "execution_count": null,
   "id": "55682a54",
   "metadata": {},
   "outputs": [],
   "source": []
  },
  {
   "cell_type": "code",
   "execution_count": null,
   "id": "9a4674a4",
   "metadata": {},
   "outputs": [],
   "source": []
  },
  {
   "cell_type": "code",
   "execution_count": null,
   "id": "d8821043",
   "metadata": {},
   "outputs": [],
   "source": []
  },
  {
   "cell_type": "code",
   "execution_count": null,
   "id": "9fe5fa54",
   "metadata": {},
   "outputs": [],
   "source": []
  },
  {
   "cell_type": "code",
   "execution_count": null,
   "id": "085d9558",
   "metadata": {},
   "outputs": [],
   "source": []
  },
  {
   "cell_type": "code",
   "execution_count": null,
   "id": "f24eef9c",
   "metadata": {},
   "outputs": [],
   "source": []
  },
  {
   "cell_type": "code",
   "execution_count": null,
   "id": "a1c17306",
   "metadata": {},
   "outputs": [],
   "source": []
  },
  {
   "cell_type": "code",
   "execution_count": null,
   "id": "eb5b534b",
   "metadata": {},
   "outputs": [],
   "source": []
  },
  {
   "cell_type": "code",
   "execution_count": null,
   "id": "089f56dd",
   "metadata": {},
   "outputs": [],
   "source": []
  },
  {
   "cell_type": "code",
   "execution_count": null,
   "id": "7ca6d021",
   "metadata": {},
   "outputs": [],
   "source": []
  },
  {
   "cell_type": "code",
   "execution_count": null,
   "id": "5958422f",
   "metadata": {},
   "outputs": [],
   "source": []
  },
  {
   "cell_type": "code",
   "execution_count": null,
   "id": "842e235d",
   "metadata": {},
   "outputs": [],
   "source": []
  },
  {
   "cell_type": "code",
   "execution_count": null,
   "id": "210efe86",
   "metadata": {},
   "outputs": [],
   "source": []
  },
  {
   "cell_type": "code",
   "execution_count": null,
   "id": "b0c20471",
   "metadata": {},
   "outputs": [],
   "source": []
  },
  {
   "cell_type": "code",
   "execution_count": null,
   "id": "b7dde455",
   "metadata": {},
   "outputs": [],
   "source": []
  }
 ],
 "metadata": {
  "kernelspec": {
   "display_name": "Python 3 (ipykernel)",
   "language": "python",
   "name": "python3"
  },
  "language_info": {
   "codemirror_mode": {
    "name": "ipython",
    "version": 3
   },
   "file_extension": ".py",
   "mimetype": "text/x-python",
   "name": "python",
   "nbconvert_exporter": "python",
   "pygments_lexer": "ipython3",
   "version": "3.11.5"
  }
 },
 "nbformat": 4,
 "nbformat_minor": 5
}
